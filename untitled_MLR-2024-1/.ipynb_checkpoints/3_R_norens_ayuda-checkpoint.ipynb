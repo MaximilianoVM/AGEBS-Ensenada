{
 "cells": [
  {
   "cell_type": "code",
   "execution_count": 20,
   "metadata": {
    "vscode": {
     "languageId": "r"
    }
   },
   "outputs": [],
   "source": [
    "# Cargar librerías\n",
    "library(tidyverse)\n",
    "library(sf)\n",
    "library(ggplot2)"
   ]
  },
  {
   "cell_type": "code",
   "execution_count": 21,
   "metadata": {
    "vscode": {
     "languageId": "r"
    }
   },
   "outputs": [],
   "source": [
    "# Cargar los datos\n",
    "#data10 <- read.csv(\"DATA/3_clean10.csv\")\n",
    "#data20 <- read.csv(\"DATA/3_clean20.csv\")\n",
    "\n",
    "data10 <- read.csv(\"DATA/FULL_NORENS_AGEBS_10.csv\")\n",
    "data20 <- read.csv(\"DATA/FULL_NORENS_AGEBS_20.csv\")"
   ]
  },
  {
   "cell_type": "markdown",
   "metadata": {},
   "source": [
    "<b>Variables sociales</b>\n",
    "1. Población total (PT)\n",
    "2. Niños de 0-4 años (N)\n",
    "3. Adultos mayores de 65 años (AM)\n",
    "4. Grado promedio de escolaridad (E)\n",
    "5. Promedio de hijos nacidos vivos (H)\n",
    "\n",
    "<b>Variables espaciales</b>\n",
    "\n",
    "6. Número de viviendas (V)\n",
    "7. Promedio de ocupantes por cuar-\n",
    "to (OC)\n",
    "8. Viviendas particulares habitadas\n",
    "que disponen de computadora (C)"
   ]
  },
  {
   "cell_type": "code",
   "execution_count": 22,
   "metadata": {
    "vscode": {
     "languageId": "r"
    }
   },
   "outputs": [
    {
     "name": "stdout",
     "output_type": "stream",
     "text": [
      "Rows: 128\n",
      "Columns: 12\n",
      "$ index      \u001b[3m\u001b[90m<int>\u001b[39m\u001b[23m 4, 68, 97, 151, 180, 227, 241, 303, 359, 379, 406, 442, 467…\n",
      "$ AGEB       \u001b[3m\u001b[90m<chr>\u001b[39m\u001b[23m \"0435\", \"044A\", \"0454\", \"0488\", \"0492\", \"0505\", \"0524\", \"05…\n",
      "$ P_TOTAL    \u001b[3m\u001b[90m<dbl>\u001b[39m\u001b[23m 3632, 1539, 2211, 2045, 557, 730, 3040, 1871, 2426, 1575, 1…\n",
      "$ POB65_MAS  \u001b[3m\u001b[90m<dbl>\u001b[39m\u001b[23m 325, 224, 188, 140, 15, 135, 276, 223, 194, 272, 209, 154, …\n",
      "$ GRAPROES   \u001b[3m\u001b[90m<dbl>\u001b[39m\u001b[23m 9.617302, 9.569643, 10.994717, 8.206786, 7.670000, 14.02615…\n",
      "$ PROM_HNV   \u001b[3m\u001b[90m<dbl>\u001b[39m\u001b[23m 2.1933333, 2.2642857, 1.9290566, 2.4053571, 0.9128261, 1.99…\n",
      "$ VIVTOT     \u001b[3m\u001b[90m<dbl>\u001b[39m\u001b[23m 1321, 549, 742, 635, 281, 300, 1083, 679, 903, 630, 604, 46…\n",
      "$ PRO_OCUP_C \u001b[3m\u001b[90m<dbl>\u001b[39m\u001b[23m 0.85301587, 0.75071429, 0.66188679, 1.05607143, 0.37260870,…\n",
      "$ PROM_OCUP  \u001b[3m\u001b[90m<dbl>\u001b[39m\u001b[23m 3.3525397, 3.1521429, 3.1458491, 3.7960714, 1.6482609, 2.86…\n",
      "$ VPH_PC     \u001b[3m\u001b[90m<dbl>\u001b[39m\u001b[23m 584, 254, 438, 189, 189, 199, 497, 232, 612, 317, 335, 260,…\n",
      "$ OTRAENT    \u001b[3m\u001b[90m<dbl>\u001b[39m\u001b[23m 1241, 478, 760, 743, 271, 282, 1074, 669, 873, 469, 512, 34…\n",
      "$ P_0A5      \u001b[3m\u001b[90m<dbl>\u001b[39m\u001b[23m 419, 135, 118, 290, 39, 20, 364, 174, 196, 146, 62, 93, 279…\n",
      "Rows: 128\n",
      "Columns: 12\n",
      "$ index      \u001b[3m\u001b[90m<int>\u001b[39m\u001b[23m 442, 502, 530, 584, 613, 650, 664, 727, 784, 804, 831, 867,…\n",
      "$ AGEB       \u001b[3m\u001b[90m<chr>\u001b[39m\u001b[23m \"0435\", \"044A\", \"0454\", \"0488\", \"0492\", \"0505\", \"0524\", \"05…\n",
      "$ P_TOTAL    \u001b[3m\u001b[90m<dbl>\u001b[39m\u001b[23m 3798, 1429, 2339, 2214, 956, 784, 2567, 1827, 2399, 1280, 1…\n",
      "$ POB65_MAS  \u001b[3m\u001b[90m<dbl>\u001b[39m\u001b[23m 457, 257, 296, 251, 131, 164, 319, 281, 279, 246, 284, 215,…\n",
      "$ GRAPROES   \u001b[3m\u001b[90m<dbl>\u001b[39m\u001b[23m 10.768983, 10.522963, 12.051698, 9.373571, 12.295000, 14.70…\n",
      "$ PROM_HNV   \u001b[3m\u001b[90m<dbl>\u001b[39m\u001b[23m 1.9822034, 2.0748148, 1.6115094, 2.2557143, 1.2647222, 1.88…\n",
      "$ VIVTOT     \u001b[3m\u001b[90m<dbl>\u001b[39m\u001b[23m 1382, 573, 883, 750, 454, 353, 1083, 701, 952, 566, 610, 47…\n",
      "$ PRO_OCUP_C \u001b[3m\u001b[90m<dbl>\u001b[39m\u001b[23m 0.7766102, 0.6259259, 0.6083019, 0.8932143, 0.5847222, 0.49…\n",
      "$ PROM_OCUP  \u001b[3m\u001b[90m<dbl>\u001b[39m\u001b[23m 3.1376271, 2.6466667, 2.8441509, 3.3117857, 2.3869444, 2.66…\n",
      "$ VPH_PC     \u001b[3m\u001b[90m<dbl>\u001b[39m\u001b[23m 782, 330, 531, 309, 360, 250, 493, 324, 663, 360, 421, 312,…\n",
      "$ OTRAENT    \u001b[3m\u001b[90m<dbl>\u001b[39m\u001b[23m 1273, 471, 718, 728, 368, 279, 830, 547, 745, 379, 415, 349…\n",
      "$ P_0A5      \u001b[3m\u001b[90m<dbl>\u001b[39m\u001b[23m 259, 83, 118, 233, 33, 23, 157, 58, 140, 190, 44, 24, 290, …\n"
     ]
    },
    {
     "data": {
      "text/plain": [
       "     index          AGEB              P_TOTAL         POB65_MAS    \n",
       " Min.   :   4   Length:128         Min.   :   0.0   Min.   :  0.0  \n",
       " 1st Qu.:1194   Class :character   1st Qu.: 715.8   1st Qu.:  6.0  \n",
       " Median :2147   Mode  :character   Median :1604.5   Median : 79.5  \n",
       " Mean   :2338                      Mean   :1586.7   Mean   :116.6  \n",
       " 3rd Qu.:3263                      3rd Qu.:2313.2   3rd Qu.:208.2  \n",
       " Max.   :5394                      Max.   :5443.0   Max.   :375.0  \n",
       "    GRAPROES         PROM_HNV         VIVTOT         PRO_OCUP_C    \n",
       " Min.   : 0.000   Min.   :0.000   Min.   :   0.0   Min.   :0.0000  \n",
       " 1st Qu.: 7.200   1st Qu.:1.539   1st Qu.: 265.8   1st Qu.:0.6614  \n",
       " Median : 8.828   Median :1.918   Median : 601.0   Median :0.8149  \n",
       " Mean   : 8.605   Mean   :1.843   Mean   : 562.2   Mean   :0.8544  \n",
       " 3rd Qu.:10.289   3rd Qu.:2.205   3rd Qu.: 852.2   3rd Qu.:1.0069  \n",
       " Max.   :14.026   Max.   :2.910   Max.   :1581.0   Max.   :2.3500  \n",
       "   PROM_OCUP         VPH_PC          OTRAENT           P_0A5      \n",
       " Min.   :0.000   Min.   :  0.00   Min.   :   0.0   Min.   :  0.0  \n",
       " 1st Qu.:2.687   1st Qu.: 80.25   1st Qu.: 270.5   1st Qu.: 59.5  \n",
       " Median :3.115   Median :226.50   Median : 568.0   Median :151.0  \n",
       " Mean   :2.968   Mean   :241.45   Mean   : 598.1   Mean   :178.6  \n",
       " 3rd Qu.:3.449   3rd Qu.:360.50   3rd Qu.: 874.0   3rd Qu.:279.0  \n",
       " Max.   :4.605   Max.   :673.00   Max.   :1987.0   Max.   :557.0  "
      ]
     },
     "metadata": {},
     "output_type": "display_data"
    }
   ],
   "source": [
    "# Explorar los datos\n",
    "glimpse(data10)\n",
    "glimpse(data20)\n",
    "summary(data10)\n",
    "#summary(data20)"
   ]
  },
  {
   "cell_type": "code",
   "execution_count": 23,
   "metadata": {
    "vscode": {
     "languageId": "r"
    }
   },
   "outputs": [
    {
     "name": "stdout",
     "output_type": "stream",
     "text": [
      "Rows: 128\n",
      "Columns: 23\n",
      "$ index_2010      \u001b[3m\u001b[90m<int>\u001b[39m\u001b[23m 4, 68, 97, 151, 180, 227, 241, 303, 359, 379, 406, 442…\n",
      "$ AGEB            \u001b[3m\u001b[90m<chr>\u001b[39m\u001b[23m \"0435\", \"044A\", \"0454\", \"0488\", \"0492\", \"0505\", \"0524\"…\n",
      "$ P_TOTAL_2010    \u001b[3m\u001b[90m<dbl>\u001b[39m\u001b[23m 3632, 1539, 2211, 2045, 557, 730, 3040, 1871, 2426, 15…\n",
      "$ POB65_MAS_2010  \u001b[3m\u001b[90m<dbl>\u001b[39m\u001b[23m 325, 224, 188, 140, 15, 135, 276, 223, 194, 272, 209, …\n",
      "$ GRAPROES_2010   \u001b[3m\u001b[90m<dbl>\u001b[39m\u001b[23m 9.617302, 9.569643, 10.994717, 8.206786, 7.670000, 14.…\n",
      "$ PROM_HNV_2010   \u001b[3m\u001b[90m<dbl>\u001b[39m\u001b[23m 2.1933333, 2.2642857, 1.9290566, 2.4053571, 0.9128261,…\n",
      "$ VIVTOT_2010     \u001b[3m\u001b[90m<dbl>\u001b[39m\u001b[23m 1321, 549, 742, 635, 281, 300, 1083, 679, 903, 630, 60…\n",
      "$ PRO_OCUP_C_2010 \u001b[3m\u001b[90m<dbl>\u001b[39m\u001b[23m 0.85301587, 0.75071429, 0.66188679, 1.05607143, 0.3726…\n",
      "$ PROM_OCUP_2010  \u001b[3m\u001b[90m<dbl>\u001b[39m\u001b[23m 3.3525397, 3.1521429, 3.1458491, 3.7960714, 1.6482609,…\n",
      "$ VPH_PC_2010     \u001b[3m\u001b[90m<dbl>\u001b[39m\u001b[23m 584, 254, 438, 189, 189, 199, 497, 232, 612, 317, 335,…\n",
      "$ OTRAENT_2010    \u001b[3m\u001b[90m<dbl>\u001b[39m\u001b[23m 1241, 478, 760, 743, 271, 282, 1074, 669, 873, 469, 51…\n",
      "$ P_0A5_2010      \u001b[3m\u001b[90m<dbl>\u001b[39m\u001b[23m 419, 135, 118, 290, 39, 20, 364, 174, 196, 146, 62, 93…\n",
      "$ index_2020      \u001b[3m\u001b[90m<int>\u001b[39m\u001b[23m 442, 502, 530, 584, 613, 650, 664, 727, 784, 804, 831,…\n",
      "$ P_TOTAL_2020    \u001b[3m\u001b[90m<dbl>\u001b[39m\u001b[23m 3798, 1429, 2339, 2214, 956, 784, 2567, 1827, 2399, 12…\n",
      "$ POB65_MAS_2020  \u001b[3m\u001b[90m<dbl>\u001b[39m\u001b[23m 457, 257, 296, 251, 131, 164, 319, 281, 279, 246, 284,…\n",
      "$ GRAPROES_2020   \u001b[3m\u001b[90m<dbl>\u001b[39m\u001b[23m 10.768983, 10.522963, 12.051698, 9.373571, 12.295000, …\n",
      "$ PROM_HNV_2020   \u001b[3m\u001b[90m<dbl>\u001b[39m\u001b[23m 1.9822034, 2.0748148, 1.6115094, 2.2557143, 1.2647222,…\n",
      "$ VIVTOT_2020     \u001b[3m\u001b[90m<dbl>\u001b[39m\u001b[23m 1382, 573, 883, 750, 454, 353, 1083, 701, 952, 566, 61…\n",
      "$ PRO_OCUP_C_2020 \u001b[3m\u001b[90m<dbl>\u001b[39m\u001b[23m 0.7766102, 0.6259259, 0.6083019, 0.8932143, 0.5847222,…\n",
      "$ PROM_OCUP_2020  \u001b[3m\u001b[90m<dbl>\u001b[39m\u001b[23m 3.1376271, 2.6466667, 2.8441509, 3.3117857, 2.3869444,…\n",
      "$ VPH_PC_2020     \u001b[3m\u001b[90m<dbl>\u001b[39m\u001b[23m 782, 330, 531, 309, 360, 250, 493, 324, 663, 360, 421,…\n",
      "$ OTRAENT_2020    \u001b[3m\u001b[90m<dbl>\u001b[39m\u001b[23m 1273, 471, 718, 728, 368, 279, 830, 547, 745, 379, 415…\n",
      "$ P_0A5_2020      \u001b[3m\u001b[90m<dbl>\u001b[39m\u001b[23m 259, 83, 118, 233, 33, 23, 157, 58, 140, 190, 44, 24, …\n"
     ]
    }
   ],
   "source": [
    "#unir los datos de 2010 y 2020 por el identificador común (por ejemplo, AGEB)\n",
    "data_combined <- inner_join(data10, data20, by = \"AGEB\", suffix = c(\"_2010\", \"_2020\"))\n",
    "\n",
    "glimpse(data_combined)"
   ]
  },
  {
   "cell_type": "code",
   "execution_count": 24,
   "metadata": {
    "vscode": {
     "languageId": "r"
    }
   },
   "outputs": [
    {
     "name": "stdout",
     "output_type": "stream",
     "text": [
      "Rows: 128\n",
      "Columns: 40\n",
      "$ index_2010              \u001b[3m\u001b[90m<int>\u001b[39m\u001b[23m 4, 68, 97, 151, 180, 227, 241, 303, 359, 379, …\n",
      "$ AGEB                    \u001b[3m\u001b[90m<chr>\u001b[39m\u001b[23m \"0435\", \"044A\", \"0454\", \"0488\", \"0492\", \"0505\"…\n",
      "$ P_TOTAL_2010            \u001b[3m\u001b[90m<dbl>\u001b[39m\u001b[23m 3632, 1539, 2211, 2045, 557, 730, 3040, 1871, …\n",
      "$ POB65_MAS_2010          \u001b[3m\u001b[90m<dbl>\u001b[39m\u001b[23m 325, 224, 188, 140, 15, 135, 276, 223, 194, 27…\n",
      "$ GRAPROES_2010           \u001b[3m\u001b[90m<dbl>\u001b[39m\u001b[23m 9.617302, 9.569643, 10.994717, 8.206786, 7.670…\n",
      "$ PROM_HNV_2010           \u001b[3m\u001b[90m<dbl>\u001b[39m\u001b[23m 2.1933333, 2.2642857, 1.9290566, 2.4053571, 0.…\n",
      "$ VIVTOT_2010             \u001b[3m\u001b[90m<dbl>\u001b[39m\u001b[23m 1321, 549, 742, 635, 281, 300, 1083, 679, 903,…\n",
      "$ PRO_OCUP_C_2010         \u001b[3m\u001b[90m<dbl>\u001b[39m\u001b[23m 0.85301587, 0.75071429, 0.66188679, 1.05607143…\n",
      "$ PROM_OCUP_2010          \u001b[3m\u001b[90m<dbl>\u001b[39m\u001b[23m 3.3525397, 3.1521429, 3.1458491, 3.7960714, 1.…\n",
      "$ VPH_PC_2010             \u001b[3m\u001b[90m<dbl>\u001b[39m\u001b[23m 584, 254, 438, 189, 189, 199, 497, 232, 612, 3…\n",
      "$ OTRAENT_2010            \u001b[3m\u001b[90m<dbl>\u001b[39m\u001b[23m 1241, 478, 760, 743, 271, 282, 1074, 669, 873,…\n",
      "$ P_0A5_2010              \u001b[3m\u001b[90m<dbl>\u001b[39m\u001b[23m 419, 135, 118, 290, 39, 20, 364, 174, 196, 146…\n",
      "$ index_2020              \u001b[3m\u001b[90m<int>\u001b[39m\u001b[23m 442, 502, 530, 584, 613, 650, 664, 727, 784, 8…\n",
      "$ P_TOTAL_2020            \u001b[3m\u001b[90m<dbl>\u001b[39m\u001b[23m 3798, 1429, 2339, 2214, 956, 784, 2567, 1827, …\n",
      "$ POB65_MAS_2020          \u001b[3m\u001b[90m<dbl>\u001b[39m\u001b[23m 457, 257, 296, 251, 131, 164, 319, 281, 279, 2…\n",
      "$ GRAPROES_2020           \u001b[3m\u001b[90m<dbl>\u001b[39m\u001b[23m 10.768983, 10.522963, 12.051698, 9.373571, 12.…\n",
      "$ PROM_HNV_2020           \u001b[3m\u001b[90m<dbl>\u001b[39m\u001b[23m 1.9822034, 2.0748148, 1.6115094, 2.2557143, 1.…\n",
      "$ VIVTOT_2020             \u001b[3m\u001b[90m<dbl>\u001b[39m\u001b[23m 1382, 573, 883, 750, 454, 353, 1083, 701, 952,…\n",
      "$ PRO_OCUP_C_2020         \u001b[3m\u001b[90m<dbl>\u001b[39m\u001b[23m 0.7766102, 0.6259259, 0.6083019, 0.8932143, 0.…\n",
      "$ PROM_OCUP_2020          \u001b[3m\u001b[90m<dbl>\u001b[39m\u001b[23m 3.1376271, 2.6466667, 2.8441509, 3.3117857, 2.…\n",
      "$ VPH_PC_2020             \u001b[3m\u001b[90m<dbl>\u001b[39m\u001b[23m 782, 330, 531, 309, 360, 250, 493, 324, 663, 3…\n",
      "$ OTRAENT_2020            \u001b[3m\u001b[90m<dbl>\u001b[39m\u001b[23m 1273, 471, 718, 728, 368, 279, 830, 547, 745, …\n",
      "$ P_0A5_2020              \u001b[3m\u001b[90m<dbl>\u001b[39m\u001b[23m 259, 83, 118, 233, 33, 23, 157, 58, 140, 190, …\n",
      "$ cambio_poblacion        \u001b[3m\u001b[90m<dbl>\u001b[39m\u001b[23m 0.04570485, -0.07147498, 0.05789236, 0.0826405…\n",
      "$ cambio_ninos            \u001b[3m\u001b[90m<dbl>\u001b[39m\u001b[23m -0.38186158, -0.38518519, 0.00000000, -0.19655…\n",
      "$ cambio_adultos_mayores  \u001b[3m\u001b[90m<dbl>\u001b[39m\u001b[23m 0.406153846, 0.147321429, 0.574468085, 0.79285…\n",
      "$ cambio_educacion        \u001b[3m\u001b[90m<dbl>\u001b[39m\u001b[23m 0.11975100, 0.09961919, 0.09613537, 0.14217329…\n",
      "$ cambio_hijos            \u001b[3m\u001b[90m<dbl>\u001b[39m\u001b[23m -0.0962598527, -0.0836779998, -0.1646126761, -…\n",
      "$ cambio_viviendas        \u001b[3m\u001b[90m<dbl>\u001b[39m\u001b[23m 0.046177139, 0.043715847, 0.190026954, 0.18110…\n",
      "$ cambio_ocupantes        \u001b[3m\u001b[90m<dbl>\u001b[39m\u001b[23m -0.06410441, -0.16035954, -0.09590356, -0.1275…\n",
      "$ cambio_computadora      \u001b[3m\u001b[90m<dbl>\u001b[39m\u001b[23m 0.33904110, 0.29921260, 0.21232877, 0.63492063…\n",
      "$ puntaje_poblacion       \u001b[3m\u001b[90m<dbl>\u001b[39m\u001b[23m -1, -1, -1, -1, -1, -1, -1, -1, -1, -1, -1, -1…\n",
      "$ puntaje_ninos           \u001b[3m\u001b[90m<dbl>\u001b[39m\u001b[23m 1, 1, 1, 1, 1, 1, 1, 1, 1, 1, 1, 1, 1, 1, -1, …\n",
      "$ puntaje_adultos_mayores \u001b[3m\u001b[90m<dbl>\u001b[39m\u001b[23m 1, 1, 1, 1, 1, 1, 1, 1, 1, 1, 1, 1, 1, 1, -1, …\n",
      "$ puntaje_educacion       \u001b[3m\u001b[90m<dbl>\u001b[39m\u001b[23m -1, -1, -1, -1, -1, -1, -1, -1, -1, -1, -1, -1…\n",
      "$ puntaje_hijos           \u001b[3m\u001b[90m<dbl>\u001b[39m\u001b[23m 1, 1, 1, 1, 1, 1, 1, 1, 1, 1, 1, 1, 1, 1, 1, 1…\n",
      "$ puntaje_viviendas       \u001b[3m\u001b[90m<dbl>\u001b[39m\u001b[23m -1, -1, -1, -1, -1, -1, -1, -1, -1, -1, -1, -1…\n",
      "$ puntaje_ocupantes       \u001b[3m\u001b[90m<dbl>\u001b[39m\u001b[23m 1, 1, 1, 1, 1, 1, 1, 1, 1, 1, 1, 1, 1, 1, 1, 1…\n",
      "$ puntaje_computadora     \u001b[3m\u001b[90m<dbl>\u001b[39m\u001b[23m -1, -1, -1, -1, -1, -1, -1, -1, -1, -1, -1, -1…\n",
      "$ ITSE                    \u001b[3m\u001b[90m<dbl>\u001b[39m\u001b[23m 0, 0, 0, 0, 0, 0, 0, 0, 0, 0, 0, 0, 0, 0, -4, …\n"
     ]
    },
    {
     "data": {
      "text/plain": [
       "   Min. 1st Qu.  Median    Mean 3rd Qu.    Max.    NA's \n",
       "-4.0000  0.0000  0.0000 -0.3443  0.0000  0.0000       6 "
      ]
     },
     "metadata": {},
     "output_type": "display_data"
    }
   ],
   "source": [
    "# Crear nuevas variables con mutate\n",
    "data_combined <- data_combined %>%\n",
    "  mutate(\n",
    "    cambio_poblacion = (P_TOTAL_2020 - P_TOTAL_2010) / P_TOTAL_2010,\n",
    "    cambio_ninos = (P_0A5_2020 - P_0A5_2010) / P_0A5_2010,\n",
    "    cambio_adultos_mayores = (POB65_MAS_2020 - POB65_MAS_2010) / POB65_MAS_2010,\n",
    "    cambio_educacion = (GRAPROES_2020 - GRAPROES_2010) / GRAPROES_2010,\n",
    "    cambio_hijos = (PROM_HNV_2020 - PROM_HNV_2010) / PROM_HNV_2010,\n",
    "    cambio_viviendas = (VIVTOT_2020 - VIVTOT_2010) / VIVTOT_2010,\n",
    "    cambio_ocupantes = (PROM_OCUP_2020 - PROM_OCUP_2010) / PROM_OCUP_2010,\n",
    "    cambio_computadora = (VPH_PC_2020 - VPH_PC_2010) / VPH_PC_2010\n",
    "  )\n",
    "\n",
    "# Calcular las medias de los cambios a nivel ciudad\n",
    "media_cambio_poblacion <- mean(data_combined$cambio_poblacion, na.rm = TRUE)\n",
    "media_cambio_ninos <- mean(data_combined$cambio_ninos, na.rm = TRUE)\n",
    "media_cambio_adultos_mayores <- mean(data_combined$cambio_adultos_mayores, na.rm = TRUE)\n",
    "media_cambio_educacion <- mean(data_combined$cambio_educacion, na.rm = TRUE)\n",
    "media_cambio_hijos <- mean(data_combined$cambio_hijos, na.rm = TRUE)\n",
    "media_cambio_viviendas <- mean(data_combined$cambio_viviendas, na.rm = TRUE)\n",
    "media_cambio_ocupantes <- mean(data_combined$cambio_ocupantes, na.rm = TRUE)\n",
    "media_cambio_computadora <- mean(data_combined$cambio_computadora, na.rm = TRUE)\n",
    "\n",
    "# Asignar puntajes según el método ITSE\n",
    "data_combined <- data_combined %>%\n",
    "  mutate(\n",
    "    puntaje_poblacion = if_else(cambio_poblacion > media_cambio_poblacion, 1, -1),\n",
    "    puntaje_ninos = if_else(cambio_ninos < media_cambio_ninos, 1, -1),\n",
    "    puntaje_adultos_mayores = if_else(cambio_adultos_mayores < media_cambio_adultos_mayores, 1, -1),\n",
    "    puntaje_educacion = if_else(cambio_educacion > media_cambio_educacion, 1, -1),\n",
    "    puntaje_hijos = if_else(cambio_hijos < media_cambio_hijos, 1, -1),\n",
    "    puntaje_viviendas = if_else(cambio_viviendas > media_cambio_viviendas, 1, -1),\n",
    "    puntaje_ocupantes = if_else(cambio_ocupantes < media_cambio_ocupantes, 1, -1),\n",
    "    puntaje_computadora = if_else(cambio_computadora > media_cambio_computadora, 1, -1)\n",
    "  ) %>%\n",
    "  # Calcular el ITSE sumando los puntajes\n",
    "  mutate(ITSE = puntaje_poblacion + puntaje_ninos + puntaje_adultos_mayores +\n",
    "               puntaje_educacion + puntaje_hijos + puntaje_viviendas +\n",
    "               puntaje_ocupantes + puntaje_computadora)\n",
    "\n",
    "# Revisar los nuevos puntajes y el ITSE\n",
    "glimpse(data_combined)\n",
    "summary(data_combined$ITSE)"
   ]
  },
  {
   "cell_type": "code",
   "execution_count": 25,
   "metadata": {
    "vscode": {
     "languageId": "r"
    }
   },
   "outputs": [],
   "source": [
    "#exportar los datos\n",
    "write.csv(data_combined, \"DATA/ENS_AGEBS_ITSE.csv\", row.names = FALSE)"
   ]
  },
  {
   "cell_type": "markdown",
   "metadata": {},
   "source": [
    "# MODELO"
   ]
  },
  {
   "cell_type": "code",
   "execution_count": 26,
   "metadata": {
    "vscode": {
     "languageId": "r"
    }
   },
   "outputs": [
    {
     "ename": "ERROR",
     "evalue": "Error in lm.fit(x, y, offset = offset, singular.ok = singular.ok, ...): NA/NaN/Inf in 'x'\n",
     "output_type": "error",
     "traceback": [
      "Error in lm.fit(x, y, offset = offset, singular.ok = singular.ok, ...): NA/NaN/Inf in 'x'\nTraceback:\n",
      "1. lm(cambio_poblacion ~ cambio_viviendas + cambio_educacion, data = data_combined)",
      "2. lm.fit(x, y, offset = offset, singular.ok = singular.ok, ...)"
     ]
    }
   ],
   "source": [
    "# Modelo de regresión lineal\n",
    "model <- lm(cambio_poblacion ~ cambio_viviendas + cambio_educacion, data = data_combined)\n",
    "\n",
    "# Resumen del modelo\n",
    "summary(model)"
   ]
  }
 ],
 "metadata": {
  "kernelspec": {
   "display_name": "R",
   "language": "R",
   "name": "ir"
  },
  "language_info": {
   "codemirror_mode": "r",
   "file_extension": ".r",
   "mimetype": "text/x-r-source",
   "name": "R",
   "pygments_lexer": "r",
   "version": "4.1.2"
  }
 },
 "nbformat": 4,
 "nbformat_minor": 2
}
