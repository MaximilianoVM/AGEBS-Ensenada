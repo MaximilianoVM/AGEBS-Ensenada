{
 "cells": [
  {
   "cell_type": "code",
   "execution_count": 10,
   "metadata": {},
   "outputs": [],
   "source": [
    "import pandas as pd"
   ]
  },
  {
   "cell_type": "markdown",
   "metadata": {},
   "source": [
    "traemos los datos (censos de poblacion y vivienda 2010 y 2020)"
   ]
  },
  {
   "cell_type": "code",
   "execution_count": 11,
   "metadata": {},
   "outputs": [],
   "source": [
    "data10=pd.read_csv('DATA/RESAGEB2010 - 02 Baja California.txt')\n",
    "data20=pd.read_csv('DATA/RESAGEBURB2020 - 02 Baja California.csv')"
   ]
  },
  {
   "cell_type": "markdown",
   "metadata": {},
   "source": [
    "<h3>limpiando 2010 y 2020"
   ]
  },
  {
   "cell_type": "code",
   "execution_count": 12,
   "metadata": {},
   "outputs": [],
   "source": [
    "\n",
    "#filtramos para solo ensenada\n",
    "clean10 = data10[ data10['NOM_MUN'] == 'Ensenada']\n",
    "#Baja California es redundante\n",
    "clean10 = clean10.drop(columns=['ENTIDAD','NOM_ENT','MUN'])\n",
    "\n",
    "#filtramos para solo ensenada\n",
    "clean20 = data20[ data20['NOM_MUN'] == 'Ensenada' ]\n",
    "#Baja California es redundante\n",
    "clean20 = clean20.drop(columns=['ENTIDAD','NOM_ENT','MUN'])"
   ]
  },
  {
   "cell_type": "code",
   "execution_count": 13,
   "metadata": {},
   "outputs": [],
   "source": [
    "#localidades ensenada 2010\n",
    "localidades10 = [clean10['NOM_LOC'].unique()[i] for i in range(3, len(clean10['NOM_LOC'].unique()))]\n",
    "\n",
    "#localidades ensenada 2020\n",
    "localidades20 = [clean20['NOM_LOC'].unique()[i] for i in range(3, len(clean20['NOM_LOC'].unique()))]"
   ]
  },
  {
   "cell_type": "markdown",
   "metadata": {},
   "source": [
    "hacemos coincidir los nombres de las localidades"
   ]
  },
  {
   "cell_type": "code",
   "execution_count": 14,
   "metadata": {},
   "outputs": [],
   "source": [
    "clean10.loc[clean10['NOM_LOC'] == 'Ejido México (Punta Colonet)', 'NOM_LOC'] = 'Ejido Punta Colnett (Punta Colonet)'\n",
    "clean10.loc[clean10['NOM_LOC'] == 'Benito García (El Zorrillo)', 'NOM_LOC'] = 'Rancho Cañón Buena Vista (El Zorrillo)'"
   ]
  },
  {
   "cell_type": "markdown",
   "metadata": {},
   "source": [
    "hacemos la lista con los elementos que comparten"
   ]
  },
  {
   "cell_type": "code",
   "execution_count": 15,
   "metadata": {},
   "outputs": [
    {
     "data": {
      "text/plain": [
       "['Ensenada',\n",
       " 'Francisco Zarco (Valle de Guadalupe)',\n",
       " 'Rodolfo Sánchez Taboada (Maneadero)',\n",
       " 'Ejido Punta Colnett (Punta Colonet)',\n",
       " 'Real del Castillo Nuevo (Ojos Negros)',\n",
       " 'San Vicente',\n",
       " 'El Sauzal de Rodríguez',\n",
       " 'Lázaro Cárdenas (Valle de la Trinidad)',\n",
       " 'Rancho Cañón Buena Vista (El Zorrillo)']"
      ]
     },
     "execution_count": 15,
     "metadata": {},
     "output_type": "execute_result"
    }
   ],
   "source": [
    "localidades10 = [clean10['NOM_LOC'].unique()[i] for i in range(3, len(clean10['NOM_LOC'].unique()))]\n",
    "localidades20 = [clean20['NOM_LOC'].unique()[i] for i in range(3, len(clean20['NOM_LOC'].unique()))]\n",
    "\n",
    "localidades = [x for x in localidades10 if x in localidades20]\n",
    "\n",
    "localidades"
   ]
  },
  {
   "cell_type": "markdown",
   "metadata": {},
   "source": [
    "nos quedamos solo con las localidades en comun"
   ]
  },
  {
   "cell_type": "code",
   "execution_count": 16,
   "metadata": {},
   "outputs": [],
   "source": [
    "# create a boolean mask to filter rows\n",
    "mask10 = clean10['NOM_LOC'].isin(localidades)\n",
    "\n",
    "# apply the mask to select only the rows with allowed values\n",
    "clean10 = clean10[mask10]\n",
    "\n",
    "clean10 = clean10.reset_index()\n",
    "\n",
    "#========================\n",
    "\n",
    "# create a boolean mask to filter rows\n",
    "mask20 = clean20['NOM_LOC'].isin(localidades)\n",
    "\n",
    "# apply the mask to select only the rows with allowed values\n",
    "clean20 = clean20[mask20]\n",
    "\n",
    "clean20 = clean20.reset_index()"
   ]
  },
  {
   "cell_type": "markdown",
   "metadata": {},
   "source": [
    "diccionario"
   ]
  },
  {
   "cell_type": "code",
   "execution_count": 17,
   "metadata": {},
   "outputs": [],
   "source": [
    "dic10 = {\n",
    "    \"LOC\": \"Clave de localidad\",\n",
    "    \"NOM_LOC\": \"Localidad\",\n",
    "    \"AGEB\": \"Clave de AGEB\",\n",
    "    \"MZA\": \"Clave de manzana\",\n",
    "    \"POBTOT\": \"Poblacion total\",\n",
    "    \"P_0A2\": \"Poblacion de 0 a 2 años\",\n",
    "    \"P_3A5\": \"Poblacion de 3 a 5 años\",\n",
    "    \"POB65_MAS\": \"Poblacion de 65 años y mas\",\n",
    "    \"GRAPROES\": \"Grado promedio de escolaridad\",\n",
    "    \"PROM_HNV\": \"Promedio de hijos nacidos vivos\",\n",
    "    \"VIVTOT\": \"Total de viviendas\",\n",
    "    \"PRO_OCUP_C\":\t\"Promedio de ocupantes por cuarto\",\n",
    "    \"PROM_OCUP\":\t\"Promedio de ocupantes por vivienda\",\n",
    "    \"VPH_PC\":\t\"Viviendas que disponen de computadora\",\n",
    "    \"PNACOE\":\t\"Poblacion nacida en otra entidad\"\n",
    "}"
   ]
  },
  {
   "cell_type": "markdown",
   "metadata": {},
   "source": [
    "renombramos POBTOT en 2020 por P_TOTAL, la de 2010"
   ]
  },
  {
   "cell_type": "code",
   "execution_count": 19,
   "metadata": {},
   "outputs": [
    {
     "data": {
      "text/html": [
       "<div>\n",
       "<style scoped>\n",
       "    .dataframe tbody tr th:only-of-type {\n",
       "        vertical-align: middle;\n",
       "    }\n",
       "\n",
       "    .dataframe tbody tr th {\n",
       "        vertical-align: top;\n",
       "    }\n",
       "\n",
       "    .dataframe thead th {\n",
       "        text-align: right;\n",
       "    }\n",
       "</style>\n",
       "<table border=\"1\" class=\"dataframe\">\n",
       "  <thead>\n",
       "    <tr style=\"text-align: right;\">\n",
       "      <th></th>\n",
       "      <th>clean20</th>\n",
       "      <th>clean10</th>\n",
       "    </tr>\n",
       "  </thead>\n",
       "  <tbody>\n",
       "    <tr>\n",
       "      <th>0</th>\n",
       "      <td>index</td>\n",
       "      <td>index</td>\n",
       "    </tr>\n",
       "    <tr>\n",
       "      <th>1</th>\n",
       "      <td>NOM_MUN</td>\n",
       "      <td>NOM_MUN</td>\n",
       "    </tr>\n",
       "    <tr>\n",
       "      <th>2</th>\n",
       "      <td>LOC</td>\n",
       "      <td>LOC</td>\n",
       "    </tr>\n",
       "    <tr>\n",
       "      <th>3</th>\n",
       "      <td>NOM_LOC</td>\n",
       "      <td>NOM_LOC</td>\n",
       "    </tr>\n",
       "    <tr>\n",
       "      <th>4</th>\n",
       "      <td>AGEB</td>\n",
       "      <td>AGEB</td>\n",
       "    </tr>\n",
       "    <tr>\n",
       "      <th>5</th>\n",
       "      <td>MZA</td>\n",
       "      <td>MZA</td>\n",
       "    </tr>\n",
       "    <tr>\n",
       "      <th>6</th>\n",
       "      <td>P_TOTAL</td>\n",
       "      <td>P_TOTAL</td>\n",
       "    </tr>\n",
       "    <tr>\n",
       "      <th>7</th>\n",
       "      <td>P_0A2</td>\n",
       "      <td>P_0A2</td>\n",
       "    </tr>\n",
       "    <tr>\n",
       "      <th>8</th>\n",
       "      <td>P_3A5</td>\n",
       "      <td>P_3A5</td>\n",
       "    </tr>\n",
       "    <tr>\n",
       "      <th>9</th>\n",
       "      <td>POB65_MAS</td>\n",
       "      <td>POB65_MAS</td>\n",
       "    </tr>\n",
       "    <tr>\n",
       "      <th>10</th>\n",
       "      <td>GRAPROES</td>\n",
       "      <td>GRAPROES</td>\n",
       "    </tr>\n",
       "    <tr>\n",
       "      <th>11</th>\n",
       "      <td>PROM_HNV</td>\n",
       "      <td>PROM_HNV</td>\n",
       "    </tr>\n",
       "    <tr>\n",
       "      <th>12</th>\n",
       "      <td>VIVTOT</td>\n",
       "      <td>VIVTOT</td>\n",
       "    </tr>\n",
       "    <tr>\n",
       "      <th>13</th>\n",
       "      <td>PRO_OCUP_C</td>\n",
       "      <td>PRO_OCUP_C</td>\n",
       "    </tr>\n",
       "    <tr>\n",
       "      <th>14</th>\n",
       "      <td>PROM_OCUP</td>\n",
       "      <td>PROM_OCUP</td>\n",
       "    </tr>\n",
       "    <tr>\n",
       "      <th>15</th>\n",
       "      <td>VPH_PC</td>\n",
       "      <td>VPH_PC</td>\n",
       "    </tr>\n",
       "    <tr>\n",
       "      <th>16</th>\n",
       "      <td>PNACOE</td>\n",
       "      <td>PNACOE</td>\n",
       "    </tr>\n",
       "  </tbody>\n",
       "</table>\n",
       "</div>"
      ],
      "text/plain": [
       "       clean20     clean10\n",
       "0        index       index\n",
       "1      NOM_MUN     NOM_MUN\n",
       "2          LOC         LOC\n",
       "3      NOM_LOC     NOM_LOC\n",
       "4         AGEB        AGEB\n",
       "5          MZA         MZA\n",
       "6      P_TOTAL     P_TOTAL\n",
       "7        P_0A2       P_0A2\n",
       "8        P_3A5       P_3A5\n",
       "9    POB65_MAS   POB65_MAS\n",
       "10    GRAPROES    GRAPROES\n",
       "11    PROM_HNV    PROM_HNV\n",
       "12      VIVTOT      VIVTOT\n",
       "13  PRO_OCUP_C  PRO_OCUP_C\n",
       "14   PROM_OCUP   PROM_OCUP\n",
       "15      VPH_PC      VPH_PC\n",
       "16      PNACOE      PNACOE"
      ]
     },
     "execution_count": 19,
     "metadata": {},
     "output_type": "execute_result"
    }
   ],
   "source": [
    "clean20 = clean20.rename(columns={'POBTOT': 'P_TOTAL'})\n",
    "# get the column order of df1\n",
    "column_order = clean10.columns\n",
    "\n",
    "# reindex df2 using the column order of df1\n",
    "clean20 = clean20.reindex(columns=column_order)\n",
    "\n",
    "pd.DataFrame({'clean20': pd.Series(clean20.columns), 'clean10': pd.Series(clean10.columns)})"
   ]
  },
  {
   "cell_type": "markdown",
   "metadata": {},
   "source": [
    "### quitamos acentos"
   ]
  },
  {
   "cell_type": "code",
   "execution_count": 20,
   "metadata": {},
   "outputs": [],
   "source": [
    "import unidecode\n",
    "\n",
    "# remove accents\n",
    "clean10['NOM_LOC'] = clean10['NOM_LOC'].apply(lambda x: unidecode.unidecode(x))\n",
    "\n",
    "# remove accents\n",
    "clean20['NOM_LOC'] = clean20['NOM_LOC'].apply(lambda x: unidecode.unidecode(x))"
   ]
  },
  {
   "cell_type": "markdown",
   "metadata": {},
   "source": [
    "<h2> Renombramos"
   ]
  },
  {
   "cell_type": "code",
   "execution_count": 21,
   "metadata": {},
   "outputs": [],
   "source": [
    "df_10 = clean10\n",
    "df_20 = clean20"
   ]
  },
  {
   "cell_type": "markdown",
   "metadata": {},
   "source": [
    "hasta ahora: \n",
    "* filtramos para solo ensenada\n",
    "\n",
    "* eliminamos columnas: ENTIDAD','NOM_ENT','MUN' (Baja California es redundante)\n",
    "\n",
    "* hacemos coincidir los nombres de localidades (NOM_LOC) en ambos censos \n",
    "\n",
    "* eliminamos todas las localidades que no se encuentren en ambos dataframes (2010 y 2020)\n",
    "\n",
    "* hacemos coincidir los nombres de las columnas equivalentes \n",
    "\n",
    "* eliminamos tildes"
   ]
  },
  {
   "cell_type": "markdown",
   "metadata": {},
   "source": [
    "<h3>nos limitamos a ensenada</h3>"
   ]
  },
  {
   "cell_type": "markdown",
   "metadata": {},
   "source": [
    "* cambio de dataframe a <b>df_ens_xx"
   ]
  },
  {
   "cell_type": "code",
   "execution_count": 22,
   "metadata": {},
   "outputs": [],
   "source": [
    "df_ens_10 = df_10[df_10['NOM_LOC'] == 'Ensenada']\n",
    "df_ens_10.reset_index(inplace=True)\n",
    "\n",
    "df_ens_20 = df_20[df_20['NOM_LOC'] == 'Ensenada']\n",
    "df_ens_20.reset_index(inplace=True)"
   ]
  },
  {
   "cell_type": "markdown",
   "metadata": {},
   "source": [
    "* tiramos la <b>manzana 800</b>, esta fuera del rango usual y puede significar otra cosa"
   ]
  },
  {
   "cell_type": "code",
   "execution_count": 23,
   "metadata": {},
   "outputs": [],
   "source": [
    "#drop row if mza is 800\n",
    "df_ens_10 = df_ens_10[df_ens_10['MZA'] != 800]\n",
    "\n",
    "df_ens_20 = df_ens_20[df_ens_20['MZA'] != 800]"
   ]
  },
  {
   "cell_type": "code",
   "execution_count": 24,
   "metadata": {},
   "outputs": [
    {
     "data": {
      "text/html": [
       "<div>\n",
       "<style scoped>\n",
       "    .dataframe tbody tr th:only-of-type {\n",
       "        vertical-align: middle;\n",
       "    }\n",
       "\n",
       "    .dataframe tbody tr th {\n",
       "        vertical-align: top;\n",
       "    }\n",
       "\n",
       "    .dataframe thead th {\n",
       "        text-align: right;\n",
       "    }\n",
       "</style>\n",
       "<table border=\"1\" class=\"dataframe\">\n",
       "  <thead>\n",
       "    <tr style=\"text-align: right;\">\n",
       "      <th></th>\n",
       "      <th>level_0</th>\n",
       "      <th>index</th>\n",
       "      <th>LOC</th>\n",
       "      <th>MZA</th>\n",
       "      <th>P_TOTAL</th>\n",
       "      <th>VIVTOT</th>\n",
       "    </tr>\n",
       "  </thead>\n",
       "  <tbody>\n",
       "    <tr>\n",
       "      <th>count</th>\n",
       "      <td>5255.000000</td>\n",
       "      <td>5255.000000</td>\n",
       "      <td>5255.0</td>\n",
       "      <td>5255.000000</td>\n",
       "      <td>5255.000000</td>\n",
       "      <td>5255.000000</td>\n",
       "    </tr>\n",
       "    <tr>\n",
       "      <th>mean</th>\n",
       "      <td>2627.000000</td>\n",
       "      <td>2723.169553</td>\n",
       "      <td>1.0</td>\n",
       "      <td>22.216936</td>\n",
       "      <td>53.237869</td>\n",
       "      <td>19.150143</td>\n",
       "    </tr>\n",
       "    <tr>\n",
       "      <th>std</th>\n",
       "      <td>1517.132163</td>\n",
       "      <td>1571.823135</td>\n",
       "      <td>0.0</td>\n",
       "      <td>16.461110</td>\n",
       "      <td>68.790277</td>\n",
       "      <td>19.594114</td>\n",
       "    </tr>\n",
       "    <tr>\n",
       "      <th>min</th>\n",
       "      <td>0.000000</td>\n",
       "      <td>4.000000</td>\n",
       "      <td>1.0</td>\n",
       "      <td>1.000000</td>\n",
       "      <td>0.000000</td>\n",
       "      <td>0.000000</td>\n",
       "    </tr>\n",
       "    <tr>\n",
       "      <th>25%</th>\n",
       "      <td>1313.500000</td>\n",
       "      <td>1353.500000</td>\n",
       "      <td>1.0</td>\n",
       "      <td>9.000000</td>\n",
       "      <td>16.000000</td>\n",
       "      <td>6.000000</td>\n",
       "    </tr>\n",
       "    <tr>\n",
       "      <th>50%</th>\n",
       "      <td>2627.000000</td>\n",
       "      <td>2732.000000</td>\n",
       "      <td>1.0</td>\n",
       "      <td>19.000000</td>\n",
       "      <td>41.000000</td>\n",
       "      <td>15.000000</td>\n",
       "    </tr>\n",
       "    <tr>\n",
       "      <th>75%</th>\n",
       "      <td>3940.500000</td>\n",
       "      <td>4078.500000</td>\n",
       "      <td>1.0</td>\n",
       "      <td>32.000000</td>\n",
       "      <td>72.000000</td>\n",
       "      <td>26.000000</td>\n",
       "    </tr>\n",
       "    <tr>\n",
       "      <th>max</th>\n",
       "      <td>5254.000000</td>\n",
       "      <td>5447.000000</td>\n",
       "      <td>1.0</td>\n",
       "      <td>100.000000</td>\n",
       "      <td>3018.000000</td>\n",
       "      <td>360.000000</td>\n",
       "    </tr>\n",
       "  </tbody>\n",
       "</table>\n",
       "</div>"
      ],
      "text/plain": [
       "           level_0        index     LOC          MZA      P_TOTAL       VIVTOT\n",
       "count  5255.000000  5255.000000  5255.0  5255.000000  5255.000000  5255.000000\n",
       "mean   2627.000000  2723.169553     1.0    22.216936    53.237869    19.150143\n",
       "std    1517.132163  1571.823135     0.0    16.461110    68.790277    19.594114\n",
       "min       0.000000     4.000000     1.0     1.000000     0.000000     0.000000\n",
       "25%    1313.500000  1353.500000     1.0     9.000000    16.000000     6.000000\n",
       "50%    2627.000000  2732.000000     1.0    19.000000    41.000000    15.000000\n",
       "75%    3940.500000  4078.500000     1.0    32.000000    72.000000    26.000000\n",
       "max    5254.000000  5447.000000     1.0   100.000000  3018.000000   360.000000"
      ]
     },
     "execution_count": 24,
     "metadata": {},
     "output_type": "execute_result"
    }
   ],
   "source": [
    "df_ens_10.describe()"
   ]
  },
  {
   "cell_type": "code",
   "execution_count": null,
   "metadata": {},
   "outputs": [],
   "source": []
  }
 ],
 "metadata": {
  "kernelspec": {
   "display_name": "Python 3",
   "language": "python",
   "name": "python3"
  },
  "language_info": {
   "codemirror_mode": {
    "name": "ipython",
    "version": 3
   },
   "file_extension": ".py",
   "mimetype": "text/x-python",
   "name": "python",
   "nbconvert_exporter": "python",
   "pygments_lexer": "ipython3",
   "version": "3.10.12"
  }
 },
 "nbformat": 4,
 "nbformat_minor": 2
}
