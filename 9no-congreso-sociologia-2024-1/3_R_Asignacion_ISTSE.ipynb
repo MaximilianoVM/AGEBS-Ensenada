{
 "cells": [
  {
   "cell_type": "code",
   "execution_count": 1,
   "metadata": {
    "vscode": {
     "languageId": "r"
    }
   },
   "outputs": [
    {
     "name": "stderr",
     "output_type": "stream",
     "text": [
      "── \u001b[1mAttaching core tidyverse packages\u001b[22m ──────────────────────── tidyverse 2.0.0 ──\n",
      "\u001b[32m✔\u001b[39m \u001b[34mdplyr    \u001b[39m 1.1.4     \u001b[32m✔\u001b[39m \u001b[34mreadr    \u001b[39m 2.1.5\n",
      "\u001b[32m✔\u001b[39m \u001b[34mforcats  \u001b[39m 1.0.0     \u001b[32m✔\u001b[39m \u001b[34mstringr  \u001b[39m 1.5.1\n",
      "\u001b[32m✔\u001b[39m \u001b[34mggplot2  \u001b[39m 3.5.1     \u001b[32m✔\u001b[39m \u001b[34mtibble   \u001b[39m 3.2.1\n",
      "\u001b[32m✔\u001b[39m \u001b[34mlubridate\u001b[39m 1.9.3     \u001b[32m✔\u001b[39m \u001b[34mtidyr    \u001b[39m 1.3.1\n",
      "\u001b[32m✔\u001b[39m \u001b[34mpurrr    \u001b[39m 1.0.2     \n",
      "── \u001b[1mConflicts\u001b[22m ────────────────────────────────────────── tidyverse_conflicts() ──\n",
      "\u001b[31m✖\u001b[39m \u001b[34mdplyr\u001b[39m::\u001b[32mfilter()\u001b[39m masks \u001b[34mstats\u001b[39m::filter()\n",
      "\u001b[31m✖\u001b[39m \u001b[34mdplyr\u001b[39m::\u001b[32mlag()\u001b[39m    masks \u001b[34mstats\u001b[39m::lag()\n",
      "\u001b[36mℹ\u001b[39m Use the conflicted package (\u001b[3m\u001b[34m<http://conflicted.r-lib.org/>\u001b[39m\u001b[23m) to force all conflicts to become errors\n",
      "Linking to GEOS 3.10.2, GDAL 3.4.1, PROJ 8.2.1; sf_use_s2() is TRUE\n",
      "\n"
     ]
    }
   ],
   "source": [
    "#cargar librerías\n",
    "library(tidyverse)\n",
    "library(sf)\n",
    "library(ggplot2)"
   ]
  },
  {
   "cell_type": "code",
   "execution_count": 2,
   "metadata": {
    "vscode": {
     "languageId": "r"
    }
   },
   "outputs": [],
   "source": [
    "#cargar los datos\n",
    "\n",
    "#NORTE ENSENADA\n",
    "#data10 <- read.csv(\"DATA/FULL_NORENS_AGEBS_10.csv\")\n",
    "#data20 <- read.csv(\"DATA/FULL_NORENS_AGEBS_20.csv\")\n",
    "\n",
    "#TODO ENSENADA\n",
    "data10 <- read.csv(\"DATA/FULL_ENS_AGEBS_10.csv\")\n",
    "data20 <- read.csv(\"DATA/FULL_ENS_AGEBS_20.csv\")"
   ]
  },
  {
   "cell_type": "markdown",
   "metadata": {},
   "source": [
    "<b>Variables sociales</b>\n",
    "1. Población total (PT)\n",
    "2. Niños de 0-4 años (N)\n",
    "3. Adultos mayores de 65 años (AM)\n",
    "4. Grado promedio de escolaridad (E)\n",
    "5. Promedio de hijos nacidos vivos (H)\n",
    "\n",
    "<b>Variables espaciales</b>\n",
    "\n",
    "6. Número de viviendas (V)\n",
    "7. Promedio de ocupantes por cuar-\n",
    "to (OC)\n",
    "8. Viviendas particulares habitadas\n",
    "que disponen de computadora (C)"
   ]
  },
  {
   "cell_type": "code",
   "execution_count": 3,
   "metadata": {
    "vscode": {
     "languageId": "r"
    }
   },
   "outputs": [
    {
     "data": {
      "text/plain": [
       "     index          AGEB              P_TOTAL       POB65_MAS     \n",
       " Min.   :   4   Length:190         Min.   :   0   Min.   :  0.00  \n",
       " 1st Qu.:1626   Class :character   1st Qu.: 324   1st Qu.:  3.00  \n",
       " Median :2468   Mode  :character   Median :1352   Median : 42.00  \n",
       " Mean   :2777                      Mean   :1472   Mean   : 92.47  \n",
       " 3rd Qu.:4264                      3rd Qu.:2270   3rd Qu.:164.25  \n",
       " Max.   :5447                      Max.   :5628   Max.   :375.00  \n",
       "    GRAPROES         PROM_HNV         VIVTOT         PRO_OCUP_C    \n",
       " Min.   : 0.000   Min.   :0.000   Min.   :   0.0   Min.   :0.0000  \n",
       " 1st Qu.: 7.226   1st Qu.:1.505   1st Qu.: 153.8   1st Qu.:0.6468  \n",
       " Median : 8.828   Median :1.802   Median : 531.5   Median :0.8129  \n",
       " Mean   : 8.591   Mean   :1.742   Mean   : 529.7   Mean   :0.8555  \n",
       " 3rd Qu.:10.133   3rd Qu.:2.113   3rd Qu.: 826.0   3rd Qu.:1.0048  \n",
       " Max.   :15.273   Max.   :2.910   Max.   :1849.0   Max.   :3.5950  \n",
       "   PROM_OCUP         VPH_PC          OTRAENT           P_0A5      \n",
       " Min.   :0.000   Min.   :  0.00   Min.   :   0.0   Min.   :  0.0  \n",
       " 1st Qu.:2.693   1st Qu.: 39.25   1st Qu.: 152.8   1st Qu.: 34.0  \n",
       " Median :3.154   Median :199.00   Median : 511.5   Median :145.0  \n",
       " Mean   :2.963   Mean   :232.22   Mean   : 567.9   Mean   :171.3  \n",
       " 3rd Qu.:3.452   3rd Qu.:358.00   3rd Qu.: 876.0   3rd Qu.:277.2  \n",
       " Max.   :4.605   Max.   :992.00   Max.   :1987.0   Max.   :557.0  "
      ]
     },
     "metadata": {},
     "output_type": "display_data"
    }
   ],
   "source": [
    "#explorar los datos\n",
    "#glimpse(data10)\n",
    "#glimpse(data20)\n",
    "summary(data10)\n",
    "#summary(data20)"
   ]
  },
  {
   "cell_type": "markdown",
   "metadata": {},
   "source": [
    "### AGRUPAMOS POR AGEB"
   ]
  },
  {
   "cell_type": "code",
   "execution_count": 4,
   "metadata": {
    "vscode": {
     "languageId": "r"
    }
   },
   "outputs": [
    {
     "name": "stdout",
     "output_type": "stream",
     "text": [
      "Rows: 190\n",
      "Columns: 23\n",
      "$ index_2010      \u001b[3m\u001b[90m<int>\u001b[39m\u001b[23m 4, 68, 97, 151, 180, 227, 241, 303, 359, 379, 406, 442…\n",
      "$ AGEB            \u001b[3m\u001b[90m<chr>\u001b[39m\u001b[23m \"0435\", \"044A\", \"0454\", \"0488\", \"0492\", \"0505\", \"0524\"…\n",
      "$ P_TOTAL_2010    \u001b[3m\u001b[90m<dbl>\u001b[39m\u001b[23m 3632, 1539, 2211, 2045, 557, 730, 3040, 1871, 2426, 15…\n",
      "$ POB65_MAS_2010  \u001b[3m\u001b[90m<dbl>\u001b[39m\u001b[23m 325, 224, 188, 140, 15, 135, 276, 223, 194, 272, 209, …\n",
      "$ GRAPROES_2010   \u001b[3m\u001b[90m<dbl>\u001b[39m\u001b[23m 9.617302, 9.569643, 10.994717, 8.206786, 7.670000, 14.…\n",
      "$ PROM_HNV_2010   \u001b[3m\u001b[90m<dbl>\u001b[39m\u001b[23m 2.1933333, 2.2642857, 1.9290566, 2.4053571, 0.9128261,…\n",
      "$ VIVTOT_2010     \u001b[3m\u001b[90m<dbl>\u001b[39m\u001b[23m 1321, 549, 742, 635, 281, 300, 1083, 679, 903, 630, 60…\n",
      "$ PRO_OCUP_C_2010 \u001b[3m\u001b[90m<dbl>\u001b[39m\u001b[23m 0.85301587, 0.75071429, 0.66188679, 1.05607143, 0.3726…\n",
      "$ PROM_OCUP_2010  \u001b[3m\u001b[90m<dbl>\u001b[39m\u001b[23m 3.3525397, 3.1521429, 3.1458491, 3.7960714, 1.6482609,…\n",
      "$ VPH_PC_2010     \u001b[3m\u001b[90m<dbl>\u001b[39m\u001b[23m 584, 254, 438, 189, 189, 199, 497, 232, 612, 317, 335,…\n",
      "$ OTRAENT_2010    \u001b[3m\u001b[90m<dbl>\u001b[39m\u001b[23m 1241, 478, 760, 743, 271, 282, 1074, 669, 873, 469, 51…\n",
      "$ P_0A5_2010      \u001b[3m\u001b[90m<dbl>\u001b[39m\u001b[23m 419, 135, 118, 290, 39, 20, 364, 174, 196, 146, 62, 93…\n",
      "$ index_2020      \u001b[3m\u001b[90m<int>\u001b[39m\u001b[23m 442, 502, 530, 584, 613, 650, 664, 727, 784, 804, 831,…\n",
      "$ P_TOTAL_2020    \u001b[3m\u001b[90m<dbl>\u001b[39m\u001b[23m 3798, 1429, 2339, 2214, 956, 784, 2567, 1827, 2399, 12…\n",
      "$ POB65_MAS_2020  \u001b[3m\u001b[90m<dbl>\u001b[39m\u001b[23m 457, 257, 296, 251, 131, 164, 319, 281, 279, 246, 284,…\n",
      "$ GRAPROES_2020   \u001b[3m\u001b[90m<dbl>\u001b[39m\u001b[23m 10.768983, 10.522963, 12.051698, 9.373571, 12.295000, …\n",
      "$ PROM_HNV_2020   \u001b[3m\u001b[90m<dbl>\u001b[39m\u001b[23m 1.9822034, 2.0748148, 1.6115094, 2.2557143, 1.2647222,…\n",
      "$ VIVTOT_2020     \u001b[3m\u001b[90m<dbl>\u001b[39m\u001b[23m 1382, 573, 883, 750, 454, 353, 1083, 701, 952, 566, 61…\n",
      "$ PRO_OCUP_C_2020 \u001b[3m\u001b[90m<dbl>\u001b[39m\u001b[23m 0.7766102, 0.6259259, 0.6083019, 0.8932143, 0.5847222,…\n",
      "$ PROM_OCUP_2020  \u001b[3m\u001b[90m<dbl>\u001b[39m\u001b[23m 3.1376271, 2.6466667, 2.8441509, 3.3117857, 2.3869444,…\n",
      "$ VPH_PC_2020     \u001b[3m\u001b[90m<dbl>\u001b[39m\u001b[23m 782, 330, 531, 309, 360, 250, 493, 324, 663, 360, 421,…\n",
      "$ OTRAENT_2020    \u001b[3m\u001b[90m<dbl>\u001b[39m\u001b[23m 1273, 471, 718, 728, 368, 279, 830, 547, 745, 379, 415…\n",
      "$ P_0A5_2020      \u001b[3m\u001b[90m<dbl>\u001b[39m\u001b[23m 259, 83, 118, 233, 33, 23, 157, 58, 140, 190, 44, 24, …\n"
     ]
    }
   ],
   "source": [
    "#unir los datos de 2010 y 2020 por el identificador común (por ejemplo, AGEB)\n",
    "data_combined <- inner_join(data10, data20, by = \"AGEB\", suffix = c(\"_2010\", \"_2020\"))\n",
    "\n",
    "glimpse(data_combined)"
   ]
  },
  {
   "cell_type": "markdown",
   "metadata": {},
   "source": [
    "### Definimos el cambio para cada una de las variables como (v20 - v10)/v10\n",
    "(DIFERENTE POR AGEB)"
   ]
  },
  {
   "cell_type": "markdown",
   "metadata": {},
   "source": [
    "* Hay unos infinitos, hay que quitar la division. Evidentemente hay AGEBS con poblacion inicial de 0"
   ]
  },
  {
   "cell_type": "code",
   "execution_count": 5,
   "metadata": {
    "vscode": {
     "languageId": "r"
    }
   },
   "outputs": [
    {
     "data": {
      "text/plain": [
       "  OTRAENT_2020      P_0A5_2020     cambio_poblacion    cambio_ninos    \n",
       " Min.   :   0.0   Min.   :  0.00   Min.   :-1.00000   Min.   :-1.0000  \n",
       " 1st Qu.: 197.5   1st Qu.: 44.75   1st Qu.:-0.01116   1st Qu.:-0.2632  \n",
       " Median : 496.5   Median :117.00   Median : 0.08062   Median :-0.1431  \n",
       " Mean   : 577.0   Mean   :150.59   Mean   :     Inf   Mean   :    Inf  \n",
       " 3rd Qu.: 869.0   3rd Qu.:244.50   3rd Qu.: 0.30758   3rd Qu.: 0.1972  \n",
       " Max.   :1742.0   Max.   :543.00   Max.   :     Inf   Max.   :    Inf  \n",
       "                                   NA's   :1          NA's   :8        \n",
       " cambio_adultos_mayores cambio_educacion    cambio_hijos     \n",
       " Min.   :-1.0000        Min.   :-0.40823   Min.   :-0.66399  \n",
       " 1st Qu.: 0.4467        1st Qu.: 0.05823   1st Qu.:-0.11166  \n",
       " Median : 1.2558        Median : 0.11192   Median :-0.06127  \n",
       " Mean   :    Inf        Mean   :     Inf   Mean   :     Inf  \n",
       " 3rd Qu.: 5.5724        3rd Qu.: 0.19213   3rd Qu.: 0.02986  \n",
       " Max.   :    Inf        Max.   :     Inf   Max.   :     Inf  \n",
       " NA's   :11             NA's   :3          NA's   :3         \n",
       " cambio_viviendas  \n",
       " Min.   :-1.00000  \n",
       " 1st Qu.: 0.01677  \n",
       " Median : 0.08508  \n",
       " Mean   :     Inf  \n",
       " 3rd Qu.: 0.22222  \n",
       " Max.   :     Inf  \n",
       " NA's   :1         "
      ]
     },
     "metadata": {},
     "output_type": "display_data"
    }
   ],
   "source": [
    "#crear nuevas variables con mutate\n",
    "data_combined <- data_combined %>%\n",
    "  mutate(\n",
    "    cambio_poblacion = (P_TOTAL_2020 - P_TOTAL_2010) / P_TOTAL_2010,\n",
    "    cambio_ninos = (P_0A5_2020 - P_0A5_2010) / P_0A5_2010,\n",
    "    cambio_adultos_mayores = (POB65_MAS_2020 - POB65_MAS_2010) / POB65_MAS_2010,\n",
    "    cambio_educacion = (GRAPROES_2020 - GRAPROES_2010) / GRAPROES_2010,\n",
    "    cambio_hijos = (PROM_HNV_2020 - PROM_HNV_2010) / PROM_HNV_2010,\n",
    "    cambio_viviendas = (VIVTOT_2020 - VIVTOT_2010) / VIVTOT_2010,\n",
    "    cambio_ocupantes = (PROM_OCUP_2020 - PROM_OCUP_2010) / PROM_OCUP_2010,\n",
    "    cambio_computadora = (VPH_PC_2020 - VPH_PC_2010) / VPH_PC_2010\n",
    "  ) \n",
    "\n",
    "#summary data_combined solo para las variables de cambio\n",
    "summary(data_combined[, c(22:29)])"
   ]
  },
  {
   "cell_type": "markdown",
   "metadata": {},
   "source": [
    "* bien: "
   ]
  },
  {
   "cell_type": "code",
   "execution_count": 6,
   "metadata": {
    "vscode": {
     "languageId": "r"
    }
   },
   "outputs": [
    {
     "name": "stdout",
     "output_type": "stream",
     "text": [
      "  [1]   166  -110   128   169   399    54  -473   -44   -27  -295   -29   -79\n",
      " [13]    65   112   102   131   -40  -196  -110   -83    41    88   -64   127\n",
      " [25]   122   230    -6   199   -47   -46   214  -170    12  -196  -146   280\n",
      " [37]   624   280   740   568   302 -1460   133   111    19   149   274    47\n",
      " [49]   660   133   414  1007    82   162    82   964   125     6   -52    14\n",
      " [61]    44    -1   116   606     0   449   245    44   290    97   175    12\n",
      " [73]     4    -7     0    -1    66   -98   -54    45  -758   -20   232   237\n",
      " [85]  -194    58   226   -43   206  -114    38   -71    95    81   121    67\n",
      " [97]  -139   175     6   204    22   308    89    42    56   144   427   183\n",
      "[109]   326    64   222   -68    10   -28   -17     9     5  -197  -318    61\n",
      "[121]   504     8   -14  -256   -52   -56   561   434    54   190   310   370\n",
      "[133]  -196   396   179    65   349   -12   198   -22  -126   164   432   389\n",
      "[145]   557   426    35    95   106    54    34  -133   -31   199    11   -16\n",
      "[157]    15   135    10   232   319   481   739   831   679   140   227   240\n",
      "[169]   -18   147   294   684   131   321    -3   -15     2   -55   -13    55\n",
      "[181]   832     0   153   944    91   126   729    18   111    74\n",
      "[1] 123.7\n",
      "[1] 123.7\n"
     ]
    },
    {
     "data": {
      "text/plain": [
       "  OTRAENT_2020      P_0A5_2020     cambio_poblacion    cambio_ninos    \n",
       " Min.   :   0.0   Min.   :  0.00   Min.   :-1460.00   Min.   :-207.00  \n",
       " 1st Qu.: 197.5   1st Qu.: 44.75   1st Qu.:  -10.75   1st Qu.: -55.50  \n",
       " Median : 496.5   Median :117.00   Median :   77.50   Median : -12.00  \n",
       " Mean   : 577.0   Mean   :150.59   Mean   :  123.70   Mean   : -20.67  \n",
       " 3rd Qu.: 869.0   3rd Qu.:244.50   3rd Qu.:  225.00   3rd Qu.:   8.75  \n",
       " Max.   :1742.0   Max.   :543.00   Max.   : 1007.00   Max.   : 144.00  \n",
       " cambio_adultos_mayores cambio_educacion   cambio_hijos      cambio_viviendas\n",
       " Min.   :-28.00         Min.   :-5.3359   Min.   :-1.50182   Min.   :-77.00  \n",
       " 1st Qu.: 14.00         1st Qu.: 0.6033   1st Qu.:-0.21013   1st Qu.:  5.00  \n",
       " Median : 56.00         Median : 0.9651   Median :-0.11010   Median : 35.50  \n",
       " Mean   : 65.34         Mean   : 1.3466   Mean   :-0.04416   Mean   : 55.38  \n",
       " 3rd Qu.: 94.00         3rd Qu.: 1.5464   3rd Qu.: 0.04113   3rd Qu.: 88.00  \n",
       " Max.   :380.00         Max.   :12.3575   Max.   : 2.76250   Max.   :576.00  "
      ]
     },
     "metadata": {},
     "output_type": "display_data"
    }
   ],
   "source": [
    "#crear nuevas variables con mutate sin dividir \n",
    "data_combined <- data_combined %>%\n",
    "  mutate(\n",
    "    cambio_poblacion = (P_TOTAL_2020 - P_TOTAL_2010),\n",
    "    cambio_ninos = (P_0A5_2020 - P_0A5_2010),\n",
    "    cambio_adultos_mayores = (POB65_MAS_2020 - POB65_MAS_2010),\n",
    "    cambio_educacion = (GRAPROES_2020 - GRAPROES_2010),\n",
    "    cambio_hijos = (PROM_HNV_2020 - PROM_HNV_2010),\n",
    "    cambio_viviendas = (VIVTOT_2020 - VIVTOT_2010),\n",
    "    cambio_ocupantes = (PROM_OCUP_2020 - PROM_OCUP_2010),\n",
    "    cambio_computadora = (VPH_PC_2020 - VPH_PC_2010)\n",
    "  )\n",
    "\n",
    "print(data_combined$cambio_poblacion)\n",
    "print(mean(data_combined$cambio_poblacion))\n",
    "print(mean(data_combined$cambio_poblacion, na.rm = TRUE))\n",
    "\n",
    "#summary data_combined solo para las variables de cambio\n",
    "summary(data_combined[, c(22:29)])"
   ]
  },
  {
   "cell_type": "markdown",
   "metadata": {},
   "source": [
    "* No parece haber valores atipicos, ademas de que se fueron los NANs yo digo que al sacar mean. \n",
    "* Unicamente me parecen algo extremos los maximos y minimos en cambio_poblacion. Supongo que tiene sentido por la variable que es."
   ]
  },
  {
   "cell_type": "markdown",
   "metadata": {},
   "source": [
    "### Calculamos las medias de los cambios a NIVEL CIUDAD"
   ]
  },
  {
   "cell_type": "code",
   "execution_count": 7,
   "metadata": {
    "vscode": {
     "languageId": "r"
    }
   },
   "outputs": [
    {
     "data": {
      "text/html": [
       "123.7"
      ],
      "text/latex": [
       "123.7"
      ],
      "text/markdown": [
       "123.7"
      ],
      "text/plain": [
       "[1] 123.7"
      ]
     },
     "metadata": {},
     "output_type": "display_data"
    }
   ],
   "source": [
    "#calcular las medias de los cambios a nivel ciudad\n",
    "media_cambio_poblacion <- mean(data_combined$cambio_poblacion, na.rm = TRUE)\n",
    "media_cambio_ninos <- mean(data_combined$cambio_ninos, na.rm = TRUE)\n",
    "media_cambio_adultos_mayores <- mean(data_combined$cambio_adultos_mayores, na.rm = TRUE)\n",
    "media_cambio_educacion <- mean(data_combined$cambio_educacion, na.rm = TRUE)\n",
    "media_cambio_hijos <- mean(data_combined$cambio_hijos, na.rm = TRUE)\n",
    "media_cambio_viviendas <- mean(data_combined$cambio_viviendas, na.rm = TRUE)\n",
    "media_cambio_ocupantes <- mean(data_combined$cambio_ocupantes, na.rm = TRUE)\n",
    "media_cambio_computadora <- mean(data_combined$cambio_computadora, na.rm = TRUE)\n",
    "\n",
    "media_cambio_poblacion"
   ]
  },
  {
   "cell_type": "code",
   "execution_count": 8,
   "metadata": {
    "vscode": {
     "languageId": "r"
    }
   },
   "outputs": [
    {
     "data": {
      "image/png": "[encoded data removed]",
      "text/plain": [
       "plot without title"
      ]
     },
     "metadata": {
      "image/png": {
       "height": 420,
       "width": 420
      }
     },
     "output_type": "display_data"
    }
   ],
   "source": [
    "#los cambios deberian distribuirse alrededor de sus medias \n",
    "#para ver si hay cambios atípicos, se puede hacer un gráfico de caja y bigotes\n",
    "#para cada variable de cambio\n",
    "\n",
    "#crear un data frame con las medias\n",
    "medias <- data.frame(\n",
    "  variable = c(\"cambio_poblacion\", \"cambio_ninos\", \"cambio_adultos_mayores\", \"cambio_educacion\", \"cambio_hijos\", \"cambio_viviendas\", \"cambio_ocupantes\", \"cambio_computadora\"),\n",
    "  media = c(media_cambio_poblacion, media_cambio_ninos, media_cambio_adultos_mayores, media_cambio_educacion, media_cambio_hijos, media_cambio_viviendas, media_cambio_ocupantes, media_cambio_computadora)\n",
    ")\n",
    "\n",
    "# Reestructurar el dataframe a formato largo\n",
    "data_combined_long <- data_combined %>%\n",
    "  pivot_longer(\n",
    "    cols = starts_with(\"cambio\"),\n",
    "    names_to = \"variable\",\n",
    "    values_to = \"valor\"\n",
    "  )\n",
    "\n",
    "# Crear el gráfico de caja y bigotes\n",
    "ggplot(data = data_combined_long) +\n",
    "  geom_boxplot(mapping = aes(x = variable, y = valor)) +\n",
    "  geom_point(data = medias, mapping = aes(x = variable, y = media), color = \"red\", size = 3) +\n",
    "  coord_flip() +\n",
    "  theme_minimal()\n",
    "\n",
    "#guardar el gráfico\n",
    "#ggsave(\"cambio_poblacion.png\")"
   ]
  },
  {
   "cell_type": "code",
   "execution_count": 9,
   "metadata": {
    "vscode": {
     "languageId": "r"
    }
   },
   "outputs": [
    {
     "name": "stdout",
     "output_type": "stream",
     "text": [
      "Rows: 190\n",
      "Columns: 40\n",
      "$ index_2010              \u001b[3m\u001b[90m<int>\u001b[39m\u001b[23m 4, 68, 97, 151, 180, 227, 241, 303, 359, 379, …\n",
      "$ AGEB                    \u001b[3m\u001b[90m<chr>\u001b[39m\u001b[23m \"0435\", \"044A\", \"0454\", \"0488\", \"0492\", \"0505\"…\n",
      "$ P_TOTAL_2010            \u001b[3m\u001b[90m<dbl>\u001b[39m\u001b[23m 3632, 1539, 2211, 2045, 557, 730, 3040, 1871, …\n",
      "$ POB65_MAS_2010          \u001b[3m\u001b[90m<dbl>\u001b[39m\u001b[23m 325, 224, 188, 140, 15, 135, 276, 223, 194, 27…\n",
      "$ GRAPROES_2010           \u001b[3m\u001b[90m<dbl>\u001b[39m\u001b[23m 9.617302, 9.569643, 10.994717, 8.206786, 7.670…\n",
      "$ PROM_HNV_2010           \u001b[3m\u001b[90m<dbl>\u001b[39m\u001b[23m 2.1933333, 2.2642857, 1.9290566, 2.4053571, 0.…\n",
      "$ VIVTOT_2010             \u001b[3m\u001b[90m<dbl>\u001b[39m\u001b[23m 1321, 549, 742, 635, 281, 300, 1083, 679, 903,…\n",
      "$ PRO_OCUP_C_2010         \u001b[3m\u001b[90m<dbl>\u001b[39m\u001b[23m 0.85301587, 0.75071429, 0.66188679, 1.05607143…\n",
      "$ PROM_OCUP_2010          \u001b[3m\u001b[90m<dbl>\u001b[39m\u001b[23m 3.3525397, 3.1521429, 3.1458491, 3.7960714, 1.…\n",
      "$ VPH_PC_2010             \u001b[3m\u001b[90m<dbl>\u001b[39m\u001b[23m 584, 254, 438, 189, 189, 199, 497, 232, 612, 3…\n",
      "$ OTRAENT_2010            \u001b[3m\u001b[90m<dbl>\u001b[39m\u001b[23m 1241, 478, 760, 743, 271, 282, 1074, 669, 873,…\n",
      "$ P_0A5_2010              \u001b[3m\u001b[90m<dbl>\u001b[39m\u001b[23m 419, 135, 118, 290, 39, 20, 364, 174, 196, 146…\n",
      "$ index_2020              \u001b[3m\u001b[90m<int>\u001b[39m\u001b[23m 442, 502, 530, 584, 613, 650, 664, 727, 784, 8…\n",
      "$ P_TOTAL_2020            \u001b[3m\u001b[90m<dbl>\u001b[39m\u001b[23m 3798, 1429, 2339, 2214, 956, 784, 2567, 1827, …\n",
      "$ POB65_MAS_2020          \u001b[3m\u001b[90m<dbl>\u001b[39m\u001b[23m 457, 257, 296, 251, 131, 164, 319, 281, 279, 2…\n",
      "$ GRAPROES_2020           \u001b[3m\u001b[90m<dbl>\u001b[39m\u001b[23m 10.768983, 10.522963, 12.051698, 9.373571, 12.…\n",
      "$ PROM_HNV_2020           \u001b[3m\u001b[90m<dbl>\u001b[39m\u001b[23m 1.9822034, 2.0748148, 1.6115094, 2.2557143, 1.…\n",
      "$ VIVTOT_2020             \u001b[3m\u001b[90m<dbl>\u001b[39m\u001b[23m 1382, 573, 883, 750, 454, 353, 1083, 701, 952,…\n",
      "$ PRO_OCUP_C_2020         \u001b[3m\u001b[90m<dbl>\u001b[39m\u001b[23m 0.7766102, 0.6259259, 0.6083019, 0.8932143, 0.…\n",
      "$ PROM_OCUP_2020          \u001b[3m\u001b[90m<dbl>\u001b[39m\u001b[23m 3.1376271, 2.6466667, 2.8441509, 3.3117857, 2.…\n",
      "$ VPH_PC_2020             \u001b[3m\u001b[90m<dbl>\u001b[39m\u001b[23m 782, 330, 531, 309, 360, 250, 493, 324, 663, 3…\n",
      "$ OTRAENT_2020            \u001b[3m\u001b[90m<dbl>\u001b[39m\u001b[23m 1273, 471, 718, 728, 368, 279, 830, 547, 745, …\n",
      "$ P_0A5_2020              \u001b[3m\u001b[90m<dbl>\u001b[39m\u001b[23m 259, 83, 118, 233, 33, 23, 157, 58, 140, 190, …\n",
      "$ cambio_poblacion        \u001b[3m\u001b[90m<dbl>\u001b[39m\u001b[23m 166, -110, 128, 169, 399, 54, -473, -44, -27, …\n",
      "$ cambio_ninos            \u001b[3m\u001b[90m<dbl>\u001b[39m\u001b[23m -160, -52, 0, -57, -6, 3, -207, -116, -56, 44,…\n",
      "$ cambio_adultos_mayores  \u001b[3m\u001b[90m<dbl>\u001b[39m\u001b[23m 132, 33, 108, 111, 116, 29, 43, 58, 85, -26, 7…\n",
      "$ cambio_educacion        \u001b[3m\u001b[90m<dbl>\u001b[39m\u001b[23m 1.1516815, 0.9533201, 1.0569811, 1.1667857, 4.…\n",
      "$ cambio_hijos            \u001b[3m\u001b[90m<dbl>\u001b[39m\u001b[23m -0.2111299435, -0.1894708995, -0.3175471698, -…\n",
      "$ cambio_viviendas        \u001b[3m\u001b[90m<dbl>\u001b[39m\u001b[23m 61, 24, 141, 115, 173, 53, 0, 22, 49, -64, 6, …\n",
      "$ cambio_ocupantes        \u001b[3m\u001b[90m<dbl>\u001b[39m\u001b[23m -0.21491256, -0.50547619, -0.30169811, -0.4842…\n",
      "$ cambio_computadora      \u001b[3m\u001b[90m<dbl>\u001b[39m\u001b[23m 198, 76, 93, 120, 171, 51, -4, 92, 51, 43, 86,…\n",
      "$ puntaje_poblacion       \u001b[3m\u001b[90m<dbl>\u001b[39m\u001b[23m 1, -1, 1, 1, 1, -1, -1, -1, -1, -1, -1, -1, -1…\n",
      "$ puntaje_ninos           \u001b[3m\u001b[90m<dbl>\u001b[39m\u001b[23m 1, 1, -1, 1, -1, -1, 1, 1, 1, -1, -1, 1, -1, 1…\n",
      "$ puntaje_adultos_mayores \u001b[3m\u001b[90m<dbl>\u001b[39m\u001b[23m -1, 1, -1, -1, -1, 1, 1, 1, -1, 1, -1, 1, -1, …\n",
      "$ puntaje_educacion       \u001b[3m\u001b[90m<dbl>\u001b[39m\u001b[23m -1, -1, -1, -1, 1, -1, -1, -1, -1, -1, -1, -1,…\n",
      "$ puntaje_hijos           \u001b[3m\u001b[90m<dbl>\u001b[39m\u001b[23m 1, 1, 1, 1, -1, 1, 1, 1, -1, 1, 1, 1, 1, -1, 1…\n",
      "$ puntaje_viviendas       \u001b[3m\u001b[90m<dbl>\u001b[39m\u001b[23m 1, -1, 1, 1, 1, -1, -1, -1, -1, -1, -1, -1, 1,…\n",
      "$ puntaje_ocupantes       \u001b[3m\u001b[90m<dbl>\u001b[39m\u001b[23m 1, 1, 1, 1, -1, 1, 1, 1, 1, 1, 1, 1, 1, -1, -1…\n",
      "$ puntaje_computadora     \u001b[3m\u001b[90m<dbl>\u001b[39m\u001b[23m 1, -1, 1, 1, 1, -1, -1, 1, -1, -1, 1, -1, 1, -…\n",
      "$ ITSE                    \u001b[3m\u001b[90m<dbl>\u001b[39m\u001b[23m 4, 0, 2, 4, 0, -2, 0, 2, -4, -2, -2, 0, 0, -2,…\n"
     ]
    },
    {
     "data": {
      "text/plain": [
       "   Min. 1st Qu.  Median    Mean 3rd Qu.    Max. \n",
       "-6.0000 -2.0000  0.0000 -0.4632  2.0000  8.0000 "
      ]
     },
     "metadata": {},
     "output_type": "display_data"
    }
   ],
   "source": [
    "\n",
    "# Asignar puntajes según el método ITSE\n",
    "data_combined <- data_combined %>%\n",
    "  mutate(\n",
    "    puntaje_poblacion = if_else(cambio_poblacion > media_cambio_poblacion, 1, -1),\n",
    "    puntaje_ninos = if_else(cambio_ninos < media_cambio_ninos, 1, -1),\n",
    "    puntaje_adultos_mayores = if_else(cambio_adultos_mayores < media_cambio_adultos_mayores, 1, -1),\n",
    "    puntaje_educacion = if_else(cambio_educacion > media_cambio_educacion, 1, -1),\n",
    "    puntaje_hijos = if_else(cambio_hijos < media_cambio_hijos, 1, -1),\n",
    "    puntaje_viviendas = if_else(cambio_viviendas > media_cambio_viviendas, 1, -1),\n",
    "    puntaje_ocupantes = if_else(cambio_ocupantes < media_cambio_ocupantes, 1, -1),\n",
    "    puntaje_computadora = if_else(cambio_computadora > media_cambio_computadora, 1, -1)\n",
    "  ) %>%\n",
    "  # Calcular el ITSE sumando los puntajes\n",
    "  mutate(ITSE = puntaje_poblacion + puntaje_ninos + puntaje_adultos_mayores +\n",
    "               puntaje_educacion + puntaje_hijos + puntaje_viviendas +\n",
    "               puntaje_ocupantes + puntaje_computadora)\n",
    "\n",
    "# Revisar los nuevos puntajes y el ITSE\n",
    "glimpse(data_combined)\n",
    "summary(data_combined$ITSE) "
   ]
  },
  {
   "cell_type": "code",
   "execution_count": 10,
   "metadata": {
    "vscode": {
     "languageId": "r"
    }
   },
   "outputs": [],
   "source": [
    "#quantile(cambio_poblacion, 0.5, na.rm = TRUE)"
   ]
  },
  {
   "cell_type": "code",
   "execution_count": 11,
   "metadata": {
    "vscode": {
     "languageId": "r"
    }
   },
   "outputs": [],
   "source": [
    "# Usar cuantiles para asignar puntajes\n",
    "#data_combined <- data_combined %>%\n",
    "#  mutate(\n",
    "#    puntaje_poblacion = if_else(cambio_poblacion > quantile(cambio_poblacion, 0.5, na.rm = TRUE), 1, -1),\n",
    "#    puntaje_ninos = if_else(cambio_ninos < quantile(cambio_ninos, 0.5, na.rm = TRUE), 1, -1),\n",
    "#  puntaje_adultos_mayores = if_else(cambio_adultos_mayores < quantile(cambio_adultos_mayores, 0.5, na.rm = TRUE), 1, -1),\n",
    "#   puntaje_educacion = if_else(cambio_educacion > quantile(cambio_educacion, 0.5, na.rm = TRUE), 1, -1),\n",
    "#    puntaje_hijos = if_else(cambio_hijos < quantile(cambio_hijos, 0.5, na.rm = TRUE), 1, -1),\n",
    "#    puntaje_viviendas = if_else(cambio_viviendas > quantile(cambio_viviendas, 0.5, na.rm = TRUE), 1, -1),\n",
    "#    puntaje_ocupantes = if_else(cambio_ocupantes < quantile(cambio_ocupantes, 0.5, na.rm = TRUE), 1, -1),\n",
    "#    puntaje_computadora = if_else(cambio_computadora > quantile(cambio_computadora, 0.5, na.rm = TRUE), 1, -1)\n",
    "#  ) %>%\n",
    "#  mutate(ITSE = puntaje_poblacion + puntaje_ninos + puntaje_adultos_mayores +\n",
    "#               puntaje_educacion + puntaje_hijos + puntaje_viviendas +\n",
    "#               puntaje_ocupantes + puntaje_computadora)\n",
    "\n",
    "# Revisar los nuevos puntajes y el ITSE\n",
    "#glimpse(data_combined)\n",
    "#summary(data_combined$ITSE)"
   ]
  },
  {
   "cell_type": "code",
   "execution_count": 12,
   "metadata": {
    "vscode": {
     "languageId": "r"
    }
   },
   "outputs": [
    {
     "data": {
      "image/png": "[encoded data removed]",
      "text/plain": [
       "plot without title"
      ]
     },
     "metadata": {
      "image/png": {
       "height": 420,
       "width": 420
      }
     },
     "output_type": "display_data"
    }
   ],
   "source": [
    "#graficar distribución de ITSE\n",
    "ggplot(data_combined, aes(x = ITSE)) +\n",
    "  geom_histogram(binwidth = 1, fill = \"skyblue\", color = \"black\") +\n",
    "  labs(title = \"Distribución del ITSE en las AGEBs de la Ciudad de México\",\n",
    "       x = \"ITSE\",\n",
    "       y = \"Número de AGEBs\")\n",
    "\n",
    "# Guardar los datos"
   ]
  },
  {
   "cell_type": "code",
   "execution_count": 13,
   "metadata": {
    "vscode": {
     "languageId": "r"
    }
   },
   "outputs": [
    {
     "data": {
      "text/html": [
       "<table class=\"dataframe\">\n",
       "<caption>A data.frame: 190 × 40</caption>\n",
       "<thead>\n",
       "\t<tr><th scope=col>index_2010</th><th scope=col>AGEB</th><th scope=col>P_TOTAL_2010</th><th scope=col>POB65_MAS_2010</th><th scope=col>GRAPROES_2010</th><th scope=col>PROM_HNV_2010</th><th scope=col>VIVTOT_2010</th><th scope=col>PRO_OCUP_C_2010</th><th scope=col>PROM_OCUP_2010</th><th scope=col>VPH_PC_2010</th><th scope=col>⋯</th><th scope=col>cambio_computadora</th><th scope=col>puntaje_poblacion</th><th scope=col>puntaje_ninos</th><th scope=col>puntaje_adultos_mayores</th><th scope=col>puntaje_educacion</th><th scope=col>puntaje_hijos</th><th scope=col>puntaje_viviendas</th><th scope=col>puntaje_ocupantes</th><th scope=col>puntaje_computadora</th><th scope=col>ITSE</th></tr>\n",
       "\t<tr><th scope=col>&lt;int&gt;</th><th scope=col>&lt;chr&gt;</th><th scope=col>&lt;dbl&gt;</th><th scope=col>&lt;dbl&gt;</th><th scope=col>&lt;dbl&gt;</th><th scope=col>&lt;dbl&gt;</th><th scope=col>&lt;dbl&gt;</th><th scope=col>&lt;dbl&gt;</th><th scope=col>&lt;dbl&gt;</th><th scope=col>&lt;dbl&gt;</th><th scope=col>⋯</th><th scope=col>&lt;dbl&gt;</th><th scope=col>&lt;dbl&gt;</th><th scope=col>&lt;dbl&gt;</th><th scope=col>&lt;dbl&gt;</th><th scope=col>&lt;dbl&gt;</th><th scope=col>&lt;dbl&gt;</th><th scope=col>&lt;dbl&gt;</th><th scope=col>&lt;dbl&gt;</th><th scope=col>&lt;dbl&gt;</th><th scope=col>&lt;dbl&gt;</th></tr>\n",
       "</thead>\n",
       "<tbody>\n",
       "\t<tr><td>   4</td><td>0435</td><td>3632</td><td>325</td><td> 9.617302</td><td>2.1933333</td><td>1321</td><td>0.85301587</td><td>3.3525397</td><td>584</td><td>⋯</td><td>198</td><td> 1</td><td> 1</td><td>-1</td><td>-1</td><td> 1</td><td> 1</td><td> 1</td><td> 1</td><td> 4</td></tr>\n",
       "\t<tr><td>  68</td><td>044A</td><td>1539</td><td>224</td><td> 9.569643</td><td>2.2642857</td><td> 549</td><td>0.75071429</td><td>3.1521429</td><td>254</td><td>⋯</td><td> 76</td><td>-1</td><td> 1</td><td> 1</td><td>-1</td><td> 1</td><td>-1</td><td> 1</td><td>-1</td><td> 0</td></tr>\n",
       "\t<tr><td>  97</td><td>0454</td><td>2211</td><td>188</td><td>10.994717</td><td>1.9290566</td><td> 742</td><td>0.66188679</td><td>3.1458491</td><td>438</td><td>⋯</td><td> 93</td><td> 1</td><td>-1</td><td>-1</td><td>-1</td><td> 1</td><td> 1</td><td> 1</td><td> 1</td><td> 2</td></tr>\n",
       "\t<tr><td> 151</td><td>0488</td><td>2045</td><td>140</td><td> 8.206786</td><td>2.4053571</td><td> 635</td><td>1.05607143</td><td>3.7960714</td><td>189</td><td>⋯</td><td>120</td><td> 1</td><td> 1</td><td>-1</td><td>-1</td><td> 1</td><td> 1</td><td> 1</td><td> 1</td><td> 4</td></tr>\n",
       "\t<tr><td> 180</td><td>0492</td><td> 557</td><td> 15</td><td> 7.670000</td><td>0.9128261</td><td> 281</td><td>0.37260870</td><td>1.6482609</td><td>189</td><td>⋯</td><td>171</td><td> 1</td><td>-1</td><td>-1</td><td> 1</td><td>-1</td><td> 1</td><td>-1</td><td> 1</td><td> 0</td></tr>\n",
       "\t<tr><td> 227</td><td>0505</td><td> 730</td><td>135</td><td>14.026154</td><td>1.9992308</td><td> 300</td><td>0.50615385</td><td>2.8623077</td><td>199</td><td>⋯</td><td> 51</td><td>-1</td><td>-1</td><td> 1</td><td>-1</td><td> 1</td><td>-1</td><td> 1</td><td>-1</td><td>-2</td></tr>\n",
       "\t<tr><td> 241</td><td>0524</td><td>3040</td><td>276</td><td> 9.127049</td><td>2.5001639</td><td>1083</td><td>0.81688525</td><td>3.2960656</td><td>497</td><td>⋯</td><td> -4</td><td>-1</td><td> 1</td><td> 1</td><td>-1</td><td> 1</td><td>-1</td><td> 1</td><td>-1</td><td> 0</td></tr>\n",
       "\t<tr><td> 303</td><td>0543</td><td>1871</td><td>223</td><td> 8.496364</td><td>2.4614545</td><td> 679</td><td>0.91418182</td><td>3.3274545</td><td>232</td><td>⋯</td><td> 92</td><td>-1</td><td> 1</td><td> 1</td><td>-1</td><td> 1</td><td>-1</td><td> 1</td><td> 1</td><td> 2</td></tr>\n",
       "\t<tr><td> 359</td><td>0558</td><td>2426</td><td>194</td><td>12.341053</td><td>1.7957895</td><td> 903</td><td>0.63578947</td><td>3.0394737</td><td>612</td><td>⋯</td><td> 51</td><td>-1</td><td> 1</td><td>-1</td><td>-1</td><td>-1</td><td>-1</td><td> 1</td><td>-1</td><td>-4</td></tr>\n",
       "\t<tr><td> 379</td><td>0562</td><td>1575</td><td>272</td><td>11.725385</td><td>1.9080769</td><td> 630</td><td>0.61884615</td><td>2.9080769</td><td>317</td><td>⋯</td><td> 43</td><td>-1</td><td>-1</td><td> 1</td><td>-1</td><td> 1</td><td>-1</td><td> 1</td><td>-1</td><td>-2</td></tr>\n",
       "\t<tr><td> 406</td><td>0577</td><td>1199</td><td>209</td><td>12.899714</td><td>1.5062857</td><td> 604</td><td>0.51114286</td><td>2.5234286</td><td>335</td><td>⋯</td><td> 86</td><td>-1</td><td>-1</td><td>-1</td><td>-1</td><td> 1</td><td>-1</td><td> 1</td><td> 1</td><td>-2</td></tr>\n",
       "\t<tr><td> 442</td><td>0581</td><td>1122</td><td>154</td><td>10.826667</td><td>1.9116667</td><td> 465</td><td>0.56458333</td><td>2.6879167</td><td>260</td><td>⋯</td><td> 52</td><td>-1</td><td> 1</td><td> 1</td><td>-1</td><td> 1</td><td>-1</td><td> 1</td><td>-1</td><td> 0</td></tr>\n",
       "\t<tr><td> 467</td><td>0613</td><td>2004</td><td>112</td><td> 7.972273</td><td>2.6154545</td><td> 618</td><td>1.01090909</td><td>3.7840909</td><td>164</td><td>⋯</td><td>122</td><td>-1</td><td>-1</td><td>-1</td><td>-1</td><td> 1</td><td> 1</td><td> 1</td><td> 1</td><td> 0</td></tr>\n",
       "\t<tr><td> 490</td><td>0628</td><td>1650</td><td>222</td><td> 7.926809</td><td>1.2534043</td><td> 586</td><td>0.47808511</td><td>2.2865957</td><td>414</td><td>⋯</td><td> 74</td><td>-1</td><td> 1</td><td>-1</td><td> 1</td><td>-1</td><td> 1</td><td>-1</td><td>-1</td><td>-2</td></tr>\n",
       "\t<tr><td> 538</td><td>0632</td><td>  22</td><td>  0</td><td> 1.315789</td><td>0.3463158</td><td>  15</td><td>0.02789474</td><td>0.2457895</td><td>  3</td><td>⋯</td><td> 17</td><td>-1</td><td>-1</td><td> 1</td><td>-1</td><td> 1</td><td>-1</td><td>-1</td><td>-1</td><td>-4</td></tr>\n",
       "\t<tr><td> 558</td><td>0647</td><td>2666</td><td>305</td><td>12.970227</td><td>1.7561364</td><td>1028</td><td>0.53181818</td><td>3.0579545</td><td>673</td><td>⋯</td><td>202</td><td> 1</td><td>-1</td><td>-1</td><td>-1</td><td> 1</td><td> 1</td><td> 1</td><td> 1</td><td> 2</td></tr>\n",
       "\t<tr><td> 603</td><td>0651</td><td> 386</td><td> 85</td><td>10.046667</td><td>1.8566667</td><td> 195</td><td>0.44555556</td><td>1.9977778</td><td> 89</td><td>⋯</td><td> 30</td><td>-1</td><td>-1</td><td> 1</td><td>-1</td><td> 1</td><td>-1</td><td>-1</td><td>-1</td><td>-4</td></tr>\n",
       "\t<tr><td> 622</td><td>0666</td><td>1640</td><td>206</td><td> 9.595600</td><td>1.8664000</td><td> 677</td><td>0.65200000</td><td>2.6424000</td><td>299</td><td>⋯</td><td> 49</td><td>-1</td><td> 1</td><td> 1</td><td>-1</td><td> 1</td><td>-1</td><td> 1</td><td>-1</td><td> 0</td></tr>\n",
       "\t<tr><td> 648</td><td>0670</td><td>1924</td><td>218</td><td> 9.472667</td><td>2.6300000</td><td> 643</td><td>0.78800000</td><td>3.4773333</td><td>262</td><td>⋯</td><td>105</td><td>-1</td><td> 1</td><td>-1</td><td>-1</td><td> 1</td><td>-1</td><td> 1</td><td> 1</td><td> 0</td></tr>\n",
       "\t<tr><td> 664</td><td>0685</td><td>3332</td><td>264</td><td> 8.491765</td><td>2.3091176</td><td>1108</td><td>0.95382353</td><td>3.4076471</td><td>358</td><td>⋯</td><td>228</td><td>-1</td><td> 1</td><td>-1</td><td>-1</td><td> 1</td><td> 1</td><td> 1</td><td> 1</td><td> 2</td></tr>\n",
       "\t<tr><td> 699</td><td>069A</td><td>2736</td><td>266</td><td> 8.954074</td><td>2.2140741</td><td> 890</td><td>0.81296296</td><td>3.4424074</td><td>402</td><td>⋯</td><td>100</td><td>-1</td><td>-1</td><td>-1</td><td>-1</td><td> 1</td><td> 1</td><td> 1</td><td> 1</td><td> 0</td></tr>\n",
       "\t<tr><td> 754</td><td>0717</td><td> 187</td><td> 38</td><td> 6.321481</td><td>1.2388889</td><td> 201</td><td>0.44962963</td><td>1.3770370</td><td> 46</td><td>⋯</td><td> 25</td><td>-1</td><td>-1</td><td> 1</td><td>-1</td><td> 1</td><td>-1</td><td> 1</td><td>-1</td><td>-2</td></tr>\n",
       "\t<tr><td> 782</td><td>0721</td><td>1079</td><td>134</td><td> 6.017273</td><td>1.4021212</td><td> 652</td><td>0.50121212</td><td>1.4160606</td><td>155</td><td>⋯</td><td> 63</td><td>-1</td><td>-1</td><td> 1</td><td> 1</td><td> 1</td><td>-1</td><td>-1</td><td>-1</td><td>-2</td></tr>\n",
       "\t<tr><td> 816</td><td>0736</td><td>1720</td><td>203</td><td> 9.821731</td><td>1.6317308</td><td> 861</td><td>0.60461538</td><td>2.2546154</td><td>352</td><td>⋯</td><td>130</td><td> 1</td><td>-1</td><td>-1</td><td>-1</td><td>-1</td><td>-1</td><td>-1</td><td> 1</td><td>-4</td></tr>\n",
       "\t<tr><td> 869</td><td>0740</td><td>2400</td><td>369</td><td>10.561176</td><td>2.1450980</td><td> 999</td><td>0.71000000</td><td>3.0329412</td><td>475</td><td>⋯</td><td>125</td><td>-1</td><td>-1</td><td> 1</td><td>-1</td><td> 1</td><td>-1</td><td> 1</td><td> 1</td><td> 0</td></tr>\n",
       "\t<tr><td> 921</td><td>0755</td><td>1885</td><td>208</td><td> 8.498947</td><td>2.3639474</td><td> 633</td><td>0.92447368</td><td>3.4928947</td><td>254</td><td>⋯</td><td>125</td><td> 1</td><td>-1</td><td>-1</td><td> 1</td><td> 1</td><td> 1</td><td> 1</td><td> 1</td><td> 4</td></tr>\n",
       "\t<tr><td> 960</td><td>076A</td><td>1118</td><td>175</td><td> 9.254706</td><td>1.5705882</td><td> 531</td><td>0.49088235</td><td>2.0441176</td><td>313</td><td>⋯</td><td> 11</td><td>-1</td><td> 1</td><td> 1</td><td>-1</td><td> 1</td><td>-1</td><td>-1</td><td>-1</td><td>-2</td></tr>\n",
       "\t<tr><td> 995</td><td>0789</td><td>2778</td><td>357</td><td>10.133636</td><td>2.0570455</td><td>1119</td><td>0.71704545</td><td>3.0304545</td><td>499</td><td>⋯</td><td>214</td><td> 1</td><td>-1</td><td>-1</td><td> 1</td><td> 1</td><td> 1</td><td> 1</td><td> 1</td><td> 4</td></tr>\n",
       "\t<tr><td>1040</td><td>0793</td><td>1405</td><td>139</td><td> 9.321481</td><td>2.1688889</td><td> 481</td><td>0.76111111</td><td>3.2411111</td><td>220</td><td>⋯</td><td> 75</td><td>-1</td><td> 1</td><td>-1</td><td> 1</td><td> 1</td><td>-1</td><td> 1</td><td>-1</td><td> 0</td></tr>\n",
       "\t<tr><td>1068</td><td>0825</td><td>1297</td><td>201</td><td> 8.183793</td><td>1.1762069</td><td> 598</td><td>0.35586207</td><td>1.7984483</td><td>368</td><td>⋯</td><td> 49</td><td>-1</td><td>-1</td><td>-1</td><td>-1</td><td> 1</td><td>-1</td><td> 1</td><td>-1</td><td>-4</td></tr>\n",
       "\t<tr><td>⋮</td><td>⋮</td><td>⋮</td><td>⋮</td><td>⋮</td><td>⋮</td><td>⋮</td><td>⋮</td><td>⋮</td><td>⋮</td><td>⋱</td><td>⋮</td><td>⋮</td><td>⋮</td><td>⋮</td><td>⋮</td><td>⋮</td><td>⋮</td><td>⋮</td><td>⋮</td><td>⋮</td></tr>\n",
       "\t<tr><td>4700</td><td>9602</td><td>2538</td><td> 33</td><td>11.271429</td><td>1.336286</td><td>1125</td><td>0.6245714</td><td>2.859429</td><td>560</td><td>⋯</td><td>196</td><td> 1</td><td> 1</td><td>-1</td><td>-1</td><td> 1</td><td> 1</td><td> 1</td><td> 1</td><td> 4</td></tr>\n",
       "\t<tr><td>4736</td><td>9617</td><td>1280</td><td> 17</td><td> 8.081026</td><td>1.627179</td><td> 413</td><td>1.0489744</td><td>3.324872</td><td>153</td><td>⋯</td><td>264</td><td> 1</td><td> 1</td><td>-1</td><td> 1</td><td>-1</td><td> 1</td><td>-1</td><td> 1</td><td> 2</td></tr>\n",
       "\t<tr><td>4776</td><td>9621</td><td>  80</td><td>  5</td><td> 8.440000</td><td>2.395000</td><td>  26</td><td>1.1150000</td><td>4.585000</td><td>  6</td><td>⋯</td><td>136</td><td> 1</td><td>-1</td><td> 1</td><td>-1</td><td> 1</td><td> 1</td><td> 1</td><td> 1</td><td> 4</td></tr>\n",
       "\t<tr><td>4779</td><td>9636</td><td>3448</td><td> 58</td><td> 9.434359</td><td>1.714359</td><td>1361</td><td>0.8828205</td><td>3.254872</td><td>642</td><td>⋯</td><td>375</td><td> 1</td><td> 1</td><td>-1</td><td> 1</td><td> 1</td><td> 1</td><td> 1</td><td> 1</td><td> 6</td></tr>\n",
       "\t<tr><td>4819</td><td>9640</td><td>2492</td><td>122</td><td> 8.421600</td><td>1.768800</td><td> 976</td><td>0.8398000</td><td>3.098200</td><td>547</td><td>⋯</td><td>  2</td><td> 1</td><td> 1</td><td> 1</td><td> 1</td><td> 1</td><td> 1</td><td>-1</td><td>-1</td><td> 4</td></tr>\n",
       "\t<tr><td>4870</td><td>9655</td><td>2276</td><td> 34</td><td> 8.248085</td><td>1.504681</td><td> 767</td><td>0.8761702</td><td>3.048723</td><td>317</td><td>⋯</td><td>194</td><td> 1</td><td> 1</td><td>-1</td><td>-1</td><td>-1</td><td>-1</td><td> 1</td><td> 1</td><td> 0</td></tr>\n",
       "\t<tr><td>4918</td><td>966A</td><td>3204</td><td> 29</td><td> 9.448140</td><td>1.806512</td><td>1072</td><td>0.9397674</td><td>3.708372</td><td>434</td><td>⋯</td><td>104</td><td> 1</td><td> 1</td><td>-1</td><td>-1</td><td> 1</td><td>-1</td><td> 1</td><td> 1</td><td> 2</td></tr>\n",
       "\t<tr><td>4962</td><td>9674</td><td>2472</td><td> 40</td><td>11.667632</td><td>1.641316</td><td> 977</td><td>0.9239474</td><td>3.353158</td><td>498</td><td>⋯</td><td>102</td><td> 1</td><td>-1</td><td>-1</td><td>-1</td><td>-1</td><td>-1</td><td> 1</td><td> 1</td><td>-2</td></tr>\n",
       "\t<tr><td>5001</td><td>9689</td><td> 449</td><td>  6</td><td>10.090000</td><td>1.653333</td><td> 151</td><td>1.0600000</td><td>3.516667</td><td> 59</td><td>⋯</td><td>  7</td><td>-1</td><td> 1</td><td> 1</td><td>-1</td><td>-1</td><td>-1</td><td>-1</td><td>-1</td><td>-4</td></tr>\n",
       "\t<tr><td>5005</td><td>9693</td><td> 888</td><td> 13</td><td> 8.518824</td><td>1.993824</td><td> 331</td><td>1.0623529</td><td>3.175882</td><td>141</td><td>⋯</td><td> 51</td><td> 1</td><td> 1</td><td>-1</td><td> 1</td><td> 1</td><td> 1</td><td> 1</td><td>-1</td><td> 4</td></tr>\n",
       "\t<tr><td>5040</td><td>9706</td><td>2384</td><td>  4</td><td>10.708056</td><td>1.769444</td><td> 869</td><td>0.9541667</td><td>3.481667</td><td>381</td><td>⋯</td><td> 93</td><td> 1</td><td> 1</td><td> 1</td><td>-1</td><td> 1</td><td>-1</td><td> 1</td><td> 1</td><td> 4</td></tr>\n",
       "\t<tr><td>5077</td><td>9710</td><td>3209</td><td> 47</td><td> 9.064634</td><td>1.930488</td><td>1193</td><td>1.2814634</td><td>3.494146</td><td>435</td><td>⋯</td><td>104</td><td> 1</td><td> 1</td><td>-1</td><td>-1</td><td> 1</td><td> 1</td><td>-1</td><td> 1</td><td> 2</td></tr>\n",
       "\t<tr><td>5119</td><td>9725</td><td>1625</td><td> 32</td><td> 7.207750</td><td>1.811000</td><td> 538</td><td>1.0757500</td><td>3.254500</td><td>145</td><td>⋯</td><td> 56</td><td> 1</td><td>-1</td><td> 1</td><td>-1</td><td>-1</td><td>-1</td><td> 1</td><td>-1</td><td>-2</td></tr>\n",
       "\t<tr><td>5160</td><td>973A</td><td>2777</td><td> 24</td><td> 9.102759</td><td>1.548621</td><td>1093</td><td>0.9968966</td><td>3.122759</td><td>353</td><td>⋯</td><td>138</td><td> 1</td><td> 1</td><td>-1</td><td>-1</td><td>-1</td><td>-1</td><td> 1</td><td> 1</td><td> 0</td></tr>\n",
       "\t<tr><td>5190</td><td>9744</td><td> 114</td><td>  3</td><td> 3.595000</td><td>1.265000</td><td>  39</td><td>0.6600000</td><td>1.600000</td><td>  5</td><td>⋯</td><td>  9</td><td>-1</td><td>-1</td><td> 1</td><td> 1</td><td>-1</td><td>-1</td><td>-1</td><td>-1</td><td>-4</td></tr>\n",
       "\t<tr><td>5193</td><td>9759</td><td> 198</td><td>  6</td><td> 7.125000</td><td>2.555000</td><td>  46</td><td>1.5400000</td><td>4.605000</td><td>  9</td><td>⋯</td><td> 10</td><td>-1</td><td>-1</td><td> 1</td><td> 1</td><td> 1</td><td>-1</td><td> 1</td><td>-1</td><td> 0</td></tr>\n",
       "\t<tr><td>5196</td><td>9763</td><td>1271</td><td> 42</td><td> 9.488621</td><td>1.640000</td><td> 449</td><td>0.6982759</td><td>3.150345</td><td>235</td><td>⋯</td><td> 57</td><td>-1</td><td> 1</td><td> 1</td><td>-1</td><td>-1</td><td>-1</td><td> 1</td><td>-1</td><td>-2</td></tr>\n",
       "\t<tr><td>5226</td><td>9778</td><td> 617</td><td> 12</td><td> 9.938571</td><td>1.977500</td><td> 197</td><td>0.8014286</td><td>3.610714</td><td>121</td><td>⋯</td><td> -2</td><td>-1</td><td>-1</td><td> 1</td><td>-1</td><td> 1</td><td>-1</td><td> 1</td><td>-1</td><td>-2</td></tr>\n",
       "\t<tr><td>5255</td><td>9797</td><td>  42</td><td>  3</td><td> 7.960000</td><td>1.255000</td><td>  15</td><td>0.9800000</td><td>3.215000</td><td>  8</td><td>⋯</td><td>  0</td><td>-1</td><td>-1</td><td> 1</td><td> 1</td><td>-1</td><td>-1</td><td> 1</td><td>-1</td><td>-2</td></tr>\n",
       "\t<tr><td>5258</td><td>980A</td><td> 580</td><td>  4</td><td>12.655333</td><td>1.533333</td><td> 259</td><td>0.6546667</td><td>3.421333</td><td>174</td><td>⋯</td><td>-23</td><td>-1</td><td>-1</td><td> 1</td><td>-1</td><td>-1</td><td>-1</td><td> 1</td><td>-1</td><td>-4</td></tr>\n",
       "\t<tr><td>5274</td><td>9814</td><td>2705</td><td> 14</td><td>10.026444</td><td>1.566444</td><td>1123</td><td>0.8157778</td><td>3.132667</td><td>392</td><td>⋯</td><td>325</td><td> 1</td><td> 1</td><td>-1</td><td>-1</td><td>-1</td><td> 1</td><td>-1</td><td> 1</td><td> 0</td></tr>\n",
       "\t<tr><td>5320</td><td>9829</td><td>  69</td><td>  0</td><td> 5.303333</td><td>1.206667</td><td>  21</td><td>0.7500000</td><td>2.366667</td><td>  0</td><td>⋯</td><td> 35</td><td>-1</td><td>-1</td><td> 1</td><td> 1</td><td>-1</td><td>-1</td><td>-1</td><td>-1</td><td>-4</td></tr>\n",
       "\t<tr><td>5327</td><td>9833</td><td> 742</td><td>  6</td><td> 8.356667</td><td>1.528889</td><td> 273</td><td>1.0611111</td><td>3.155556</td><td> 51</td><td>⋯</td><td> 85</td><td> 1</td><td>-1</td><td> 1</td><td>-1</td><td>-1</td><td>-1</td><td>-1</td><td> 1</td><td>-2</td></tr>\n",
       "\t<tr><td>5337</td><td>9848</td><td>1554</td><td> 13</td><td> 9.500000</td><td>1.678889</td><td> 658</td><td>0.9477778</td><td>3.392222</td><td>179</td><td>⋯</td><td>165</td><td> 1</td><td>-1</td><td> 1</td><td>-1</td><td>-1</td><td> 1</td><td>-1</td><td> 1</td><td> 0</td></tr>\n",
       "\t<tr><td>5356</td><td>9852</td><td> 998</td><td>  3</td><td>11.296842</td><td>1.479474</td><td> 394</td><td>0.8747368</td><td>2.987895</td><td>205</td><td>⋯</td><td> 19</td><td>-1</td><td>-1</td><td> 1</td><td>-1</td><td>-1</td><td>-1</td><td>-1</td><td>-1</td><td>-6</td></tr>\n",
       "\t<tr><td>5376</td><td>9867</td><td> 796</td><td>  9</td><td>10.288824</td><td>1.610588</td><td> 287</td><td>1.0458824</td><td>3.331176</td><td>116</td><td>⋯</td><td> 15</td><td> 1</td><td> 1</td><td> 1</td><td>-1</td><td> 1</td><td>-1</td><td>-1</td><td>-1</td><td> 0</td></tr>\n",
       "\t<tr><td>5394</td><td>9871</td><td>2178</td><td> 18</td><td> 8.794054</td><td>1.571351</td><td> 887</td><td>0.9345946</td><td>2.871351</td><td>271</td><td>⋯</td><td>162</td><td> 1</td><td> 1</td><td> 1</td><td>-1</td><td>-1</td><td>-1</td><td>-1</td><td> 1</td><td> 0</td></tr>\n",
       "\t<tr><td>5432</td><td>9886</td><td> 174</td><td>  0</td><td>14.298000</td><td>1.420000</td><td>  90</td><td>0.6260000</td><td>3.398000</td><td> 46</td><td>⋯</td><td> 10</td><td>-1</td><td>-1</td><td> 1</td><td>-1</td><td> 1</td><td>-1</td><td> 1</td><td>-1</td><td>-2</td></tr>\n",
       "\t<tr><td>5438</td><td>9890</td><td>  19</td><td>  0</td><td> 0.250000</td><td>0.312500</td><td>  18</td><td>0.1100000</td><td>0.291250</td><td>  0</td><td>⋯</td><td> 26</td><td>-1</td><td>-1</td><td> 1</td><td> 1</td><td>-1</td><td>-1</td><td>-1</td><td>-1</td><td>-4</td></tr>\n",
       "\t<tr><td>5447</td><td>9903</td><td>  61</td><td>  0</td><td>13.560000</td><td>1.540000</td><td>  26</td><td>0.9000000</td><td>3.590000</td><td> 10</td><td>⋯</td><td> 30</td><td>-1</td><td>-1</td><td> 1</td><td>-1</td><td>-1</td><td>-1</td><td> 1</td><td>-1</td><td>-4</td></tr>\n",
       "</tbody>\n",
       "</table>\n"
      ],
      "text/latex": [
       "A data.frame: 190 × 40\n",
       "\\begin{tabular}{lllllllllllllllllllll}\n",
       " index\\_2010 & AGEB & P\\_TOTAL\\_2010 & POB65\\_MAS\\_2010 & GRAPROES\\_2010 & PROM\\_HNV\\_2010 & VIVTOT\\_2010 & PRO\\_OCUP\\_C\\_2010 & PROM\\_OCUP\\_2010 & VPH\\_PC\\_2010 & ⋯ & cambio\\_computadora & puntaje\\_poblacion & puntaje\\_ninos & puntaje\\_adultos\\_mayores & puntaje\\_educacion & puntaje\\_hijos & puntaje\\_viviendas & puntaje\\_ocupantes & puntaje\\_computadora & ITSE\\\\\n",
       " <int> & <chr> & <dbl> & <dbl> & <dbl> & <dbl> & <dbl> & <dbl> & <dbl> & <dbl> & ⋯ & <dbl> & <dbl> & <dbl> & <dbl> & <dbl> & <dbl> & <dbl> & <dbl> & <dbl> & <dbl>\\\\\n",
       "\\hline\n",
       "\t    4 & 0435 & 3632 & 325 &  9.617302 & 2.1933333 & 1321 & 0.85301587 & 3.3525397 & 584 & ⋯ & 198 &  1 &  1 & -1 & -1 &  1 &  1 &  1 &  1 &  4\\\\\n",
       "\t   68 & 044A & 1539 & 224 &  9.569643 & 2.2642857 &  549 & 0.75071429 & 3.1521429 & 254 & ⋯ &  76 & -1 &  1 &  1 & -1 &  1 & -1 &  1 & -1 &  0\\\\\n",
       "\t   97 & 0454 & 2211 & 188 & 10.994717 & 1.9290566 &  742 & 0.66188679 & 3.1458491 & 438 & ⋯ &  93 &  1 & -1 & -1 & -1 &  1 &  1 &  1 &  1 &  2\\\\\n",
       "\t  151 & 0488 & 2045 & 140 &  8.206786 & 2.4053571 &  635 & 1.05607143 & 3.7960714 & 189 & ⋯ & 120 &  1 &  1 & -1 & -1 &  1 &  1 &  1 &  1 &  4\\\\\n",
       "\t  180 & 0492 &  557 &  15 &  7.670000 & 0.9128261 &  281 & 0.37260870 & 1.6482609 & 189 & ⋯ & 171 &  1 & -1 & -1 &  1 & -1 &  1 & -1 &  1 &  0\\\\\n",
       "\t  227 & 0505 &  730 & 135 & 14.026154 & 1.9992308 &  300 & 0.50615385 & 2.8623077 & 199 & ⋯ &  51 & -1 & -1 &  1 & -1 &  1 & -1 &  1 & -1 & -2\\\\\n",
       "\t  241 & 0524 & 3040 & 276 &  9.127049 & 2.5001639 & 1083 & 0.81688525 & 3.2960656 & 497 & ⋯ &  -4 & -1 &  1 &  1 & -1 &  1 & -1 &  1 & -1 &  0\\\\\n",
       "\t  303 & 0543 & 1871 & 223 &  8.496364 & 2.4614545 &  679 & 0.91418182 & 3.3274545 & 232 & ⋯ &  92 & -1 &  1 &  1 & -1 &  1 & -1 &  1 &  1 &  2\\\\\n",
       "\t  359 & 0558 & 2426 & 194 & 12.341053 & 1.7957895 &  903 & 0.63578947 & 3.0394737 & 612 & ⋯ &  51 & -1 &  1 & -1 & -1 & -1 & -1 &  1 & -1 & -4\\\\\n",
       "\t  379 & 0562 & 1575 & 272 & 11.725385 & 1.9080769 &  630 & 0.61884615 & 2.9080769 & 317 & ⋯ &  43 & -1 & -1 &  1 & -1 &  1 & -1 &  1 & -1 & -2\\\\\n",
       "\t  406 & 0577 & 1199 & 209 & 12.899714 & 1.5062857 &  604 & 0.51114286 & 2.5234286 & 335 & ⋯ &  86 & -1 & -1 & -1 & -1 &  1 & -1 &  1 &  1 & -2\\\\\n",
       "\t  442 & 0581 & 1122 & 154 & 10.826667 & 1.9116667 &  465 & 0.56458333 & 2.6879167 & 260 & ⋯ &  52 & -1 &  1 &  1 & -1 &  1 & -1 &  1 & -1 &  0\\\\\n",
       "\t  467 & 0613 & 2004 & 112 &  7.972273 & 2.6154545 &  618 & 1.01090909 & 3.7840909 & 164 & ⋯ & 122 & -1 & -1 & -1 & -1 &  1 &  1 &  1 &  1 &  0\\\\\n",
       "\t  490 & 0628 & 1650 & 222 &  7.926809 & 1.2534043 &  586 & 0.47808511 & 2.2865957 & 414 & ⋯ &  74 & -1 &  1 & -1 &  1 & -1 &  1 & -1 & -1 & -2\\\\\n",
       "\t  538 & 0632 &   22 &   0 &  1.315789 & 0.3463158 &   15 & 0.02789474 & 0.2457895 &   3 & ⋯ &  17 & -1 & -1 &  1 & -1 &  1 & -1 & -1 & -1 & -4\\\\\n",
       "\t  558 & 0647 & 2666 & 305 & 12.970227 & 1.7561364 & 1028 & 0.53181818 & 3.0579545 & 673 & ⋯ & 202 &  1 & -1 & -1 & -1 &  1 &  1 &  1 &  1 &  2\\\\\n",
       "\t  603 & 0651 &  386 &  85 & 10.046667 & 1.8566667 &  195 & 0.44555556 & 1.9977778 &  89 & ⋯ &  30 & -1 & -1 &  1 & -1 &  1 & -1 & -1 & -1 & -4\\\\\n",
       "\t  622 & 0666 & 1640 & 206 &  9.595600 & 1.8664000 &  677 & 0.65200000 & 2.6424000 & 299 & ⋯ &  49 & -1 &  1 &  1 & -1 &  1 & -1 &  1 & -1 &  0\\\\\n",
       "\t  648 & 0670 & 1924 & 218 &  9.472667 & 2.6300000 &  643 & 0.78800000 & 3.4773333 & 262 & ⋯ & 105 & -1 &  1 & -1 & -1 &  1 & -1 &  1 &  1 &  0\\\\\n",
       "\t  664 & 0685 & 3332 & 264 &  8.491765 & 2.3091176 & 1108 & 0.95382353 & 3.4076471 & 358 & ⋯ & 228 & -1 &  1 & -1 & -1 &  1 &  1 &  1 &  1 &  2\\\\\n",
       "\t  699 & 069A & 2736 & 266 &  8.954074 & 2.2140741 &  890 & 0.81296296 & 3.4424074 & 402 & ⋯ & 100 & -1 & -1 & -1 & -1 &  1 &  1 &  1 &  1 &  0\\\\\n",
       "\t  754 & 0717 &  187 &  38 &  6.321481 & 1.2388889 &  201 & 0.44962963 & 1.3770370 &  46 & ⋯ &  25 & -1 & -1 &  1 & -1 &  1 & -1 &  1 & -1 & -2\\\\\n",
       "\t  782 & 0721 & 1079 & 134 &  6.017273 & 1.4021212 &  652 & 0.50121212 & 1.4160606 & 155 & ⋯ &  63 & -1 & -1 &  1 &  1 &  1 & -1 & -1 & -1 & -2\\\\\n",
       "\t  816 & 0736 & 1720 & 203 &  9.821731 & 1.6317308 &  861 & 0.60461538 & 2.2546154 & 352 & ⋯ & 130 &  1 & -1 & -1 & -1 & -1 & -1 & -1 &  1 & -4\\\\\n",
       "\t  869 & 0740 & 2400 & 369 & 10.561176 & 2.1450980 &  999 & 0.71000000 & 3.0329412 & 475 & ⋯ & 125 & -1 & -1 &  1 & -1 &  1 & -1 &  1 &  1 &  0\\\\\n",
       "\t  921 & 0755 & 1885 & 208 &  8.498947 & 2.3639474 &  633 & 0.92447368 & 3.4928947 & 254 & ⋯ & 125 &  1 & -1 & -1 &  1 &  1 &  1 &  1 &  1 &  4\\\\\n",
       "\t  960 & 076A & 1118 & 175 &  9.254706 & 1.5705882 &  531 & 0.49088235 & 2.0441176 & 313 & ⋯ &  11 & -1 &  1 &  1 & -1 &  1 & -1 & -1 & -1 & -2\\\\\n",
       "\t  995 & 0789 & 2778 & 357 & 10.133636 & 2.0570455 & 1119 & 0.71704545 & 3.0304545 & 499 & ⋯ & 214 &  1 & -1 & -1 &  1 &  1 &  1 &  1 &  1 &  4\\\\\n",
       "\t 1040 & 0793 & 1405 & 139 &  9.321481 & 2.1688889 &  481 & 0.76111111 & 3.2411111 & 220 & ⋯ &  75 & -1 &  1 & -1 &  1 &  1 & -1 &  1 & -1 &  0\\\\\n",
       "\t 1068 & 0825 & 1297 & 201 &  8.183793 & 1.1762069 &  598 & 0.35586207 & 1.7984483 & 368 & ⋯ &  49 & -1 & -1 & -1 & -1 &  1 & -1 &  1 & -1 & -4\\\\\n",
       "\t ⋮ & ⋮ & ⋮ & ⋮ & ⋮ & ⋮ & ⋮ & ⋮ & ⋮ & ⋮ & ⋱ & ⋮ & ⋮ & ⋮ & ⋮ & ⋮ & ⋮ & ⋮ & ⋮ & ⋮ & ⋮\\\\\n",
       "\t 4700 & 9602 & 2538 &  33 & 11.271429 & 1.336286 & 1125 & 0.6245714 & 2.859429 & 560 & ⋯ & 196 &  1 &  1 & -1 & -1 &  1 &  1 &  1 &  1 &  4\\\\\n",
       "\t 4736 & 9617 & 1280 &  17 &  8.081026 & 1.627179 &  413 & 1.0489744 & 3.324872 & 153 & ⋯ & 264 &  1 &  1 & -1 &  1 & -1 &  1 & -1 &  1 &  2\\\\\n",
       "\t 4776 & 9621 &   80 &   5 &  8.440000 & 2.395000 &   26 & 1.1150000 & 4.585000 &   6 & ⋯ & 136 &  1 & -1 &  1 & -1 &  1 &  1 &  1 &  1 &  4\\\\\n",
       "\t 4779 & 9636 & 3448 &  58 &  9.434359 & 1.714359 & 1361 & 0.8828205 & 3.254872 & 642 & ⋯ & 375 &  1 &  1 & -1 &  1 &  1 &  1 &  1 &  1 &  6\\\\\n",
       "\t 4819 & 9640 & 2492 & 122 &  8.421600 & 1.768800 &  976 & 0.8398000 & 3.098200 & 547 & ⋯ &   2 &  1 &  1 &  1 &  1 &  1 &  1 & -1 & -1 &  4\\\\\n",
       "\t 4870 & 9655 & 2276 &  34 &  8.248085 & 1.504681 &  767 & 0.8761702 & 3.048723 & 317 & ⋯ & 194 &  1 &  1 & -1 & -1 & -1 & -1 &  1 &  1 &  0\\\\\n",
       "\t 4918 & 966A & 3204 &  29 &  9.448140 & 1.806512 & 1072 & 0.9397674 & 3.708372 & 434 & ⋯ & 104 &  1 &  1 & -1 & -1 &  1 & -1 &  1 &  1 &  2\\\\\n",
       "\t 4962 & 9674 & 2472 &  40 & 11.667632 & 1.641316 &  977 & 0.9239474 & 3.353158 & 498 & ⋯ & 102 &  1 & -1 & -1 & -1 & -1 & -1 &  1 &  1 & -2\\\\\n",
       "\t 5001 & 9689 &  449 &   6 & 10.090000 & 1.653333 &  151 & 1.0600000 & 3.516667 &  59 & ⋯ &   7 & -1 &  1 &  1 & -1 & -1 & -1 & -1 & -1 & -4\\\\\n",
       "\t 5005 & 9693 &  888 &  13 &  8.518824 & 1.993824 &  331 & 1.0623529 & 3.175882 & 141 & ⋯ &  51 &  1 &  1 & -1 &  1 &  1 &  1 &  1 & -1 &  4\\\\\n",
       "\t 5040 & 9706 & 2384 &   4 & 10.708056 & 1.769444 &  869 & 0.9541667 & 3.481667 & 381 & ⋯ &  93 &  1 &  1 &  1 & -1 &  1 & -1 &  1 &  1 &  4\\\\\n",
       "\t 5077 & 9710 & 3209 &  47 &  9.064634 & 1.930488 & 1193 & 1.2814634 & 3.494146 & 435 & ⋯ & 104 &  1 &  1 & -1 & -1 &  1 &  1 & -1 &  1 &  2\\\\\n",
       "\t 5119 & 9725 & 1625 &  32 &  7.207750 & 1.811000 &  538 & 1.0757500 & 3.254500 & 145 & ⋯ &  56 &  1 & -1 &  1 & -1 & -1 & -1 &  1 & -1 & -2\\\\\n",
       "\t 5160 & 973A & 2777 &  24 &  9.102759 & 1.548621 & 1093 & 0.9968966 & 3.122759 & 353 & ⋯ & 138 &  1 &  1 & -1 & -1 & -1 & -1 &  1 &  1 &  0\\\\\n",
       "\t 5190 & 9744 &  114 &   3 &  3.595000 & 1.265000 &   39 & 0.6600000 & 1.600000 &   5 & ⋯ &   9 & -1 & -1 &  1 &  1 & -1 & -1 & -1 & -1 & -4\\\\\n",
       "\t 5193 & 9759 &  198 &   6 &  7.125000 & 2.555000 &   46 & 1.5400000 & 4.605000 &   9 & ⋯ &  10 & -1 & -1 &  1 &  1 &  1 & -1 &  1 & -1 &  0\\\\\n",
       "\t 5196 & 9763 & 1271 &  42 &  9.488621 & 1.640000 &  449 & 0.6982759 & 3.150345 & 235 & ⋯ &  57 & -1 &  1 &  1 & -1 & -1 & -1 &  1 & -1 & -2\\\\\n",
       "\t 5226 & 9778 &  617 &  12 &  9.938571 & 1.977500 &  197 & 0.8014286 & 3.610714 & 121 & ⋯ &  -2 & -1 & -1 &  1 & -1 &  1 & -1 &  1 & -1 & -2\\\\\n",
       "\t 5255 & 9797 &   42 &   3 &  7.960000 & 1.255000 &   15 & 0.9800000 & 3.215000 &   8 & ⋯ &   0 & -1 & -1 &  1 &  1 & -1 & -1 &  1 & -1 & -2\\\\\n",
       "\t 5258 & 980A &  580 &   4 & 12.655333 & 1.533333 &  259 & 0.6546667 & 3.421333 & 174 & ⋯ & -23 & -1 & -1 &  1 & -1 & -1 & -1 &  1 & -1 & -4\\\\\n",
       "\t 5274 & 9814 & 2705 &  14 & 10.026444 & 1.566444 & 1123 & 0.8157778 & 3.132667 & 392 & ⋯ & 325 &  1 &  1 & -1 & -1 & -1 &  1 & -1 &  1 &  0\\\\\n",
       "\t 5320 & 9829 &   69 &   0 &  5.303333 & 1.206667 &   21 & 0.7500000 & 2.366667 &   0 & ⋯ &  35 & -1 & -1 &  1 &  1 & -1 & -1 & -1 & -1 & -4\\\\\n",
       "\t 5327 & 9833 &  742 &   6 &  8.356667 & 1.528889 &  273 & 1.0611111 & 3.155556 &  51 & ⋯ &  85 &  1 & -1 &  1 & -1 & -1 & -1 & -1 &  1 & -2\\\\\n",
       "\t 5337 & 9848 & 1554 &  13 &  9.500000 & 1.678889 &  658 & 0.9477778 & 3.392222 & 179 & ⋯ & 165 &  1 & -1 &  1 & -1 & -1 &  1 & -1 &  1 &  0\\\\\n",
       "\t 5356 & 9852 &  998 &   3 & 11.296842 & 1.479474 &  394 & 0.8747368 & 2.987895 & 205 & ⋯ &  19 & -1 & -1 &  1 & -1 & -1 & -1 & -1 & -1 & -6\\\\\n",
       "\t 5376 & 9867 &  796 &   9 & 10.288824 & 1.610588 &  287 & 1.0458824 & 3.331176 & 116 & ⋯ &  15 &  1 &  1 &  1 & -1 &  1 & -1 & -1 & -1 &  0\\\\\n",
       "\t 5394 & 9871 & 2178 &  18 &  8.794054 & 1.571351 &  887 & 0.9345946 & 2.871351 & 271 & ⋯ & 162 &  1 &  1 &  1 & -1 & -1 & -1 & -1 &  1 &  0\\\\\n",
       "\t 5432 & 9886 &  174 &   0 & 14.298000 & 1.420000 &   90 & 0.6260000 & 3.398000 &  46 & ⋯ &  10 & -1 & -1 &  1 & -1 &  1 & -1 &  1 & -1 & -2\\\\\n",
       "\t 5438 & 9890 &   19 &   0 &  0.250000 & 0.312500 &   18 & 0.1100000 & 0.291250 &   0 & ⋯ &  26 & -1 & -1 &  1 &  1 & -1 & -1 & -1 & -1 & -4\\\\\n",
       "\t 5447 & 9903 &   61 &   0 & 13.560000 & 1.540000 &   26 & 0.9000000 & 3.590000 &  10 & ⋯ &  30 & -1 & -1 &  1 & -1 & -1 & -1 &  1 & -1 & -4\\\\\n",
       "\\end{tabular}\n"
      ],
      "text/markdown": [
       "\n",
       "A data.frame: 190 × 40\n",
       "\n",
       "| index_2010 &lt;int&gt; | AGEB &lt;chr&gt; | P_TOTAL_2010 &lt;dbl&gt; | POB65_MAS_2010 &lt;dbl&gt; | GRAPROES_2010 &lt;dbl&gt; | PROM_HNV_2010 &lt;dbl&gt; | VIVTOT_2010 &lt;dbl&gt; | PRO_OCUP_C_2010 &lt;dbl&gt; | PROM_OCUP_2010 &lt;dbl&gt; | VPH_PC_2010 &lt;dbl&gt; | ⋯ ⋯ | cambio_computadora &lt;dbl&gt; | puntaje_poblacion &lt;dbl&gt; | puntaje_ninos &lt;dbl&gt; | puntaje_adultos_mayores &lt;dbl&gt; | puntaje_educacion &lt;dbl&gt; | puntaje_hijos &lt;dbl&gt; | puntaje_viviendas &lt;dbl&gt; | puntaje_ocupantes &lt;dbl&gt; | puntaje_computadora &lt;dbl&gt; | ITSE &lt;dbl&gt; |\n",
       "|---|---|---|---|---|---|---|---|---|---|---|---|---|---|---|---|---|---|---|---|---|\n",
       "|    4 | 0435 | 3632 | 325 |  9.617302 | 2.1933333 | 1321 | 0.85301587 | 3.3525397 | 584 | ⋯ | 198 |  1 |  1 | -1 | -1 |  1 |  1 |  1 |  1 |  4 |\n",
       "|   68 | 044A | 1539 | 224 |  9.569643 | 2.2642857 |  549 | 0.75071429 | 3.1521429 | 254 | ⋯ |  76 | -1 |  1 |  1 | -1 |  1 | -1 |  1 | -1 |  0 |\n",
       "|   97 | 0454 | 2211 | 188 | 10.994717 | 1.9290566 |  742 | 0.66188679 | 3.1458491 | 438 | ⋯ |  93 |  1 | -1 | -1 | -1 |  1 |  1 |  1 |  1 |  2 |\n",
       "|  151 | 0488 | 2045 | 140 |  8.206786 | 2.4053571 |  635 | 1.05607143 | 3.7960714 | 189 | ⋯ | 120 |  1 |  1 | -1 | -1 |  1 |  1 |  1 |  1 |  4 |\n",
       "|  180 | 0492 |  557 |  15 |  7.670000 | 0.9128261 |  281 | 0.37260870 | 1.6482609 | 189 | ⋯ | 171 |  1 | -1 | -1 |  1 | -1 |  1 | -1 |  1 |  0 |\n",
       "|  227 | 0505 |  730 | 135 | 14.026154 | 1.9992308 |  300 | 0.50615385 | 2.8623077 | 199 | ⋯ |  51 | -1 | -1 |  1 | -1 |  1 | -1 |  1 | -1 | -2 |\n",
       "|  241 | 0524 | 3040 | 276 |  9.127049 | 2.5001639 | 1083 | 0.81688525 | 3.2960656 | 497 | ⋯ |  -4 | -1 |  1 |  1 | -1 |  1 | -1 |  1 | -1 |  0 |\n",
       "|  303 | 0543 | 1871 | 223 |  8.496364 | 2.4614545 |  679 | 0.91418182 | 3.3274545 | 232 | ⋯ |  92 | -1 |  1 |  1 | -1 |  1 | -1 |  1 |  1 |  2 |\n",
       "|  359 | 0558 | 2426 | 194 | 12.341053 | 1.7957895 |  903 | 0.63578947 | 3.0394737 | 612 | ⋯ |  51 | -1 |  1 | -1 | -1 | -1 | -1 |  1 | -1 | -4 |\n",
       "|  379 | 0562 | 1575 | 272 | 11.725385 | 1.9080769 |  630 | 0.61884615 | 2.9080769 | 317 | ⋯ |  43 | -1 | -1 |  1 | -1 |  1 | -1 |  1 | -1 | -2 |\n",
       "|  406 | 0577 | 1199 | 209 | 12.899714 | 1.5062857 |  604 | 0.51114286 | 2.5234286 | 335 | ⋯ |  86 | -1 | -1 | -1 | -1 |  1 | -1 |  1 |  1 | -2 |\n",
       "|  442 | 0581 | 1122 | 154 | 10.826667 | 1.9116667 |  465 | 0.56458333 | 2.6879167 | 260 | ⋯ |  52 | -1 |  1 |  1 | -1 |  1 | -1 |  1 | -1 |  0 |\n",
       "|  467 | 0613 | 2004 | 112 |  7.972273 | 2.6154545 |  618 | 1.01090909 | 3.7840909 | 164 | ⋯ | 122 | -1 | -1 | -1 | -1 |  1 |  1 |  1 |  1 |  0 |\n",
       "|  490 | 0628 | 1650 | 222 |  7.926809 | 1.2534043 |  586 | 0.47808511 | 2.2865957 | 414 | ⋯ |  74 | -1 |  1 | -1 |  1 | -1 |  1 | -1 | -1 | -2 |\n",
       "|  538 | 0632 |   22 |   0 |  1.315789 | 0.3463158 |   15 | 0.02789474 | 0.2457895 |   3 | ⋯ |  17 | -1 | -1 |  1 | -1 |  1 | -1 | -1 | -1 | -4 |\n",
       "|  558 | 0647 | 2666 | 305 | 12.970227 | 1.7561364 | 1028 | 0.53181818 | 3.0579545 | 673 | ⋯ | 202 |  1 | -1 | -1 | -1 |  1 |  1 |  1 |  1 |  2 |\n",
       "|  603 | 0651 |  386 |  85 | 10.046667 | 1.8566667 |  195 | 0.44555556 | 1.9977778 |  89 | ⋯ |  30 | -1 | -1 |  1 | -1 |  1 | -1 | -1 | -1 | -4 |\n",
       "|  622 | 0666 | 1640 | 206 |  9.595600 | 1.8664000 |  677 | 0.65200000 | 2.6424000 | 299 | ⋯ |  49 | -1 |  1 |  1 | -1 |  1 | -1 |  1 | -1 |  0 |\n",
       "|  648 | 0670 | 1924 | 218 |  9.472667 | 2.6300000 |  643 | 0.78800000 | 3.4773333 | 262 | ⋯ | 105 | -1 |  1 | -1 | -1 |  1 | -1 |  1 |  1 |  0 |\n",
       "|  664 | 0685 | 3332 | 264 |  8.491765 | 2.3091176 | 1108 | 0.95382353 | 3.4076471 | 358 | ⋯ | 228 | -1 |  1 | -1 | -1 |  1 |  1 |  1 |  1 |  2 |\n",
       "|  699 | 069A | 2736 | 266 |  8.954074 | 2.2140741 |  890 | 0.81296296 | 3.4424074 | 402 | ⋯ | 100 | -1 | -1 | -1 | -1 |  1 |  1 |  1 |  1 |  0 |\n",
       "|  754 | 0717 |  187 |  38 |  6.321481 | 1.2388889 |  201 | 0.44962963 | 1.3770370 |  46 | ⋯ |  25 | -1 | -1 |  1 | -1 |  1 | -1 |  1 | -1 | -2 |\n",
       "|  782 | 0721 | 1079 | 134 |  6.017273 | 1.4021212 |  652 | 0.50121212 | 1.4160606 | 155 | ⋯ |  63 | -1 | -1 |  1 |  1 |  1 | -1 | -1 | -1 | -2 |\n",
       "|  816 | 0736 | 1720 | 203 |  9.821731 | 1.6317308 |  861 | 0.60461538 | 2.2546154 | 352 | ⋯ | 130 |  1 | -1 | -1 | -1 | -1 | -1 | -1 |  1 | -4 |\n",
       "|  869 | 0740 | 2400 | 369 | 10.561176 | 2.1450980 |  999 | 0.71000000 | 3.0329412 | 475 | ⋯ | 125 | -1 | -1 |  1 | -1 |  1 | -1 |  1 |  1 |  0 |\n",
       "|  921 | 0755 | 1885 | 208 |  8.498947 | 2.3639474 |  633 | 0.92447368 | 3.4928947 | 254 | ⋯ | 125 |  1 | -1 | -1 |  1 |  1 |  1 |  1 |  1 |  4 |\n",
       "|  960 | 076A | 1118 | 175 |  9.254706 | 1.5705882 |  531 | 0.49088235 | 2.0441176 | 313 | ⋯ |  11 | -1 |  1 |  1 | -1 |  1 | -1 | -1 | -1 | -2 |\n",
       "|  995 | 0789 | 2778 | 357 | 10.133636 | 2.0570455 | 1119 | 0.71704545 | 3.0304545 | 499 | ⋯ | 214 |  1 | -1 | -1 |  1 |  1 |  1 |  1 |  1 |  4 |\n",
       "| 1040 | 0793 | 1405 | 139 |  9.321481 | 2.1688889 |  481 | 0.76111111 | 3.2411111 | 220 | ⋯ |  75 | -1 |  1 | -1 |  1 |  1 | -1 |  1 | -1 |  0 |\n",
       "| 1068 | 0825 | 1297 | 201 |  8.183793 | 1.1762069 |  598 | 0.35586207 | 1.7984483 | 368 | ⋯ |  49 | -1 | -1 | -1 | -1 |  1 | -1 |  1 | -1 | -4 |\n",
       "| ⋮ | ⋮ | ⋮ | ⋮ | ⋮ | ⋮ | ⋮ | ⋮ | ⋮ | ⋮ | ⋱ | ⋮ | ⋮ | ⋮ | ⋮ | ⋮ | ⋮ | ⋮ | ⋮ | ⋮ | ⋮ |\n",
       "| 4700 | 9602 | 2538 |  33 | 11.271429 | 1.336286 | 1125 | 0.6245714 | 2.859429 | 560 | ⋯ | 196 |  1 |  1 | -1 | -1 |  1 |  1 |  1 |  1 |  4 |\n",
       "| 4736 | 9617 | 1280 |  17 |  8.081026 | 1.627179 |  413 | 1.0489744 | 3.324872 | 153 | ⋯ | 264 |  1 |  1 | -1 |  1 | -1 |  1 | -1 |  1 |  2 |\n",
       "| 4776 | 9621 |   80 |   5 |  8.440000 | 2.395000 |   26 | 1.1150000 | 4.585000 |   6 | ⋯ | 136 |  1 | -1 |  1 | -1 |  1 |  1 |  1 |  1 |  4 |\n",
       "| 4779 | 9636 | 3448 |  58 |  9.434359 | 1.714359 | 1361 | 0.8828205 | 3.254872 | 642 | ⋯ | 375 |  1 |  1 | -1 |  1 |  1 |  1 |  1 |  1 |  6 |\n",
       "| 4819 | 9640 | 2492 | 122 |  8.421600 | 1.768800 |  976 | 0.8398000 | 3.098200 | 547 | ⋯ |   2 |  1 |  1 |  1 |  1 |  1 |  1 | -1 | -1 |  4 |\n",
       "| 4870 | 9655 | 2276 |  34 |  8.248085 | 1.504681 |  767 | 0.8761702 | 3.048723 | 317 | ⋯ | 194 |  1 |  1 | -1 | -1 | -1 | -1 |  1 |  1 |  0 |\n",
       "| 4918 | 966A | 3204 |  29 |  9.448140 | 1.806512 | 1072 | 0.9397674 | 3.708372 | 434 | ⋯ | 104 |  1 |  1 | -1 | -1 |  1 | -1 |  1 |  1 |  2 |\n",
       "| 4962 | 9674 | 2472 |  40 | 11.667632 | 1.641316 |  977 | 0.9239474 | 3.353158 | 498 | ⋯ | 102 |  1 | -1 | -1 | -1 | -1 | -1 |  1 |  1 | -2 |\n",
       "| 5001 | 9689 |  449 |   6 | 10.090000 | 1.653333 |  151 | 1.0600000 | 3.516667 |  59 | ⋯ |   7 | -1 |  1 |  1 | -1 | -1 | -1 | -1 | -1 | -4 |\n",
       "| 5005 | 9693 |  888 |  13 |  8.518824 | 1.993824 |  331 | 1.0623529 | 3.175882 | 141 | ⋯ |  51 |  1 |  1 | -1 |  1 |  1 |  1 |  1 | -1 |  4 |\n",
       "| 5040 | 9706 | 2384 |   4 | 10.708056 | 1.769444 |  869 | 0.9541667 | 3.481667 | 381 | ⋯ |  93 |  1 |  1 |  1 | -1 |  1 | -1 |  1 |  1 |  4 |\n",
       "| 5077 | 9710 | 3209 |  47 |  9.064634 | 1.930488 | 1193 | 1.2814634 | 3.494146 | 435 | ⋯ | 104 |  1 |  1 | -1 | -1 |  1 |  1 | -1 |  1 |  2 |\n",
       "| 5119 | 9725 | 1625 |  32 |  7.207750 | 1.811000 |  538 | 1.0757500 | 3.254500 | 145 | ⋯ |  56 |  1 | -1 |  1 | -1 | -1 | -1 |  1 | -1 | -2 |\n",
       "| 5160 | 973A | 2777 |  24 |  9.102759 | 1.548621 | 1093 | 0.9968966 | 3.122759 | 353 | ⋯ | 138 |  1 |  1 | -1 | -1 | -1 | -1 |  1 |  1 |  0 |\n",
       "| 5190 | 9744 |  114 |   3 |  3.595000 | 1.265000 |   39 | 0.6600000 | 1.600000 |   5 | ⋯ |   9 | -1 | -1 |  1 |  1 | -1 | -1 | -1 | -1 | -4 |\n",
       "| 5193 | 9759 |  198 |   6 |  7.125000 | 2.555000 |   46 | 1.5400000 | 4.605000 |   9 | ⋯ |  10 | -1 | -1 |  1 |  1 |  1 | -1 |  1 | -1 |  0 |\n",
       "| 5196 | 9763 | 1271 |  42 |  9.488621 | 1.640000 |  449 | 0.6982759 | 3.150345 | 235 | ⋯ |  57 | -1 |  1 |  1 | -1 | -1 | -1 |  1 | -1 | -2 |\n",
       "| 5226 | 9778 |  617 |  12 |  9.938571 | 1.977500 |  197 | 0.8014286 | 3.610714 | 121 | ⋯ |  -2 | -1 | -1 |  1 | -1 |  1 | -1 |  1 | -1 | -2 |\n",
       "| 5255 | 9797 |   42 |   3 |  7.960000 | 1.255000 |   15 | 0.9800000 | 3.215000 |   8 | ⋯ |   0 | -1 | -1 |  1 |  1 | -1 | -1 |  1 | -1 | -2 |\n",
       "| 5258 | 980A |  580 |   4 | 12.655333 | 1.533333 |  259 | 0.6546667 | 3.421333 | 174 | ⋯ | -23 | -1 | -1 |  1 | -1 | -1 | -1 |  1 | -1 | -4 |\n",
       "| 5274 | 9814 | 2705 |  14 | 10.026444 | 1.566444 | 1123 | 0.8157778 | 3.132667 | 392 | ⋯ | 325 |  1 |  1 | -1 | -1 | -1 |  1 | -1 |  1 |  0 |\n",
       "| 5320 | 9829 |   69 |   0 |  5.303333 | 1.206667 |   21 | 0.7500000 | 2.366667 |   0 | ⋯ |  35 | -1 | -1 |  1 |  1 | -1 | -1 | -1 | -1 | -4 |\n",
       "| 5327 | 9833 |  742 |   6 |  8.356667 | 1.528889 |  273 | 1.0611111 | 3.155556 |  51 | ⋯ |  85 |  1 | -1 |  1 | -1 | -1 | -1 | -1 |  1 | -2 |\n",
       "| 5337 | 9848 | 1554 |  13 |  9.500000 | 1.678889 |  658 | 0.9477778 | 3.392222 | 179 | ⋯ | 165 |  1 | -1 |  1 | -1 | -1 |  1 | -1 |  1 |  0 |\n",
       "| 5356 | 9852 |  998 |   3 | 11.296842 | 1.479474 |  394 | 0.8747368 | 2.987895 | 205 | ⋯ |  19 | -1 | -1 |  1 | -1 | -1 | -1 | -1 | -1 | -6 |\n",
       "| 5376 | 9867 |  796 |   9 | 10.288824 | 1.610588 |  287 | 1.0458824 | 3.331176 | 116 | ⋯ |  15 |  1 |  1 |  1 | -1 |  1 | -1 | -1 | -1 |  0 |\n",
       "| 5394 | 9871 | 2178 |  18 |  8.794054 | 1.571351 |  887 | 0.9345946 | 2.871351 | 271 | ⋯ | 162 |  1 |  1 |  1 | -1 | -1 | -1 | -1 |  1 |  0 |\n",
       "| 5432 | 9886 |  174 |   0 | 14.298000 | 1.420000 |   90 | 0.6260000 | 3.398000 |  46 | ⋯ |  10 | -1 | -1 |  1 | -1 |  1 | -1 |  1 | -1 | -2 |\n",
       "| 5438 | 9890 |   19 |   0 |  0.250000 | 0.312500 |   18 | 0.1100000 | 0.291250 |   0 | ⋯ |  26 | -1 | -1 |  1 |  1 | -1 | -1 | -1 | -1 | -4 |\n",
       "| 5447 | 9903 |   61 |   0 | 13.560000 | 1.540000 |   26 | 0.9000000 | 3.590000 |  10 | ⋯ |  30 | -1 | -1 |  1 | -1 | -1 | -1 |  1 | -1 | -4 |\n",
       "\n"
      ],
      "text/plain": [
       "    index_2010 AGEB P_TOTAL_2010 POB65_MAS_2010 GRAPROES_2010 PROM_HNV_2010\n",
       "1      4       0435 3632         325             9.617302     2.1933333    \n",
       "2     68       044A 1539         224             9.569643     2.2642857    \n",
       "3     97       0454 2211         188            10.994717     1.9290566    \n",
       "4    151       0488 2045         140             8.206786     2.4053571    \n",
       "5    180       0492  557          15             7.670000     0.9128261    \n",
       "6    227       0505  730         135            14.026154     1.9992308    \n",
       "7    241       0524 3040         276             9.127049     2.5001639    \n",
       "8    303       0543 1871         223             8.496364     2.4614545    \n",
       "9    359       0558 2426         194            12.341053     1.7957895    \n",
       "10   379       0562 1575         272            11.725385     1.9080769    \n",
       "11   406       0577 1199         209            12.899714     1.5062857    \n",
       "12   442       0581 1122         154            10.826667     1.9116667    \n",
       "13   467       0613 2004         112             7.972273     2.6154545    \n",
       "14   490       0628 1650         222             7.926809     1.2534043    \n",
       "15   538       0632   22           0             1.315789     0.3463158    \n",
       "16   558       0647 2666         305            12.970227     1.7561364    \n",
       "17   603       0651  386          85            10.046667     1.8566667    \n",
       "18   622       0666 1640         206             9.595600     1.8664000    \n",
       "19   648       0670 1924         218             9.472667     2.6300000    \n",
       "20   664       0685 3332         264             8.491765     2.3091176    \n",
       "21   699       069A 2736         266             8.954074     2.2140741    \n",
       "22   754       0717  187          38             6.321481     1.2388889    \n",
       "23   782       0721 1079         134             6.017273     1.4021212    \n",
       "24   816       0736 1720         203             9.821731     1.6317308    \n",
       "25   869       0740 2400         369            10.561176     2.1450980    \n",
       "26   921       0755 1885         208             8.498947     2.3639474    \n",
       "27   960       076A 1118         175             9.254706     1.5705882    \n",
       "28   995       0789 2778         357            10.133636     2.0570455    \n",
       "29  1040       0793 1405         139             9.321481     2.1688889    \n",
       "30  1068       0825 1297         201             8.183793     1.1762069    \n",
       "⋮   ⋮          ⋮    ⋮            ⋮              ⋮             ⋮            \n",
       "161 4700       9602 2538          33            11.271429     1.336286     \n",
       "162 4736       9617 1280          17             8.081026     1.627179     \n",
       "163 4776       9621   80           5             8.440000     2.395000     \n",
       "164 4779       9636 3448          58             9.434359     1.714359     \n",
       "165 4819       9640 2492         122             8.421600     1.768800     \n",
       "166 4870       9655 2276          34             8.248085     1.504681     \n",
       "167 4918       966A 3204          29             9.448140     1.806512     \n",
       "168 4962       9674 2472          40            11.667632     1.641316     \n",
       "169 5001       9689  449           6            10.090000     1.653333     \n",
       "170 5005       9693  888          13             8.518824     1.993824     \n",
       "171 5040       9706 2384           4            10.708056     1.769444     \n",
       "172 5077       9710 3209          47             9.064634     1.930488     \n",
       "173 5119       9725 1625          32             7.207750     1.811000     \n",
       "174 5160       973A 2777          24             9.102759     1.548621     \n",
       "175 5190       9744  114           3             3.595000     1.265000     \n",
       "176 5193       9759  198           6             7.125000     2.555000     \n",
       "177 5196       9763 1271          42             9.488621     1.640000     \n",
       "178 5226       9778  617          12             9.938571     1.977500     \n",
       "179 5255       9797   42           3             7.960000     1.255000     \n",
       "180 5258       980A  580           4            12.655333     1.533333     \n",
       "181 5274       9814 2705          14            10.026444     1.566444     \n",
       "182 5320       9829   69           0             5.303333     1.206667     \n",
       "183 5327       9833  742           6             8.356667     1.528889     \n",
       "184 5337       9848 1554          13             9.500000     1.678889     \n",
       "185 5356       9852  998           3            11.296842     1.479474     \n",
       "186 5376       9867  796           9            10.288824     1.610588     \n",
       "187 5394       9871 2178          18             8.794054     1.571351     \n",
       "188 5432       9886  174           0            14.298000     1.420000     \n",
       "189 5438       9890   19           0             0.250000     0.312500     \n",
       "190 5447       9903   61           0            13.560000     1.540000     \n",
       "    VIVTOT_2010 PRO_OCUP_C_2010 PROM_OCUP_2010 VPH_PC_2010 ⋯ cambio_computadora\n",
       "1   1321        0.85301587      3.3525397      584         ⋯ 198               \n",
       "2    549        0.75071429      3.1521429      254         ⋯  76               \n",
       "3    742        0.66188679      3.1458491      438         ⋯  93               \n",
       "4    635        1.05607143      3.7960714      189         ⋯ 120               \n",
       "5    281        0.37260870      1.6482609      189         ⋯ 171               \n",
       "6    300        0.50615385      2.8623077      199         ⋯  51               \n",
       "7   1083        0.81688525      3.2960656      497         ⋯  -4               \n",
       "8    679        0.91418182      3.3274545      232         ⋯  92               \n",
       "9    903        0.63578947      3.0394737      612         ⋯  51               \n",
       "10   630        0.61884615      2.9080769      317         ⋯  43               \n",
       "11   604        0.51114286      2.5234286      335         ⋯  86               \n",
       "12   465        0.56458333      2.6879167      260         ⋯  52               \n",
       "13   618        1.01090909      3.7840909      164         ⋯ 122               \n",
       "14   586        0.47808511      2.2865957      414         ⋯  74               \n",
       "15    15        0.02789474      0.2457895        3         ⋯  17               \n",
       "16  1028        0.53181818      3.0579545      673         ⋯ 202               \n",
       "17   195        0.44555556      1.9977778       89         ⋯  30               \n",
       "18   677        0.65200000      2.6424000      299         ⋯  49               \n",
       "19   643        0.78800000      3.4773333      262         ⋯ 105               \n",
       "20  1108        0.95382353      3.4076471      358         ⋯ 228               \n",
       "21   890        0.81296296      3.4424074      402         ⋯ 100               \n",
       "22   201        0.44962963      1.3770370       46         ⋯  25               \n",
       "23   652        0.50121212      1.4160606      155         ⋯  63               \n",
       "24   861        0.60461538      2.2546154      352         ⋯ 130               \n",
       "25   999        0.71000000      3.0329412      475         ⋯ 125               \n",
       "26   633        0.92447368      3.4928947      254         ⋯ 125               \n",
       "27   531        0.49088235      2.0441176      313         ⋯  11               \n",
       "28  1119        0.71704545      3.0304545      499         ⋯ 214               \n",
       "29   481        0.76111111      3.2411111      220         ⋯  75               \n",
       "30   598        0.35586207      1.7984483      368         ⋯  49               \n",
       "⋮   ⋮           ⋮               ⋮              ⋮           ⋱ ⋮                 \n",
       "161 1125        0.6245714       2.859429       560         ⋯ 196               \n",
       "162  413        1.0489744       3.324872       153         ⋯ 264               \n",
       "163   26        1.1150000       4.585000         6         ⋯ 136               \n",
       "164 1361        0.8828205       3.254872       642         ⋯ 375               \n",
       "165  976        0.8398000       3.098200       547         ⋯   2               \n",
       "166  767        0.8761702       3.048723       317         ⋯ 194               \n",
       "167 1072        0.9397674       3.708372       434         ⋯ 104               \n",
       "168  977        0.9239474       3.353158       498         ⋯ 102               \n",
       "169  151        1.0600000       3.516667        59         ⋯   7               \n",
       "170  331        1.0623529       3.175882       141         ⋯  51               \n",
       "171  869        0.9541667       3.481667       381         ⋯  93               \n",
       "172 1193        1.2814634       3.494146       435         ⋯ 104               \n",
       "173  538        1.0757500       3.254500       145         ⋯  56               \n",
       "174 1093        0.9968966       3.122759       353         ⋯ 138               \n",
       "175   39        0.6600000       1.600000         5         ⋯   9               \n",
       "176   46        1.5400000       4.605000         9         ⋯  10               \n",
       "177  449        0.6982759       3.150345       235         ⋯  57               \n",
       "178  197        0.8014286       3.610714       121         ⋯  -2               \n",
       "179   15        0.9800000       3.215000         8         ⋯   0               \n",
       "180  259        0.6546667       3.421333       174         ⋯ -23               \n",
       "181 1123        0.8157778       3.132667       392         ⋯ 325               \n",
       "182   21        0.7500000       2.366667         0         ⋯  35               \n",
       "183  273        1.0611111       3.155556        51         ⋯  85               \n",
       "184  658        0.9477778       3.392222       179         ⋯ 165               \n",
       "185  394        0.8747368       2.987895       205         ⋯  19               \n",
       "186  287        1.0458824       3.331176       116         ⋯  15               \n",
       "187  887        0.9345946       2.871351       271         ⋯ 162               \n",
       "188   90        0.6260000       3.398000        46         ⋯  10               \n",
       "189   18        0.1100000       0.291250         0         ⋯  26               \n",
       "190   26        0.9000000       3.590000        10         ⋯  30               \n",
       "    puntaje_poblacion puntaje_ninos puntaje_adultos_mayores puntaje_educacion\n",
       "1    1                 1            -1                      -1               \n",
       "2   -1                 1             1                      -1               \n",
       "3    1                -1            -1                      -1               \n",
       "4    1                 1            -1                      -1               \n",
       "5    1                -1            -1                       1               \n",
       "6   -1                -1             1                      -1               \n",
       "7   -1                 1             1                      -1               \n",
       "8   -1                 1             1                      -1               \n",
       "9   -1                 1            -1                      -1               \n",
       "10  -1                -1             1                      -1               \n",
       "11  -1                -1            -1                      -1               \n",
       "12  -1                 1             1                      -1               \n",
       "13  -1                -1            -1                      -1               \n",
       "14  -1                 1            -1                       1               \n",
       "15  -1                -1             1                      -1               \n",
       "16   1                -1            -1                      -1               \n",
       "17  -1                -1             1                      -1               \n",
       "18  -1                 1             1                      -1               \n",
       "19  -1                 1            -1                      -1               \n",
       "20  -1                 1            -1                      -1               \n",
       "21  -1                -1            -1                      -1               \n",
       "22  -1                -1             1                      -1               \n",
       "23  -1                -1             1                       1               \n",
       "24   1                -1            -1                      -1               \n",
       "25  -1                -1             1                      -1               \n",
       "26   1                -1            -1                       1               \n",
       "27  -1                 1             1                      -1               \n",
       "28   1                -1            -1                       1               \n",
       "29  -1                 1            -1                       1               \n",
       "30  -1                -1            -1                      -1               \n",
       "⋮   ⋮                 ⋮             ⋮                       ⋮                \n",
       "161  1                 1            -1                      -1               \n",
       "162  1                 1            -1                       1               \n",
       "163  1                -1             1                      -1               \n",
       "164  1                 1            -1                       1               \n",
       "165  1                 1             1                       1               \n",
       "166  1                 1            -1                      -1               \n",
       "167  1                 1            -1                      -1               \n",
       "168  1                -1            -1                      -1               \n",
       "169 -1                 1             1                      -1               \n",
       "170  1                 1            -1                       1               \n",
       "171  1                 1             1                      -1               \n",
       "172  1                 1            -1                      -1               \n",
       "173  1                -1             1                      -1               \n",
       "174  1                 1            -1                      -1               \n",
       "175 -1                -1             1                       1               \n",
       "176 -1                -1             1                       1               \n",
       "177 -1                 1             1                      -1               \n",
       "178 -1                -1             1                      -1               \n",
       "179 -1                -1             1                       1               \n",
       "180 -1                -1             1                      -1               \n",
       "181  1                 1            -1                      -1               \n",
       "182 -1                -1             1                       1               \n",
       "183  1                -1             1                      -1               \n",
       "184  1                -1             1                      -1               \n",
       "185 -1                -1             1                      -1               \n",
       "186  1                 1             1                      -1               \n",
       "187  1                 1             1                      -1               \n",
       "188 -1                -1             1                      -1               \n",
       "189 -1                -1             1                       1               \n",
       "190 -1                -1             1                      -1               \n",
       "    puntaje_hijos puntaje_viviendas puntaje_ocupantes puntaje_computadora ITSE\n",
       "1    1             1                 1                 1                   4  \n",
       "2    1            -1                 1                -1                   0  \n",
       "3    1             1                 1                 1                   2  \n",
       "4    1             1                 1                 1                   4  \n",
       "5   -1             1                -1                 1                   0  \n",
       "6    1            -1                 1                -1                  -2  \n",
       "7    1            -1                 1                -1                   0  \n",
       "8    1            -1                 1                 1                   2  \n",
       "9   -1            -1                 1                -1                  -4  \n",
       "10   1            -1                 1                -1                  -2  \n",
       "11   1            -1                 1                 1                  -2  \n",
       "12   1            -1                 1                -1                   0  \n",
       "13   1             1                 1                 1                   0  \n",
       "14  -1             1                -1                -1                  -2  \n",
       "15   1            -1                -1                -1                  -4  \n",
       "16   1             1                 1                 1                   2  \n",
       "17   1            -1                -1                -1                  -4  \n",
       "18   1            -1                 1                -1                   0  \n",
       "19   1            -1                 1                 1                   0  \n",
       "20   1             1                 1                 1                   2  \n",
       "21   1             1                 1                 1                   0  \n",
       "22   1            -1                 1                -1                  -2  \n",
       "23   1            -1                -1                -1                  -2  \n",
       "24  -1            -1                -1                 1                  -4  \n",
       "25   1            -1                 1                 1                   0  \n",
       "26   1             1                 1                 1                   4  \n",
       "27   1            -1                -1                -1                  -2  \n",
       "28   1             1                 1                 1                   4  \n",
       "29   1            -1                 1                -1                   0  \n",
       "30   1            -1                 1                -1                  -4  \n",
       "⋮   ⋮             ⋮                 ⋮                 ⋮                   ⋮   \n",
       "161  1             1                 1                 1                   4  \n",
       "162 -1             1                -1                 1                   2  \n",
       "163  1             1                 1                 1                   4  \n",
       "164  1             1                 1                 1                   6  \n",
       "165  1             1                -1                -1                   4  \n",
       "166 -1            -1                 1                 1                   0  \n",
       "167  1            -1                 1                 1                   2  \n",
       "168 -1            -1                 1                 1                  -2  \n",
       "169 -1            -1                -1                -1                  -4  \n",
       "170  1             1                 1                -1                   4  \n",
       "171  1            -1                 1                 1                   4  \n",
       "172  1             1                -1                 1                   2  \n",
       "173 -1            -1                 1                -1                  -2  \n",
       "174 -1            -1                 1                 1                   0  \n",
       "175 -1            -1                -1                -1                  -4  \n",
       "176  1            -1                 1                -1                   0  \n",
       "177 -1            -1                 1                -1                  -2  \n",
       "178  1            -1                 1                -1                  -2  \n",
       "179 -1            -1                 1                -1                  -2  \n",
       "180 -1            -1                 1                -1                  -4  \n",
       "181 -1             1                -1                 1                   0  \n",
       "182 -1            -1                -1                -1                  -4  \n",
       "183 -1            -1                -1                 1                  -2  \n",
       "184 -1             1                -1                 1                   0  \n",
       "185 -1            -1                -1                -1                  -6  \n",
       "186  1            -1                -1                -1                   0  \n",
       "187 -1            -1                -1                 1                   0  \n",
       "188  1            -1                 1                -1                  -2  \n",
       "189 -1            -1                -1                -1                  -4  \n",
       "190 -1            -1                 1                -1                  -4  "
      ]
     },
     "metadata": {},
     "output_type": "display_data"
    }
   ],
   "source": [
    "data_combined"
   ]
  },
  {
   "cell_type": "code",
   "execution_count": 14,
   "metadata": {
    "vscode": {
     "languageId": "r"
    }
   },
   "outputs": [
    {
     "data": {
      "image/png": "[encoded data removed]",
      "text/plain": [
       "plot without title"
      ]
     },
     "metadata": {
      "image/png": {
       "height": 420,
       "width": 420
      }
     },
     "output_type": "display_data"
    }
   ],
   "source": [
    "#graficar cambio en cada variable \n",
    "ggplot(data_combined, aes(x = cambio_poblacion, y = cambio_ninos)) +\n",
    "  geom_point(aes(color = ITSE)) +\n",
    "  labs(title = \"Cambio en población vs. cambio en niños\",\n",
    "       x = \"Cambio en población\",\n",
    "       y = \"Cambio en niños\",\n",
    "       color = \"ITSE\")"
   ]
  },
  {
   "cell_type": "markdown",
   "metadata": {},
   "source": [
    "### EXPORTAR ENS_AGEBS_ITSE.csv"
   ]
  },
  {
   "cell_type": "code",
   "execution_count": 15,
   "metadata": {
    "vscode": {
     "languageId": "r"
    }
   },
   "outputs": [],
   "source": [
    "#exportar los datos\n",
    "write.csv(data_combined, \"DATA/ENS_AGEBS_ITSE.csv\", row.names = FALSE)"
   ]
  },
  {
   "cell_type": "markdown",
   "metadata": {},
   "source": [
    "# que rollo"
   ]
  },
  {
   "cell_type": "markdown",
   "metadata": {},
   "source": [
    "# MODELO"
   ]
  },
  {
   "cell_type": "code",
   "execution_count": 16,
   "metadata": {
    "vscode": {
     "languageId": "r"
    }
   },
   "outputs": [
    {
     "data": {
      "text/plain": [
       "\n",
       "Call:\n",
       "lm(formula = cambio_poblacion ~ cambio_viviendas + cambio_educacion, \n",
       "    data = data_combined)\n",
       "\n",
       "Residuals:\n",
       "     Min       1Q   Median       3Q      Max \n",
       "-1760.13   -78.69    -9.75    74.45   759.53 \n",
       "\n",
       "Coefficients:\n",
       "                 Estimate Std. Error t value Pr(>|t|)    \n",
       "(Intercept)        29.297     24.376   1.202    0.231    \n",
       "cambio_viviendas    1.596      0.250   6.385 1.32e-09 ***\n",
       "cambio_educacion    4.457     10.260   0.434    0.665    \n",
       "---\n",
       "Signif. codes:  0 ‘***’ 0.001 ‘**’ 0.01 ‘*’ 0.05 ‘.’ 0.1 ‘ ’ 1\n",
       "\n",
       "Residual standard error: 248.3 on 187 degrees of freedom\n",
       "Multiple R-squared:  0.1997,\tAdjusted R-squared:  0.1911 \n",
       "F-statistic: 23.33 on 2 and 187 DF,  p-value: 8.999e-10\n"
      ]
     },
     "metadata": {},
     "output_type": "display_data"
    }
   ],
   "source": [
    "# Eliminar filas con NA/NaN/Inf en las columnas 'cambio_viviendas' y 'cambio_educacion'\n",
    "data_combined <- data_combined[!is.na(data_combined$cambio_viviendas) & !is.na(data_combined$cambio_educacion) & !is.infinite(data_combined$cambio_viviendas) & !is.infinite(data_combined$cambio_educacion), ]\n",
    "\n",
    "# Modelo de regresión lineal\n",
    "model <- lm(cambio_poblacion ~ cambio_viviendas + cambio_educacion, data = data_combined)\n",
    "\n",
    "# Resumen del modelo\n",
    "summary(model)"
   ]
  },
  {
   "cell_type": "markdown",
   "metadata": {},
   "source": []
  },
  {
   "cell_type": "markdown",
   "metadata": {},
   "source": []
  }
 ],
 "metadata": {
  "kernelspec": {
   "display_name": "R",
   "language": "R",
   "name": "ir"
  },
  "language_info": {
   "codemirror_mode": "r",
   "file_extension": ".r",
   "mimetype": "text/x-r-source",
   "name": "R",
   "pygments_lexer": "r",
   "version": "4.1.2"
  }
 },
 "nbformat": 4,
 "nbformat_minor": 2
}
