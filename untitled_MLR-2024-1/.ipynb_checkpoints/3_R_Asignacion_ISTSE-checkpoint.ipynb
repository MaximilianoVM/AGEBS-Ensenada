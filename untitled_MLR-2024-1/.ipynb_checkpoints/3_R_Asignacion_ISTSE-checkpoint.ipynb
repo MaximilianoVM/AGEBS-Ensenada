{
 "cells": [
  {
   "cell_type": "code",
   "execution_count": 2,
   "metadata": {
    "vscode": {
     "languageId": "r"
    }
   },
   "outputs": [
    {
     "name": "stderr",
     "output_type": "stream",
     "text": [
      "── \u001b[1mAttaching core tidyverse packages\u001b[22m ──────────────────────── tidyverse 2.0.0 ──\n",
      "\u001b[32m✔\u001b[39m \u001b[34mdplyr    \u001b[39m 1.1.4     \u001b[32m✔\u001b[39m \u001b[34mreadr    \u001b[39m 2.1.5\n",
      "\u001b[32m✔\u001b[39m \u001b[34mforcats  \u001b[39m 1.0.0     \u001b[32m✔\u001b[39m \u001b[34mstringr  \u001b[39m 1.5.1\n",
      "\u001b[32m✔\u001b[39m \u001b[34mggplot2  \u001b[39m 3.5.1     \u001b[32m✔\u001b[39m \u001b[34mtibble   \u001b[39m 3.2.1\n",
      "\u001b[32m✔\u001b[39m \u001b[34mlubridate\u001b[39m 1.9.3     \u001b[32m✔\u001b[39m \u001b[34mtidyr    \u001b[39m 1.3.1\n",
      "\u001b[32m✔\u001b[39m \u001b[34mpurrr    \u001b[39m 1.0.2     \n",
      "── \u001b[1mConflicts\u001b[22m ────────────────────────────────────────── tidyverse_conflicts() ──\n",
      "\u001b[31m✖\u001b[39m \u001b[34mdplyr\u001b[39m::\u001b[32mfilter()\u001b[39m masks \u001b[34mstats\u001b[39m::filter()\n",
      "\u001b[31m✖\u001b[39m \u001b[34mdplyr\u001b[39m::\u001b[32mlag()\u001b[39m    masks \u001b[34mstats\u001b[39m::lag()\n",
      "\u001b[36mℹ\u001b[39m Use the conflicted package (\u001b[3m\u001b[34m<http://conflicted.r-lib.org/>\u001b[39m\u001b[23m) to force all conflicts to become errors\n",
      "Linking to GEOS 3.10.2, GDAL 3.4.1, PROJ 8.2.1; sf_use_s2() is TRUE\n",
      "\n"
     ]
    }
   ],
   "source": [
    "# Cargar librerías\n",
    "library(tidyverse)\n",
    "library(sf)\n",
    "library(ggplot2)"
   ]
  },
  {
   "cell_type": "code",
   "execution_count": 3,
   "metadata": {
    "vscode": {
     "languageId": "r"
    }
   },
   "outputs": [],
   "source": [
    "#cargar los datos\n",
    "\n",
    "#data10 <- read.csv(\"DATA/FULL_NORENS_AGEBS_10.csv\")\n",
    "#data20 <- read.csv(\"DATA/FULL_NORENS_AGEBS_20.csv\")\n",
    "\n",
    "\n",
    "data10 <- read.csv(\"DATA/FULL_ENS_AGEBS_10.csv\")\n",
    "data20 <- read.csv(\"DATA/FULL_ENS_AGEBS_20.csv\")"
   ]
  },
  {
   "cell_type": "markdown",
   "metadata": {},
   "source": [
    "<b>Variables sociales</b>\n",
    "1. Población total (PT)\n",
    "2. Niños de 0-4 años (N)\n",
    "3. Adultos mayores de 65 años (AM)\n",
    "4. Grado promedio de escolaridad (E)\n",
    "5. Promedio de hijos nacidos vivos (H)\n",
    "\n",
    "<b>Variables espaciales</b>\n",
    "\n",
    "6. Número de viviendas (V)\n",
    "7. Promedio de ocupantes por cuar-\n",
    "to (OC)\n",
    "8. Viviendas particulares habitadas\n",
    "que disponen de computadora (C)"
   ]
  },
  {
   "cell_type": "code",
   "execution_count": 4,
   "metadata": {
    "vscode": {
     "languageId": "r"
    }
   },
   "outputs": [
    {
     "name": "stdout",
     "output_type": "stream",
     "text": [
      "Rows: 190\n",
      "Columns: 12\n",
      "$ index      \u001b[3m\u001b[90m<int>\u001b[39m\u001b[23m 4, 68, 97, 151, 180, 227, 241, 303, 359, 379, 406, 442, 467…\n",
      "$ AGEB       \u001b[3m\u001b[90m<chr>\u001b[39m\u001b[23m \"0435\", \"044A\", \"0454\", \"0488\", \"0492\", \"0505\", \"0524\", \"05…\n",
      "$ P_TOTAL    \u001b[3m\u001b[90m<dbl>\u001b[39m\u001b[23m 3632, 1539, 2211, 2045, 557, 730, 3040, 1871, 2426, 1575, 1…\n",
      "$ POB65_MAS  \u001b[3m\u001b[90m<dbl>\u001b[39m\u001b[23m 325, 224, 188, 140, 15, 135, 276, 223, 194, 272, 209, 154, …\n",
      "$ GRAPROES   \u001b[3m\u001b[90m<dbl>\u001b[39m\u001b[23m 9.617302, 9.569643, 10.994717, 8.206786, 7.670000, 14.02615…\n",
      "$ PROM_HNV   \u001b[3m\u001b[90m<dbl>\u001b[39m\u001b[23m 2.1933333, 2.2642857, 1.9290566, 2.4053571, 0.9128261, 1.99…\n",
      "$ VIVTOT     \u001b[3m\u001b[90m<dbl>\u001b[39m\u001b[23m 1321, 549, 742, 635, 281, 300, 1083, 679, 903, 630, 604, 46…\n",
      "$ PRO_OCUP_C \u001b[3m\u001b[90m<dbl>\u001b[39m\u001b[23m 0.85301587, 0.75071429, 0.66188679, 1.05607143, 0.37260870,…\n",
      "$ PROM_OCUP  \u001b[3m\u001b[90m<dbl>\u001b[39m\u001b[23m 3.3525397, 3.1521429, 3.1458491, 3.7960714, 1.6482609, 2.86…\n",
      "$ VPH_PC     \u001b[3m\u001b[90m<dbl>\u001b[39m\u001b[23m 584, 254, 438, 189, 189, 199, 497, 232, 612, 317, 335, 260,…\n",
      "$ OTRAENT    \u001b[3m\u001b[90m<dbl>\u001b[39m\u001b[23m 1241, 478, 760, 743, 271, 282, 1074, 669, 873, 469, 512, 34…\n",
      "$ P_0A5      \u001b[3m\u001b[90m<dbl>\u001b[39m\u001b[23m 419, 135, 118, 290, 39, 20, 364, 174, 196, 146, 62, 93, 279…\n",
      "Rows: 190\n",
      "Columns: 12\n",
      "$ index      \u001b[3m\u001b[90m<int>\u001b[39m\u001b[23m 442, 502, 530, 584, 613, 650, 664, 727, 784, 804, 831, 867,…\n",
      "$ AGEB       \u001b[3m\u001b[90m<chr>\u001b[39m\u001b[23m \"0435\", \"044A\", \"0454\", \"0488\", \"0492\", \"0505\", \"0524\", \"05…\n",
      "$ P_TOTAL    \u001b[3m\u001b[90m<dbl>\u001b[39m\u001b[23m 3798, 1429, 2339, 2214, 956, 784, 2567, 1827, 2399, 1280, 1…\n",
      "$ POB65_MAS  \u001b[3m\u001b[90m<dbl>\u001b[39m\u001b[23m 457, 257, 296, 251, 131, 164, 319, 281, 279, 246, 284, 215,…\n",
      "$ GRAPROES   \u001b[3m\u001b[90m<dbl>\u001b[39m\u001b[23m 10.768983, 10.522963, 12.051698, 9.373571, 12.295000, 14.70…\n",
      "$ PROM_HNV   \u001b[3m\u001b[90m<dbl>\u001b[39m\u001b[23m 1.9822034, 2.0748148, 1.6115094, 2.2557143, 1.2647222, 1.88…\n",
      "$ VIVTOT     \u001b[3m\u001b[90m<dbl>\u001b[39m\u001b[23m 1382, 573, 883, 750, 454, 353, 1083, 701, 952, 566, 610, 47…\n",
      "$ PRO_OCUP_C \u001b[3m\u001b[90m<dbl>\u001b[39m\u001b[23m 0.7766102, 0.6259259, 0.6083019, 0.8932143, 0.5847222, 0.49…\n",
      "$ PROM_OCUP  \u001b[3m\u001b[90m<dbl>\u001b[39m\u001b[23m 3.1376271, 2.6466667, 2.8441509, 3.3117857, 2.3869444, 2.66…\n",
      "$ VPH_PC     \u001b[3m\u001b[90m<dbl>\u001b[39m\u001b[23m 782, 330, 531, 309, 360, 250, 493, 324, 663, 360, 421, 312,…\n",
      "$ OTRAENT    \u001b[3m\u001b[90m<dbl>\u001b[39m\u001b[23m 1273, 471, 718, 728, 368, 279, 830, 547, 745, 379, 415, 349…\n",
      "$ P_0A5      \u001b[3m\u001b[90m<dbl>\u001b[39m\u001b[23m 259, 83, 118, 233, 33, 23, 157, 58, 140, 190, 44, 24, 290, …\n"
     ]
    },
    {
     "data": {
      "text/plain": [
       "     index          AGEB              P_TOTAL       POB65_MAS     \n",
       " Min.   :   4   Length:190         Min.   :   0   Min.   :  0.00  \n",
       " 1st Qu.:1626   Class :character   1st Qu.: 324   1st Qu.:  3.00  \n",
       " Median :2468   Mode  :character   Median :1352   Median : 42.00  \n",
       " Mean   :2777                      Mean   :1472   Mean   : 92.47  \n",
       " 3rd Qu.:4264                      3rd Qu.:2270   3rd Qu.:164.25  \n",
       " Max.   :5447                      Max.   :5628   Max.   :375.00  \n",
       "    GRAPROES         PROM_HNV         VIVTOT         PRO_OCUP_C    \n",
       " Min.   : 0.000   Min.   :0.000   Min.   :   0.0   Min.   :0.0000  \n",
       " 1st Qu.: 7.226   1st Qu.:1.505   1st Qu.: 153.8   1st Qu.:0.6468  \n",
       " Median : 8.828   Median :1.802   Median : 531.5   Median :0.8129  \n",
       " Mean   : 8.591   Mean   :1.742   Mean   : 529.7   Mean   :0.8555  \n",
       " 3rd Qu.:10.133   3rd Qu.:2.113   3rd Qu.: 826.0   3rd Qu.:1.0048  \n",
       " Max.   :15.273   Max.   :2.910   Max.   :1849.0   Max.   :3.5950  \n",
       "   PROM_OCUP         VPH_PC          OTRAENT           P_0A5      \n",
       " Min.   :0.000   Min.   :  0.00   Min.   :   0.0   Min.   :  0.0  \n",
       " 1st Qu.:2.693   1st Qu.: 39.25   1st Qu.: 152.8   1st Qu.: 34.0  \n",
       " Median :3.154   Median :199.00   Median : 511.5   Median :145.0  \n",
       " Mean   :2.963   Mean   :232.22   Mean   : 567.9   Mean   :171.3  \n",
       " 3rd Qu.:3.452   3rd Qu.:358.00   3rd Qu.: 876.0   3rd Qu.:277.2  \n",
       " Max.   :4.605   Max.   :992.00   Max.   :1987.0   Max.   :557.0  "
      ]
     },
     "metadata": {},
     "output_type": "display_data"
    }
   ],
   "source": [
    "# Explorar los datos\n",
    "glimpse(data10)\n",
    "glimpse(data20)\n",
    "summary(data10)\n",
    "#summary(data20)"
   ]
  },
  {
   "cell_type": "code",
   "execution_count": 5,
   "metadata": {
    "vscode": {
     "languageId": "r"
    }
   },
   "outputs": [
    {
     "name": "stdout",
     "output_type": "stream",
     "text": [
      "Rows: 190\n",
      "Columns: 23\n",
      "$ index_2010      \u001b[3m\u001b[90m<int>\u001b[39m\u001b[23m 4, 68, 97, 151, 180, 227, 241, 303, 359, 379, 406, 442…\n",
      "$ AGEB            \u001b[3m\u001b[90m<chr>\u001b[39m\u001b[23m \"0435\", \"044A\", \"0454\", \"0488\", \"0492\", \"0505\", \"0524\"…\n",
      "$ P_TOTAL_2010    \u001b[3m\u001b[90m<dbl>\u001b[39m\u001b[23m 3632, 1539, 2211, 2045, 557, 730, 3040, 1871, 2426, 15…\n",
      "$ POB65_MAS_2010  \u001b[3m\u001b[90m<dbl>\u001b[39m\u001b[23m 325, 224, 188, 140, 15, 135, 276, 223, 194, 272, 209, …\n",
      "$ GRAPROES_2010   \u001b[3m\u001b[90m<dbl>\u001b[39m\u001b[23m 9.617302, 9.569643, 10.994717, 8.206786, 7.670000, 14.…\n",
      "$ PROM_HNV_2010   \u001b[3m\u001b[90m<dbl>\u001b[39m\u001b[23m 2.1933333, 2.2642857, 1.9290566, 2.4053571, 0.9128261,…\n",
      "$ VIVTOT_2010     \u001b[3m\u001b[90m<dbl>\u001b[39m\u001b[23m 1321, 549, 742, 635, 281, 300, 1083, 679, 903, 630, 60…\n",
      "$ PRO_OCUP_C_2010 \u001b[3m\u001b[90m<dbl>\u001b[39m\u001b[23m 0.85301587, 0.75071429, 0.66188679, 1.05607143, 0.3726…\n",
      "$ PROM_OCUP_2010  \u001b[3m\u001b[90m<dbl>\u001b[39m\u001b[23m 3.3525397, 3.1521429, 3.1458491, 3.7960714, 1.6482609,…\n",
      "$ VPH_PC_2010     \u001b[3m\u001b[90m<dbl>\u001b[39m\u001b[23m 584, 254, 438, 189, 189, 199, 497, 232, 612, 317, 335,…\n",
      "$ OTRAENT_2010    \u001b[3m\u001b[90m<dbl>\u001b[39m\u001b[23m 1241, 478, 760, 743, 271, 282, 1074, 669, 873, 469, 51…\n",
      "$ P_0A5_2010      \u001b[3m\u001b[90m<dbl>\u001b[39m\u001b[23m 419, 135, 118, 290, 39, 20, 364, 174, 196, 146, 62, 93…\n",
      "$ index_2020      \u001b[3m\u001b[90m<int>\u001b[39m\u001b[23m 442, 502, 530, 584, 613, 650, 664, 727, 784, 804, 831,…\n",
      "$ P_TOTAL_2020    \u001b[3m\u001b[90m<dbl>\u001b[39m\u001b[23m 3798, 1429, 2339, 2214, 956, 784, 2567, 1827, 2399, 12…\n",
      "$ POB65_MAS_2020  \u001b[3m\u001b[90m<dbl>\u001b[39m\u001b[23m 457, 257, 296, 251, 131, 164, 319, 281, 279, 246, 284,…\n",
      "$ GRAPROES_2020   \u001b[3m\u001b[90m<dbl>\u001b[39m\u001b[23m 10.768983, 10.522963, 12.051698, 9.373571, 12.295000, …\n",
      "$ PROM_HNV_2020   \u001b[3m\u001b[90m<dbl>\u001b[39m\u001b[23m 1.9822034, 2.0748148, 1.6115094, 2.2557143, 1.2647222,…\n",
      "$ VIVTOT_2020     \u001b[3m\u001b[90m<dbl>\u001b[39m\u001b[23m 1382, 573, 883, 750, 454, 353, 1083, 701, 952, 566, 61…\n",
      "$ PRO_OCUP_C_2020 \u001b[3m\u001b[90m<dbl>\u001b[39m\u001b[23m 0.7766102, 0.6259259, 0.6083019, 0.8932143, 0.5847222,…\n",
      "$ PROM_OCUP_2020  \u001b[3m\u001b[90m<dbl>\u001b[39m\u001b[23m 3.1376271, 2.6466667, 2.8441509, 3.3117857, 2.3869444,…\n",
      "$ VPH_PC_2020     \u001b[3m\u001b[90m<dbl>\u001b[39m\u001b[23m 782, 330, 531, 309, 360, 250, 493, 324, 663, 360, 421,…\n",
      "$ OTRAENT_2020    \u001b[3m\u001b[90m<dbl>\u001b[39m\u001b[23m 1273, 471, 718, 728, 368, 279, 830, 547, 745, 379, 415…\n",
      "$ P_0A5_2020      \u001b[3m\u001b[90m<dbl>\u001b[39m\u001b[23m 259, 83, 118, 233, 33, 23, 157, 58, 140, 190, 44, 24, …\n"
     ]
    }
   ],
   "source": [
    "#unir los datos de 2010 y 2020 por el identificador común (por ejemplo, AGEB)\n",
    "data_combined <- inner_join(data10, data20, by = \"AGEB\", suffix = c(\"_2010\", \"_2020\"))\n",
    "\n",
    "glimpse(data_combined)"
   ]
  },
  {
   "cell_type": "markdown",
   "metadata": {},
   "source": [
    "AGRUPAMOS POR AGEB"
   ]
  },
  {
   "cell_type": "code",
   "execution_count": 6,
   "metadata": {
    "vscode": {
     "languageId": "r"
    }
   },
   "outputs": [],
   "source": [
    "# Crear nuevas variables con mutate\n",
    "data_combined <- data_combined %>%\n",
    "  mutate(\n",
    "    cambio_poblacion = (P_TOTAL_2020 - P_TOTAL_2010) / P_TOTAL_2010,\n",
    "    cambio_ninos = (P_0A5_2020 - P_0A5_2010) / P_0A5_2010,\n",
    "    cambio_adultos_mayores = (POB65_MAS_2020 - POB65_MAS_2010) / POB65_MAS_2010,\n",
    "    cambio_educacion = (GRAPROES_2020 - GRAPROES_2010) / GRAPROES_2010,\n",
    "    cambio_hijos = (PROM_HNV_2020 - PROM_HNV_2010) / PROM_HNV_2010,\n",
    "    cambio_viviendas = (VIVTOT_2020 - VIVTOT_2010) / VIVTOT_2010,\n",
    "    cambio_ocupantes = (PROM_OCUP_2020 - PROM_OCUP_2010) / PROM_OCUP_2010,\n",
    "    cambio_computadora = (VPH_PC_2020 - VPH_PC_2010) / VPH_PC_2010\n",
    "  )\n",
    "\n",
    "# Calcular las medias de los cambios a nivel ciudad\n",
    "media_cambio_poblacion <- mean(data_combined$cambio_poblacion, na.rm = TRUE)\n",
    "media_cambio_ninos <- mean(data_combined$cambio_ninos, na.rm = TRUE)\n",
    "media_cambio_adultos_mayores <- mean(data_combined$cambio_adultos_mayores, na.rm = TRUE)\n",
    "media_cambio_educacion <- mean(data_combined$cambio_educacion, na.rm = TRUE)\n",
    "media_cambio_hijos <- mean(data_combined$cambio_hijos, na.rm = TRUE)\n",
    "media_cambio_viviendas <- mean(data_combined$cambio_viviendas, na.rm = TRUE)\n",
    "media_cambio_ocupantes <- mean(data_combined$cambio_ocupantes, na.rm = TRUE)\n",
    "media_cambio_computadora <- mean(data_combined$cambio_computadora, na.rm = TRUE)"
   ]
  },
  {
   "cell_type": "code",
   "execution_count": 7,
   "metadata": {
    "vscode": {
     "languageId": "r"
    }
   },
   "outputs": [
    {
     "name": "stdout",
     "output_type": "stream",
     "text": [
      "Rows: 190\n",
      "Columns: 40\n",
      "$ index_2010              \u001b[3m\u001b[90m<int>\u001b[39m\u001b[23m 4, 68, 97, 151, 180, 227, 241, 303, 359, 379, …\n",
      "$ AGEB                    \u001b[3m\u001b[90m<chr>\u001b[39m\u001b[23m \"0435\", \"044A\", \"0454\", \"0488\", \"0492\", \"0505\"…\n",
      "$ P_TOTAL_2010            \u001b[3m\u001b[90m<dbl>\u001b[39m\u001b[23m 3632, 1539, 2211, 2045, 557, 730, 3040, 1871, …\n",
      "$ POB65_MAS_2010          \u001b[3m\u001b[90m<dbl>\u001b[39m\u001b[23m 325, 224, 188, 140, 15, 135, 276, 223, 194, 27…\n",
      "$ GRAPROES_2010           \u001b[3m\u001b[90m<dbl>\u001b[39m\u001b[23m 9.617302, 9.569643, 10.994717, 8.206786, 7.670…\n",
      "$ PROM_HNV_2010           \u001b[3m\u001b[90m<dbl>\u001b[39m\u001b[23m 2.1933333, 2.2642857, 1.9290566, 2.4053571, 0.…\n",
      "$ VIVTOT_2010             \u001b[3m\u001b[90m<dbl>\u001b[39m\u001b[23m 1321, 549, 742, 635, 281, 300, 1083, 679, 903,…\n",
      "$ PRO_OCUP_C_2010         \u001b[3m\u001b[90m<dbl>\u001b[39m\u001b[23m 0.85301587, 0.75071429, 0.66188679, 1.05607143…\n",
      "$ PROM_OCUP_2010          \u001b[3m\u001b[90m<dbl>\u001b[39m\u001b[23m 3.3525397, 3.1521429, 3.1458491, 3.7960714, 1.…\n",
      "$ VPH_PC_2010             \u001b[3m\u001b[90m<dbl>\u001b[39m\u001b[23m 584, 254, 438, 189, 189, 199, 497, 232, 612, 3…\n",
      "$ OTRAENT_2010            \u001b[3m\u001b[90m<dbl>\u001b[39m\u001b[23m 1241, 478, 760, 743, 271, 282, 1074, 669, 873,…\n",
      "$ P_0A5_2010              \u001b[3m\u001b[90m<dbl>\u001b[39m\u001b[23m 419, 135, 118, 290, 39, 20, 364, 174, 196, 146…\n",
      "$ index_2020              \u001b[3m\u001b[90m<int>\u001b[39m\u001b[23m 442, 502, 530, 584, 613, 650, 664, 727, 784, 8…\n",
      "$ P_TOTAL_2020            \u001b[3m\u001b[90m<dbl>\u001b[39m\u001b[23m 3798, 1429, 2339, 2214, 956, 784, 2567, 1827, …\n",
      "$ POB65_MAS_2020          \u001b[3m\u001b[90m<dbl>\u001b[39m\u001b[23m 457, 257, 296, 251, 131, 164, 319, 281, 279, 2…\n",
      "$ GRAPROES_2020           \u001b[3m\u001b[90m<dbl>\u001b[39m\u001b[23m 10.768983, 10.522963, 12.051698, 9.373571, 12.…\n",
      "$ PROM_HNV_2020           \u001b[3m\u001b[90m<dbl>\u001b[39m\u001b[23m 1.9822034, 2.0748148, 1.6115094, 2.2557143, 1.…\n",
      "$ VIVTOT_2020             \u001b[3m\u001b[90m<dbl>\u001b[39m\u001b[23m 1382, 573, 883, 750, 454, 353, 1083, 701, 952,…\n",
      "$ PRO_OCUP_C_2020         \u001b[3m\u001b[90m<dbl>\u001b[39m\u001b[23m 0.7766102, 0.6259259, 0.6083019, 0.8932143, 0.…\n",
      "$ PROM_OCUP_2020          \u001b[3m\u001b[90m<dbl>\u001b[39m\u001b[23m 3.1376271, 2.6466667, 2.8441509, 3.3117857, 2.…\n",
      "$ VPH_PC_2020             \u001b[3m\u001b[90m<dbl>\u001b[39m\u001b[23m 782, 330, 531, 309, 360, 250, 493, 324, 663, 3…\n",
      "$ OTRAENT_2020            \u001b[3m\u001b[90m<dbl>\u001b[39m\u001b[23m 1273, 471, 718, 728, 368, 279, 830, 547, 745, …\n",
      "$ P_0A5_2020              \u001b[3m\u001b[90m<dbl>\u001b[39m\u001b[23m 259, 83, 118, 233, 33, 23, 157, 58, 140, 190, …\n",
      "$ cambio_poblacion        \u001b[3m\u001b[90m<dbl>\u001b[39m\u001b[23m 0.04570485, -0.07147498, 0.05789236, 0.0826405…\n",
      "$ cambio_ninos            \u001b[3m\u001b[90m<dbl>\u001b[39m\u001b[23m -0.38186158, -0.38518519, 0.00000000, -0.19655…\n",
      "$ cambio_adultos_mayores  \u001b[3m\u001b[90m<dbl>\u001b[39m\u001b[23m 0.406153846, 0.147321429, 0.574468085, 0.79285…\n",
      "$ cambio_educacion        \u001b[3m\u001b[90m<dbl>\u001b[39m\u001b[23m 0.11975100, 0.09961919, 0.09613537, 0.14217329…\n",
      "$ cambio_hijos            \u001b[3m\u001b[90m<dbl>\u001b[39m\u001b[23m -0.0962598527, -0.0836779998, -0.1646126761, -…\n",
      "$ cambio_viviendas        \u001b[3m\u001b[90m<dbl>\u001b[39m\u001b[23m 0.046177139, 0.043715847, 0.190026954, 0.18110…\n",
      "$ cambio_ocupantes        \u001b[3m\u001b[90m<dbl>\u001b[39m\u001b[23m -0.06410441, -0.16035954, -0.09590356, -0.1275…\n",
      "$ cambio_computadora      \u001b[3m\u001b[90m<dbl>\u001b[39m\u001b[23m 0.33904110, 0.29921260, 0.21232877, 0.63492063…\n",
      "$ puntaje_poblacion       \u001b[3m\u001b[90m<dbl>\u001b[39m\u001b[23m -1, -1, -1, -1, -1, -1, -1, -1, -1, -1, -1, -1…\n",
      "$ puntaje_ninos           \u001b[3m\u001b[90m<dbl>\u001b[39m\u001b[23m 1, 1, 1, 1, 1, 1, 1, 1, 1, 1, 1, 1, 1, 1, -1, …\n",
      "$ puntaje_adultos_mayores \u001b[3m\u001b[90m<dbl>\u001b[39m\u001b[23m 1, 1, 1, 1, 1, 1, 1, 1, 1, 1, 1, 1, 1, 1, -1, …\n",
      "$ puntaje_educacion       \u001b[3m\u001b[90m<dbl>\u001b[39m\u001b[23m -1, -1, -1, -1, -1, -1, -1, -1, -1, -1, -1, -1…\n",
      "$ puntaje_hijos           \u001b[3m\u001b[90m<dbl>\u001b[39m\u001b[23m 1, 1, 1, 1, 1, 1, 1, 1, 1, 1, 1, 1, 1, 1, 1, 1…\n",
      "$ puntaje_viviendas       \u001b[3m\u001b[90m<dbl>\u001b[39m\u001b[23m -1, -1, -1, -1, -1, -1, -1, -1, -1, -1, -1, -1…\n",
      "$ puntaje_ocupantes       \u001b[3m\u001b[90m<dbl>\u001b[39m\u001b[23m 1, 1, 1, 1, 1, 1, 1, 1, 1, 1, 1, 1, 1, 1, 1, 1…\n",
      "$ puntaje_computadora     \u001b[3m\u001b[90m<dbl>\u001b[39m\u001b[23m -1, -1, -1, -1, -1, -1, -1, -1, -1, -1, -1, -1…\n",
      "$ ITSE                    \u001b[3m\u001b[90m<dbl>\u001b[39m\u001b[23m 0, 0, 0, 0, 0, 0, 0, 0, 0, 0, 0, 0, 0, 0, -4, …\n"
     ]
    },
    {
     "data": {
      "text/plain": [
       "   Min. 1st Qu.  Median    Mean 3rd Qu.    Max.    NA's \n",
       "-4.0000  0.0000  0.0000 -0.4545  0.0000  0.0000      14 "
      ]
     },
     "metadata": {},
     "output_type": "display_data"
    }
   ],
   "source": [
    "\n",
    "# Asignar puntajes según el método ITSE\n",
    "data_combined <- data_combined %>%\n",
    "  mutate(\n",
    "    puntaje_poblacion = if_else(cambio_poblacion > media_cambio_poblacion, 1, -1),\n",
    "    puntaje_ninos = if_else(cambio_ninos < media_cambio_ninos, 1, -1),\n",
    "    puntaje_adultos_mayores = if_else(cambio_adultos_mayores < media_cambio_adultos_mayores, 1, -1),\n",
    "    puntaje_educacion = if_else(cambio_educacion > media_cambio_educacion, 1, -1),\n",
    "    puntaje_hijos = if_else(cambio_hijos < media_cambio_hijos, 1, -1),\n",
    "    puntaje_viviendas = if_else(cambio_viviendas > media_cambio_viviendas, 1, -1),\n",
    "    puntaje_ocupantes = if_else(cambio_ocupantes < media_cambio_ocupantes, 1, -1),\n",
    "    puntaje_computadora = if_else(cambio_computadora > media_cambio_computadora, 1, -1)\n",
    "  ) %>%\n",
    "  # Calcular el ITSE sumando los puntajes\n",
    "  mutate(ITSE = puntaje_poblacion + puntaje_ninos + puntaje_adultos_mayores +\n",
    "               puntaje_educacion + puntaje_hijos + puntaje_viviendas +\n",
    "               puntaje_ocupantes + puntaje_computadora)\n",
    "\n",
    "# Revisar los nuevos puntajes y el ITSE\n",
    "glimpse(data_combined)\n",
    "summary(data_combined$ITSE) "
   ]
  },
  {
   "cell_type": "code",
   "execution_count": 8,
   "metadata": {
    "vscode": {
     "languageId": "r"
    }
   },
   "outputs": [
    {
     "name": "stdout",
     "output_type": "stream",
     "text": [
      "Rows: 190\n",
      "Columns: 40\n",
      "$ index_2010              \u001b[3m\u001b[90m<int>\u001b[39m\u001b[23m 4, 68, 97, 151, 180, 227, 241, 303, 359, 379, …\n",
      "$ AGEB                    \u001b[3m\u001b[90m<chr>\u001b[39m\u001b[23m \"0435\", \"044A\", \"0454\", \"0488\", \"0492\", \"0505\"…\n",
      "$ P_TOTAL_2010            \u001b[3m\u001b[90m<dbl>\u001b[39m\u001b[23m 3632, 1539, 2211, 2045, 557, 730, 3040, 1871, …\n",
      "$ POB65_MAS_2010          \u001b[3m\u001b[90m<dbl>\u001b[39m\u001b[23m 325, 224, 188, 140, 15, 135, 276, 223, 194, 27…\n",
      "$ GRAPROES_2010           \u001b[3m\u001b[90m<dbl>\u001b[39m\u001b[23m 9.617302, 9.569643, 10.994717, 8.206786, 7.670…\n",
      "$ PROM_HNV_2010           \u001b[3m\u001b[90m<dbl>\u001b[39m\u001b[23m 2.1933333, 2.2642857, 1.9290566, 2.4053571, 0.…\n",
      "$ VIVTOT_2010             \u001b[3m\u001b[90m<dbl>\u001b[39m\u001b[23m 1321, 549, 742, 635, 281, 300, 1083, 679, 903,…\n",
      "$ PRO_OCUP_C_2010         \u001b[3m\u001b[90m<dbl>\u001b[39m\u001b[23m 0.85301587, 0.75071429, 0.66188679, 1.05607143…\n",
      "$ PROM_OCUP_2010          \u001b[3m\u001b[90m<dbl>\u001b[39m\u001b[23m 3.3525397, 3.1521429, 3.1458491, 3.7960714, 1.…\n",
      "$ VPH_PC_2010             \u001b[3m\u001b[90m<dbl>\u001b[39m\u001b[23m 584, 254, 438, 189, 189, 199, 497, 232, 612, 3…\n",
      "$ OTRAENT_2010            \u001b[3m\u001b[90m<dbl>\u001b[39m\u001b[23m 1241, 478, 760, 743, 271, 282, 1074, 669, 873,…\n",
      "$ P_0A5_2010              \u001b[3m\u001b[90m<dbl>\u001b[39m\u001b[23m 419, 135, 118, 290, 39, 20, 364, 174, 196, 146…\n",
      "$ index_2020              \u001b[3m\u001b[90m<int>\u001b[39m\u001b[23m 442, 502, 530, 584, 613, 650, 664, 727, 784, 8…\n",
      "$ P_TOTAL_2020            \u001b[3m\u001b[90m<dbl>\u001b[39m\u001b[23m 3798, 1429, 2339, 2214, 956, 784, 2567, 1827, …\n",
      "$ POB65_MAS_2020          \u001b[3m\u001b[90m<dbl>\u001b[39m\u001b[23m 457, 257, 296, 251, 131, 164, 319, 281, 279, 2…\n",
      "$ GRAPROES_2020           \u001b[3m\u001b[90m<dbl>\u001b[39m\u001b[23m 10.768983, 10.522963, 12.051698, 9.373571, 12.…\n",
      "$ PROM_HNV_2020           \u001b[3m\u001b[90m<dbl>\u001b[39m\u001b[23m 1.9822034, 2.0748148, 1.6115094, 2.2557143, 1.…\n",
      "$ VIVTOT_2020             \u001b[3m\u001b[90m<dbl>\u001b[39m\u001b[23m 1382, 573, 883, 750, 454, 353, 1083, 701, 952,…\n",
      "$ PRO_OCUP_C_2020         \u001b[3m\u001b[90m<dbl>\u001b[39m\u001b[23m 0.7766102, 0.6259259, 0.6083019, 0.8932143, 0.…\n",
      "$ PROM_OCUP_2020          \u001b[3m\u001b[90m<dbl>\u001b[39m\u001b[23m 3.1376271, 2.6466667, 2.8441509, 3.3117857, 2.…\n",
      "$ VPH_PC_2020             \u001b[3m\u001b[90m<dbl>\u001b[39m\u001b[23m 782, 330, 531, 309, 360, 250, 493, 324, 663, 3…\n",
      "$ OTRAENT_2020            \u001b[3m\u001b[90m<dbl>\u001b[39m\u001b[23m 1273, 471, 718, 728, 368, 279, 830, 547, 745, …\n",
      "$ P_0A5_2020              \u001b[3m\u001b[90m<dbl>\u001b[39m\u001b[23m 259, 83, 118, 233, 33, 23, 157, 58, 140, 190, …\n",
      "$ cambio_poblacion        \u001b[3m\u001b[90m<dbl>\u001b[39m\u001b[23m 0.04570485, -0.07147498, 0.05789236, 0.0826405…\n",
      "$ cambio_ninos            \u001b[3m\u001b[90m<dbl>\u001b[39m\u001b[23m -0.38186158, -0.38518519, 0.00000000, -0.19655…\n",
      "$ cambio_adultos_mayores  \u001b[3m\u001b[90m<dbl>\u001b[39m\u001b[23m 0.406153846, 0.147321429, 0.574468085, 0.79285…\n",
      "$ cambio_educacion        \u001b[3m\u001b[90m<dbl>\u001b[39m\u001b[23m 0.11975100, 0.09961919, 0.09613537, 0.14217329…\n",
      "$ cambio_hijos            \u001b[3m\u001b[90m<dbl>\u001b[39m\u001b[23m -0.0962598527, -0.0836779998, -0.1646126761, -…\n",
      "$ cambio_viviendas        \u001b[3m\u001b[90m<dbl>\u001b[39m\u001b[23m 0.046177139, 0.043715847, 0.190026954, 0.18110…\n",
      "$ cambio_ocupantes        \u001b[3m\u001b[90m<dbl>\u001b[39m\u001b[23m -0.06410441, -0.16035954, -0.09590356, -0.1275…\n",
      "$ cambio_computadora      \u001b[3m\u001b[90m<dbl>\u001b[39m\u001b[23m 0.33904110, 0.29921260, 0.21232877, 0.63492063…\n",
      "$ puntaje_poblacion       \u001b[3m\u001b[90m<dbl>\u001b[39m\u001b[23m -1, -1, -1, 1, 1, -1, -1, -1, -1, -1, -1, -1, …\n",
      "$ puntaje_ninos           \u001b[3m\u001b[90m<dbl>\u001b[39m\u001b[23m 1, 1, -1, 1, 1, -1, 1, 1, 1, -1, 1, 1, -1, 1, …\n",
      "$ puntaje_adultos_mayores \u001b[3m\u001b[90m<dbl>\u001b[39m\u001b[23m 1, 1, 1, 1, -1, 1, 1, 1, 1, 1, 1, 1, 1, 1, -1,…\n",
      "$ puntaje_educacion       \u001b[3m\u001b[90m<dbl>\u001b[39m\u001b[23m 1, -1, -1, 1, 1, -1, -1, -1, -1, -1, -1, -1, 1…\n",
      "$ puntaje_hijos           \u001b[3m\u001b[90m<dbl>\u001b[39m\u001b[23m 1, 1, 1, 1, -1, -1, 1, 1, -1, -1, 1, 1, 1, -1,…\n",
      "$ puntaje_viviendas       \u001b[3m\u001b[90m<dbl>\u001b[39m\u001b[23m -1, -1, 1, 1, 1, 1, -1, -1, -1, -1, -1, -1, 1,…\n",
      "$ puntaje_ocupantes       \u001b[3m\u001b[90m<dbl>\u001b[39m\u001b[23m -1, 1, 1, 1, -1, -1, 1, 1, 1, 1, 1, 1, 1, -1, …\n",
      "$ puntaje_computadora     \u001b[3m\u001b[90m<dbl>\u001b[39m\u001b[23m -1, -1, -1, 1, 1, -1, -1, 1, -1, -1, -1, -1, 1…\n",
      "$ ITSE                    \u001b[3m\u001b[90m<dbl>\u001b[39m\u001b[23m 0, 0, 0, 8, 2, -4, 0, 2, -2, -4, 0, 0, 4, 0, 0…\n"
     ]
    },
    {
     "data": {
      "text/plain": [
       "    Min.  1st Qu.   Median     Mean  3rd Qu.     Max.     NA's \n",
       "-8.00000 -2.00000  0.00000  0.03409  2.00000  8.00000       14 "
      ]
     },
     "metadata": {},
     "output_type": "display_data"
    }
   ],
   "source": [
    "# Usar cuantiles para asignar puntajes\n",
    "data_combined <- data_combined %>%\n",
    "  mutate(\n",
    "    puntaje_poblacion = if_else(cambio_poblacion > quantile(cambio_poblacion, 0.5, na.rm = TRUE), 1, -1),\n",
    "    puntaje_ninos = if_else(cambio_ninos < quantile(cambio_ninos, 0.5, na.rm = TRUE), 1, -1),\n",
    "    puntaje_adultos_mayores = if_else(cambio_adultos_mayores < quantile(cambio_adultos_mayores, 0.5, na.rm = TRUE), 1, -1),\n",
    "    puntaje_educacion = if_else(cambio_educacion > quantile(cambio_educacion, 0.5, na.rm = TRUE), 1, -1),\n",
    "    puntaje_hijos = if_else(cambio_hijos < quantile(cambio_hijos, 0.5, na.rm = TRUE), 1, -1),\n",
    "    puntaje_viviendas = if_else(cambio_viviendas > quantile(cambio_viviendas, 0.5, na.rm = TRUE), 1, -1),\n",
    "    puntaje_ocupantes = if_else(cambio_ocupantes < quantile(cambio_ocupantes, 0.5, na.rm = TRUE), 1, -1),\n",
    "    puntaje_computadora = if_else(cambio_computadora > quantile(cambio_computadora, 0.5, na.rm = TRUE), 1, -1)\n",
    "  ) %>%\n",
    "  mutate(ITSE = puntaje_poblacion + puntaje_ninos + puntaje_adultos_mayores +\n",
    "               puntaje_educacion + puntaje_hijos + puntaje_viviendas +\n",
    "               puntaje_ocupantes + puntaje_computadora)\n",
    "\n",
    "# Revisar los nuevos puntajes y el ITSE\n",
    "glimpse(data_combined)\n",
    "summary(data_combined$ITSE)"
   ]
  },
  {
   "cell_type": "code",
   "execution_count": 14,
   "metadata": {
    "vscode": {
     "languageId": "r"
    }
   },
   "outputs": [
    {
     "name": "stderr",
     "output_type": "stream",
     "text": [
      "Warning message:\n",
      "“\u001b[1m\u001b[22mRemoved 10 rows containing non-finite outside the scale range (`stat_bin()`).”\n"
     ]
    },
    {
     "data": {
      "image/png": "[encoded data removed]",
      "text/plain": [
       "plot without title"
      ]
     },
     "metadata": {
      "image/png": {
       "height": 420,
       "width": 420
      }
     },
     "output_type": "display_data"
    }
   ],
   "source": [
    "#graficar distribución de ITSE\n",
    "ggplot(data_combined, aes(x = ITSE)) +\n",
    "  geom_histogram(binwidth = 1, fill = \"skyblue\", color = \"black\") +\n",
    "  labs(title = \"Distribución del ITSE en las AGEBs de la Ciudad de México\",\n",
    "       x = \"ITSE\",\n",
    "       y = \"Número de AGEBs\")\n",
    "\n",
    "# Guardar los datos"
   ]
  },
  {
   "cell_type": "code",
   "execution_count": 10,
   "metadata": {
    "vscode": {
     "languageId": "r"
    }
   },
   "outputs": [],
   "source": [
    "#exportar los datos\n",
    "write.csv(data_combined, \"DATA/ENS_AGEBS_ITSE.csv\", row.names = FALSE)"
   ]
  },
  {
   "cell_type": "markdown",
   "metadata": {},
   "source": [
    "# que rollo"
   ]
  },
  {
   "cell_type": "markdown",
   "metadata": {},
   "source": [
    "# MODELO"
   ]
  },
  {
   "cell_type": "code",
   "execution_count": 11,
   "metadata": {
    "vscode": {
     "languageId": "r"
    }
   },
   "outputs": [
    {
     "data": {
      "text/plain": [
       "\n",
       "Call:\n",
       "lm(formula = cambio_poblacion ~ cambio_viviendas + cambio_educacion, \n",
       "    data = data_combined)\n",
       "\n",
       "Residuals:\n",
       "    Min      1Q  Median      3Q     Max \n",
       "-8.4398 -0.1219  0.0052  0.1193 19.2300 \n",
       "\n",
       "Coefficients:\n",
       "                 Estimate Std. Error t value Pr(>|t|)    \n",
       "(Intercept)      -0.14429    0.14109  -1.023    0.308    \n",
       "cambio_viviendas  1.67243    0.12134  13.783  < 2e-16 ***\n",
       "cambio_educacion  0.32795    0.05481   5.984 1.12e-08 ***\n",
       "---\n",
       "Signif. codes:  0 ‘***’ 0.001 ‘**’ 0.01 ‘*’ 0.05 ‘.’ 0.1 ‘ ’ 1\n",
       "\n",
       "Residual standard error: 1.841 on 183 degrees of freedom\n",
       "Multiple R-squared:  0.6326,\tAdjusted R-squared:  0.6286 \n",
       "F-statistic: 157.5 on 2 and 183 DF,  p-value: < 2.2e-16\n"
      ]
     },
     "metadata": {},
     "output_type": "display_data"
    }
   ],
   "source": [
    "# Eliminar filas con NA/NaN/Inf en las columnas 'cambio_viviendas' y 'cambio_educacion'\n",
    "data_combined <- data_combined[!is.na(data_combined$cambio_viviendas) & !is.na(data_combined$cambio_educacion) & !is.infinite(data_combined$cambio_viviendas) & !is.infinite(data_combined$cambio_educacion), ]\n",
    "\n",
    "# Modelo de regresión lineal\n",
    "model <- lm(cambio_poblacion ~ cambio_viviendas + cambio_educacion, data = data_combined)\n",
    "\n",
    "# Resumen del modelo\n",
    "summary(model)"
   ]
  },
  {
   "cell_type": "markdown",
   "metadata": {},
   "source": []
  }
 ],
 "metadata": {
  "kernelspec": {
   "display_name": "R",
   "language": "R",
   "name": "ir"
  },
  "language_info": {
   "codemirror_mode": "r",
   "file_extension": ".r",
   "mimetype": "text/x-r-source",
   "name": "R",
   "pygments_lexer": "r",
   "version": "4.1.2"
  }
 },
 "nbformat": 4,
 "nbformat_minor": 2
}
