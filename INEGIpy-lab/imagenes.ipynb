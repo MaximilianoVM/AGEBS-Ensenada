{
 "cells": [
  {
   "cell_type": "code",
   "execution_count": 5,
   "metadata": {},
   "outputs": [],
   "source": [
    "from PIL import Image\n",
    "import pytesseract"
   ]
  },
  {
   "cell_type": "code",
   "execution_count": 8,
   "metadata": {},
   "outputs": [
    {
     "name": "stdout",
     "output_type": "stream",
     "text": [
      "Texto extraído:\n",
      " \n",
      "\f\n",
      "Últimos 4 dígitos de cada código:\n"
     ]
    }
   ],
   "source": [
    "# Cargar la imagen\n",
    "image_path = 'agebs.jpeg'\n",
    "image = Image.open(image_path)\n",
    "\n",
    "# Utilizar pytesseract para extraer el texto de la imagen\n",
    "text = pytesseract.image_to_string(image)\n",
    "\n",
    "# Imprimir el texto extraído\n",
    "print(\"Texto extraído:\")\n",
    "print(text)\n",
    "\n",
    "# Buscar los códigos y extraer los últimos 4 dígitos\n",
    "import re\n",
    "codes = re.findall(r'\\b\\d{12}\\b', text)  # Encontrar códigos de 12 dígitos\n",
    "last_four_digits = [code[-4:] for code in codes]\n",
    "\n",
    "# Imprimir los últimos 4 dígitos de cada código\n",
    "print(\"Últimos 4 dígitos de cada código:\")\n",
    "for digits in last_four_digits:\n",
    "    print(digits)"
   ]
  },
  {
   "cell_type": "code",
   "execution_count": null,
   "metadata": {},
   "outputs": [],
   "source": []
  }
 ],
 "metadata": {
  "kernelspec": {
   "display_name": "Python 3",
   "language": "python",
   "name": "python3"
  },
  "language_info": {
   "codemirror_mode": {
    "name": "ipython",
    "version": 3
   },
   "file_extension": ".py",
   "mimetype": "text/x-python",
   "name": "python",
   "nbconvert_exporter": "python",
   "pygments_lexer": "ipython3",
   "version": "3.10.12"
  }
 },
 "nbformat": 4,
 "nbformat_minor": 2
}
